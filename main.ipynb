{
 "cells": [
  {
   "cell_type": "markdown",
   "metadata": {
    "id": "hzolRRT_ANfT"
   },
   "source": [
    "# Path e librerie\n",
    "## Prima di modificare avvertire gli altri!"
   ]
  },
  {
   "cell_type": "markdown",
   "metadata": {
    "id": "NvLbCq-Etlj-"
   },
   "source": [
    "## Install"
   ]
  },
  {
   "cell_type": "code",
   "execution_count": null,
   "metadata": {
    "colab": {
     "base_uri": "https://localhost:8080/"
    },
    "executionInfo": {
     "elapsed": 29,
     "status": "ok",
     "timestamp": 1637252064021,
     "user": {
      "displayName": "Antonello Manenti",
      "photoUrl": "https://lh3.googleusercontent.com/a/default-user=s64",
      "userId": "17495113583668482416"
     },
     "user_tz": -60
    },
    "id": "WkMr6gJYuiBg",
    "outputId": "f8b5c3b1-e569-4078-b525-56e7d2b77926",
    "tags": []
   },
   "outputs": [
    {
     "name": "stdout",
     "output_type": "stream",
     "text": [
      "Drive already mounted at /content/drive; to attempt to forcibly remount, call drive.mount(\"/content/drive\", force_remount=True).\n"
     ]
    }
   ],
   "source": [
    "from google.colab import drive\n",
    "drive_dir = 'drive' ; drive.mount('/content/drive')"
   ]
  },
  {
   "cell_type": "markdown",
   "metadata": {
    "id": "bFQ8FsKNtnrr"
   },
   "source": [
    "## Import"
   ]
  },
  {
   "cell_type": "code",
   "execution_count": null,
   "metadata": {
    "id": "W2rdoygctsrH"
   },
   "outputs": [],
   "source": [
    "import tweepy\n",
    "import numpy as np\n",
    "from tweepy import Stream, OAuthHandler\n",
    "from tqdm.notebook import tqdm\n",
    "# from tqdm import tqdm !! per Jupyter from tqdm.notebook non funziona, runnare questo\n",
    "import pandas as pd\n",
    "import io\n",
    "import pprint\n",
    "import os\n",
    "import glob\n",
    "import warnings\n",
    "warnings.filterwarnings('ignore')"
   ]
  },
  {
   "cell_type": "markdown",
   "metadata": {
    "id": "NTbyaABttqTU",
    "tags": []
   },
   "source": [
    "## Path"
   ]
  },
  {
   "cell_type": "code",
   "execution_count": null,
   "metadata": {
    "id": "eeZCfUCeuglG"
   },
   "outputs": [],
   "source": [
    "##########################\n",
    "### ROOT\n",
    "##########################\n",
    "\n",
    "prj_root_dir = f'/content/{drive_dir}/MyDrive/nucleare/'\n",
    "os.makedirs(prj_root_dir, exist_ok=True)\n",
    "\n",
    "##########################\n",
    "### SCRAPING\n",
    "##########################\n",
    "\n",
    "scrapingATP_root_dir = prj_root_dir + 'scrapingATP/'\n",
    "os.makedirs(scrapingATP_root_dir, exist_ok=True)\n",
    "\n",
    "##########################\n",
    "### ETL\n",
    "##########################\n",
    "\n",
    "etl_root_dir = prj_root_dir + 'ETL/'\n",
    "os.makedirs(etl_root_dir, exist_ok=True)\n",
    "\n",
    "##########################\n",
    "### DWH\n",
    "##########################\n",
    "\n",
    "dw_root_dir = prj_root_dir + 'DWH/'\n",
    "os.makedirs(dw_root_dir, exist_ok=True)\n",
    "\n",
    "##########################\n",
    "### SENTIMENT\n",
    "##########################\n",
    "\n",
    "dw_root_dir = prj_root_dir + 'SENTIMENT/'\n",
    "os.makedirs(dw_root_dir, exist_ok=True)\n",
    "\n",
    "##########################\n",
    "### WORDEMBEDDING\n",
    "##########################\n",
    "\n",
    "dw_root_dir = prj_root_dir + 'EMBEDDING/'\n",
    "os.makedirs(dw_root_dir, exist_ok=True)\n",
    "\n",
    "##########################\n",
    "### OUTPUT\n",
    "##########################\n",
    "\n",
    "dw_root_dir = prj_root_dir + 'OUTPUT/'\n",
    "os.makedirs(dw_root_dir, exist_ok=True)"
   ]
  },
  {
   "cell_type": "markdown",
   "metadata": {
    "id": "DF6_OdTnXf3W",
    "jp-MarkdownHeadingCollapsed": true,
    "tags": []
   },
   "source": [
    "### Path per Jupyter\n",
    "Solo quando si usa Jupyter runnare, il percorso dovrebbe essere lo stesso per tutti/e"
   ]
  },
  {
   "cell_type": "code",
   "execution_count": null,
   "metadata": {
    "id": "5ttVa0GiXf3X"
   },
   "outputs": [],
   "source": [
    "##########################\n",
    "### ROOT\n",
    "##########################\n",
    "\n",
    "drive_dir = f'G:\\\\My Drive'\n",
    "prj_root_dir = f'{drive_dir}\\\\nucleare\\\\'\n",
    "\n",
    "##########################\n",
    "### SCRAPING\n",
    "##########################\n",
    "\n",
    "scrapingATP_root_dir = prj_root_dir + 'scrapingATP\\\\'\n",
    "\n",
    "##########################\n",
    "### ETL\n",
    "##########################\n",
    "\n",
    "etl_root_dir = prj_root_dir + 'ETL\\\\'\n",
    "\n",
    "##########################\n",
    "### DWH\n",
    "##########################\n",
    "\n",
    "dw_root_dir = prj_root_dir + 'DWH\\\\'\n",
    "\n",
    "##########################\n",
    "### SENTIMENT\n",
    "##########################\n",
    "\n",
    "dw_root_dir = prj_root_dir + 'SENTIMENT\\\\'\n",
    "\n",
    "##########################\n",
    "### WORDEMBEDDING\n",
    "##########################\n",
    "\n",
    "dw_root_dir = prj_root_dir + 'EMBEDDING\\\\'\n",
    "\n",
    "##########################\n",
    "### OUTPUT\n",
    "##########################\n",
    "\n",
    "dw_root_dir = prj_root_dir + 'OUTPUT\\\\'"
   ]
  },
  {
   "cell_type": "markdown",
   "metadata": {
    "id": "-3VBjqnb-JBS"
   },
   "source": [
    "# 1. Ingest\n",
    "## Antonello\n",
    "\n",
    "cartella di scraping: nulceare/scraping"
   ]
  },
  {
   "cell_type": "markdown",
   "metadata": {
    "id": "NEWRZ27yARuf"
   },
   "source": [
    "## Codici Twitter"
   ]
  },
  {
   "cell_type": "code",
   "execution_count": null,
   "metadata": {
    "id": "8MQLVouV-ywL"
   },
   "outputs": [],
   "source": [
    "consumer_key = 'MQXChIn29dCky3pOQyW890Uxi'\n",
    "consumer_secret = 'u4n3UeFz58b4H6InWFhBDUPZsfJ8xdVS0wODdnfAjz6e6PUbCJ'\n",
    "access_token = '262247836-oWkm6AZIw4K0Fldnt8VBXwuL9IbtNCZwVj73ODkI'\n",
    "access_secret = 'GySGl7BGaYvmXUtCapu5pHwEDHD5tA3Qd4yCMIDPKm1Wx'\n",
    "auth = OAuthHandler(consumer_key, consumer_secret)\n",
    "auth.set_access_token(access_token, access_secret)\n",
    "api = tweepy.API(auth, wait_on_rate_limit=True)\n",
    "\n",
    "# consumer_key = 'Vzk6O5t967f1n4iz9iQcsQwhf'\n",
    "# consumer_secret = 'Q8sncdY1j85mwNitOqb5Spcg6U6uuZ0E2KNHHZEYF2J4DdCyVi'\n",
    "# access_token = '164224789-mFmU5YhessCNvubNojgfL605tbU0vh0NOna3HdQU'\n",
    "# access_secret = 'Ic5LNOH2QqxziSq4eTQdJvbXo3noTcQDUzCKXgFcdPzpC'\n",
    "# auth = OAuthHandler(consumer_key, consumer_secret)\n",
    "# auth.set_access_token(access_token, access_secret)\n",
    "# api = tweepy.API(auth, wait_on_rate_limit=True)\n",
    "\n",
    "# consumer_key = 'A4GRiWdUDgiGPckQSykzA'\n",
    "# consumer_secret = 'nSyjpFDTr3eEmd8tFeBM1lwVrTNPLaHrcx0DicTEEuw'\n",
    "# access_token = '1678747572-lbkg1jxpe5HypoTRSnRMeiVIe0RBMxhdjLJ0GJ6'\n",
    "# access_secret = '1qVP0pHXV9HDgKhHDIy2HHqqnHFBm3sI5AR2ZDwZxlM'\n",
    "# auth = OAuthHandler(consumer_key, consumer_secret)\n",
    "# auth.set_access_token(access_token, access_secret)\n",
    "# api = tweepy.API(auth, wait_on_rate_limit=True)"
   ]
  },
  {
   "cell_type": "markdown",
   "metadata": {
    "id": "SUTCU3yzAdJT"
   },
   "source": [
    "## Scraping dello storico"
   ]
  },
  {
   "cell_type": "code",
   "execution_count": null,
   "metadata": {
    "id": "67C67NvV-8Da"
   },
   "outputs": [],
   "source": [
    "utente = 'antonello' #mettere il proprio nome\n",
    "lang = 'all' #mettere la lingua\n",
    "prog = '11' #mettere il progressivo\n",
    "\n",
    "#mettere la query\n",
    "query_00 = ('@janniksin' or '@AlexZverev' or '@DjokerNole' or '@DaniilMedwed' or '@HubertHurkacz' or '@steftsitsipas' or '@CasperRuud98' or '@AndreyRublev97' or 'NittoATPFinals' or 'TennisTakesOverTorino' or '#ATPFinals' or 'ATPFinals' or 'ATP Finals' or 'Djokovic' or 'Medvedev' or 'Zverev' or 'Tsitsipas' or 'Rublev' or 'Berrettini' or 'Hurkacz' or 'Ruud' or 'Sinner')\n",
    "query_01 = ('Zverev' or 'Hurkacz' or '#NittoATPFinals' or 'NittoATPFinals' or 'TennisTakesOverTorino' or '#ATPFinals' or 'ATPFinals' or 'ATP Finals')"
   ]
  },
  {
   "cell_type": "code",
   "execution_count": null,
   "metadata": {
    "colab": {
     "base_uri": "https://localhost:8080/",
     "height": 453,
     "referenced_widgets": [
      "2064003c31b64cfeaff8e8e1c9b40451",
      "35ab66e4b4ed4da4bd4777dd95a95fa9",
      "af058e6a38404a6a9cbda1e9d39d89bb",
      "d7dd05c8cd8c40ab94f0237b6159f8fc",
      "994b9924b6d4402faf0de11c11fb4d98",
      "ecea66d750f7440b85f13c5315f8ede4",
      "e07c0a35bca7457abe9a7a73653d6d36",
      "cdf35b364dbc49d481f5cf5bd58b134a",
      "6d715950283e4fd4a2bf8883b9cca5ac",
      "3845bf2ba872471bb760c1d6da810afa",
      "ee209b8041734b9db209903dd43a658d"
     ]
    },
    "executionInfo": {
     "elapsed": 14670,
     "status": "error",
     "timestamp": 1637252977025,
     "user": {
      "displayName": "Antonello Manenti",
      "photoUrl": "https://lh3.googleusercontent.com/a/default-user=s64",
      "userId": "17495113583668482416"
     },
     "user_tz": -60
    },
    "id": "O2bvjFrw_9F8",
    "outputId": "362df129-dafd-49c6-a319-077330fd5d8e"
   },
   "outputs": [
    {
     "data": {
      "application/vnd.jupyter.widget-view+json": {
       "model_id": "2064003c31b64cfeaff8e8e1c9b40451",
       "version_major": 2,
       "version_minor": 0
      },
      "text/plain": [
       "  0%|          | 0/500000 [00:00<?, ?it/s]"
      ]
     },
     "metadata": {},
     "output_type": "display_data"
    },
    {
     "ename": "KeyboardInterrupt",
     "evalue": "ignored",
     "output_type": "error",
     "traceback": [
      "\u001b[0;31m---------------------------------------------------------------------------\u001b[0m",
      "\u001b[0;31mKeyboardInterrupt\u001b[0m                         Traceback (most recent call last)",
      "\u001b[0;32m<ipython-input-35-da5ad2c7b892>\u001b[0m in \u001b[0;36m<module>\u001b[0;34m()\u001b[0m\n\u001b[1;32m      8\u001b[0m     \u001b[0;32mtry\u001b[0m\u001b[0;34m:\u001b[0m\u001b[0;34m\u001b[0m\u001b[0;34m\u001b[0m\u001b[0m\n\u001b[1;32m      9\u001b[0m         \u001b[0;31m# api.search è un metodo che su colab funziona anche se non è documentato in Tweepy. Su Jupyter non funziona, sostituire con search_tweets\u001b[0m\u001b[0;34m\u001b[0m\u001b[0;34m\u001b[0m\u001b[0;34m\u001b[0m\u001b[0m\n\u001b[0;32m---> 10\u001b[0;31m         \u001b[0mnew_tweets\u001b[0m \u001b[0;34m=\u001b[0m \u001b[0mapi\u001b[0m\u001b[0;34m.\u001b[0m\u001b[0msearch\u001b[0m\u001b[0;34m(\u001b[0m\u001b[0mq\u001b[0m\u001b[0;34m=\u001b[0m\u001b[0mquery_01\u001b[0m\u001b[0;34m,\u001b[0m \u001b[0mcount\u001b[0m\u001b[0;34m=\u001b[0m\u001b[0;36m1000\u001b[0m\u001b[0;34m,\u001b[0m \u001b[0mmax_id\u001b[0m\u001b[0;34m=\u001b[0m\u001b[0mstr\u001b[0m\u001b[0;34m(\u001b[0m\u001b[0mlast_id\u001b[0m \u001b[0;34m-\u001b[0m \u001b[0;36m1\u001b[0m\u001b[0;34m)\u001b[0m\u001b[0;34m,\u001b[0m \u001b[0mlang\u001b[0m\u001b[0;34m=\u001b[0m\u001b[0mlang\u001b[0m\u001b[0;34m,\u001b[0m \u001b[0mtweet_mode\u001b[0m\u001b[0;34m=\u001b[0m\u001b[0;34m\"extended\"\u001b[0m\u001b[0;34m)\u001b[0m \u001b[0;31m# tweet_mode=\"extended\" importante, altrimenti il testo del tweet viene troncato\u001b[0m\u001b[0;34m\u001b[0m\u001b[0;34m\u001b[0m\u001b[0m\n\u001b[0m\u001b[1;32m     11\u001b[0m         \u001b[0;31m# If I've reached the end of the search then I'm done\u001b[0m\u001b[0;34m\u001b[0m\u001b[0;34m\u001b[0m\u001b[0;34m\u001b[0m\u001b[0m\n\u001b[1;32m     12\u001b[0m         \u001b[0;31m# immediately the cycle while\u001b[0m\u001b[0;34m\u001b[0m\u001b[0;34m\u001b[0m\u001b[0;34m\u001b[0m\u001b[0m\n",
      "\u001b[0;32m/usr/local/lib/python3.7/dist-packages/tweepy/binder.py\u001b[0m in \u001b[0;36m_call\u001b[0;34m(*args, **kwargs)\u001b[0m\n\u001b[1;32m    251\u001b[0m                 \u001b[0;32mreturn\u001b[0m \u001b[0mmethod\u001b[0m\u001b[0;34m\u001b[0m\u001b[0;34m\u001b[0m\u001b[0m\n\u001b[1;32m    252\u001b[0m             \u001b[0;32melse\u001b[0m\u001b[0;34m:\u001b[0m\u001b[0;34m\u001b[0m\u001b[0;34m\u001b[0m\u001b[0m\n\u001b[0;32m--> 253\u001b[0;31m                 \u001b[0;32mreturn\u001b[0m \u001b[0mmethod\u001b[0m\u001b[0;34m.\u001b[0m\u001b[0mexecute\u001b[0m\u001b[0;34m(\u001b[0m\u001b[0;34m)\u001b[0m\u001b[0;34m\u001b[0m\u001b[0;34m\u001b[0m\u001b[0m\n\u001b[0m\u001b[1;32m    254\u001b[0m         \u001b[0;32mfinally\u001b[0m\u001b[0;34m:\u001b[0m\u001b[0;34m\u001b[0m\u001b[0;34m\u001b[0m\u001b[0m\n\u001b[1;32m    255\u001b[0m             \u001b[0mmethod\u001b[0m\u001b[0;34m.\u001b[0m\u001b[0msession\u001b[0m\u001b[0;34m.\u001b[0m\u001b[0mclose\u001b[0m\u001b[0;34m(\u001b[0m\u001b[0;34m)\u001b[0m\u001b[0;34m\u001b[0m\u001b[0;34m\u001b[0m\u001b[0m\n",
      "\u001b[0;32m/usr/local/lib/python3.7/dist-packages/tweepy/binder.py\u001b[0m in \u001b[0;36mexecute\u001b[0;34m(self)\u001b[0m\n\u001b[1;32m    161\u001b[0m                                     \u001b[0;32mif\u001b[0m \u001b[0mself\u001b[0m\u001b[0;34m.\u001b[0m\u001b[0mwait_on_rate_limit_notify\u001b[0m\u001b[0;34m:\u001b[0m\u001b[0;34m\u001b[0m\u001b[0;34m\u001b[0m\u001b[0m\n\u001b[1;32m    162\u001b[0m                                         \u001b[0mlog\u001b[0m\u001b[0;34m.\u001b[0m\u001b[0mwarning\u001b[0m\u001b[0;34m(\u001b[0m\u001b[0;34m\"Rate limit reached. Sleeping for: %d\"\u001b[0m \u001b[0;34m%\u001b[0m \u001b[0msleep_time\u001b[0m\u001b[0;34m)\u001b[0m\u001b[0;34m\u001b[0m\u001b[0;34m\u001b[0m\u001b[0m\n\u001b[0;32m--> 163\u001b[0;31m                                     \u001b[0mtime\u001b[0m\u001b[0;34m.\u001b[0m\u001b[0msleep\u001b[0m\u001b[0;34m(\u001b[0m\u001b[0msleep_time\u001b[0m \u001b[0;34m+\u001b[0m \u001b[0;36m5\u001b[0m\u001b[0;34m)\u001b[0m  \u001b[0;31m# sleep for few extra sec\u001b[0m\u001b[0;34m\u001b[0m\u001b[0;34m\u001b[0m\u001b[0m\n\u001b[0m\u001b[1;32m    164\u001b[0m \u001b[0;34m\u001b[0m\u001b[0m\n\u001b[1;32m    165\u001b[0m                 \u001b[0;31m# if self.wait_on_rate_limit and self._reset_time is not None and \\\u001b[0m\u001b[0;34m\u001b[0m\u001b[0;34m\u001b[0m\u001b[0;34m\u001b[0m\u001b[0m\n",
      "\u001b[0;31mKeyboardInterrupt\u001b[0m: "
     ]
    }
   ],
   "source": [
    "searched_tweets = []\n",
    "last_id = -1\n",
    "max_tweets = 500_000\n",
    "pbar = tqdm(total=max_tweets)\n",
    "\n",
    "while len(searched_tweets) < max_tweets:\n",
    "    count = max_tweets - len(searched_tweets)\n",
    "    try:\n",
    "        # api.search è un metodo che su colab funziona anche se non è documentato in Tweepy. Su Jupyter non funziona, sostituire con search_tweets\n",
    "        new_tweets = api.search(q=query_01, count=1000, max_id=str(last_id - 1), tweet_mode=\"extended\") # tweet_mode=\"extended\" importante, altrimenti il testo del tweet viene troncato\n",
    "        # If I've reached the end of the search then I'm done\n",
    "        # immediately the cycle while\n",
    "        if not new_tweets:\n",
    "            break\n",
    "        # added the data found to the list\n",
    "        searched_tweets.extend(new_tweets)\n",
    "        # tqdm\n",
    "        pbar.update(len(new_tweets))\n",
    "        # retrieve the last id found\n",
    "        last_id = new_tweets[-1].id\n",
    "    except tweepy.TweepError as e:\n",
    "        print(e)\n",
    "        break\n",
    "\n",
    "pbar.close()"
   ]
  },
  {
   "cell_type": "code",
   "execution_count": null,
   "metadata": {
    "colab": {
     "base_uri": "https://localhost:8080/"
    },
    "executionInfo": {
     "elapsed": 359,
     "status": "ok",
     "timestamp": 1637252860673,
     "user": {
      "displayName": "Antonello Manenti",
      "photoUrl": "https://lh3.googleusercontent.com/a/default-user=s64",
      "userId": "17495113583668482416"
     },
     "user_tz": -60
    },
    "id": "caBAPyk4AhPM",
    "outputId": "25277641-00d4-4a68-c97c-94b99c5d0aa8"
   },
   "outputs": [
    {
     "name": "stdout",
     "output_type": "stream",
     "text": [
      "Totale Tweet\n"
     ]
    },
    {
     "data": {
      "text/plain": [
       "12199"
      ]
     },
     "execution_count": 25,
     "metadata": {},
     "output_type": "execute_result"
    }
   ],
   "source": [
    "print('Totale Tweet')\n",
    "len(searched_tweets)"
   ]
  },
  {
   "cell_type": "code",
   "execution_count": null,
   "metadata": {
    "colab": {
     "base_uri": "https://localhost:8080/",
     "height": 1000
    },
    "executionInfo": {
     "elapsed": 450,
     "status": "ok",
     "timestamp": 1637252862278,
     "user": {
      "displayName": "Antonello Manenti",
      "photoUrl": "https://lh3.googleusercontent.com/a/default-user=s64",
      "userId": "17495113583668482416"
     },
     "user_tz": -60
    },
    "id": "XTakPozJQN82",
    "outputId": "2d46103c-7f62-49ad-c445-1bfa651cabab"
   },
   "outputs": [
    {
     "data": {
      "text/html": [
       "<div>\n",
       "<style scoped>\n",
       "    .dataframe tbody tr th:only-of-type {\n",
       "        vertical-align: middle;\n",
       "    }\n",
       "\n",
       "    .dataframe tbody tr th {\n",
       "        vertical-align: top;\n",
       "    }\n",
       "\n",
       "    .dataframe thead th {\n",
       "        text-align: right;\n",
       "    }\n",
       "</style>\n",
       "<table border=\"1\" class=\"dataframe\">\n",
       "  <thead>\n",
       "    <tr style=\"text-align: right;\">\n",
       "      <th></th>\n",
       "      <th>user</th>\n",
       "      <th>date</th>\n",
       "      <th>text</th>\n",
       "      <th>favorite_count</th>\n",
       "      <th>hashtags</th>\n",
       "      <th>location</th>\n",
       "      <th>retweet</th>\n",
       "      <th>retweet_count</th>\n",
       "      <th>followers_count</th>\n",
       "      <th>in_reply_to_status_id</th>\n",
       "      <th>user_mentions</th>\n",
       "    </tr>\n",
       "    <tr>\n",
       "      <th>id</th>\n",
       "      <th></th>\n",
       "      <th></th>\n",
       "      <th></th>\n",
       "      <th></th>\n",
       "      <th></th>\n",
       "      <th></th>\n",
       "      <th></th>\n",
       "      <th></th>\n",
       "      <th></th>\n",
       "      <th></th>\n",
       "      <th></th>\n",
       "    </tr>\n",
       "  </thead>\n",
       "  <tbody>\n",
       "    <tr>\n",
       "      <th>1460034895997243394</th>\n",
       "      <td>ValdoOlga</td>\n",
       "      <td>Mon Nov 15 00:00:19 +0000 2021</td>\n",
       "      <td>La “firma” sulla telecamera di Zverev.\\nE le p...</td>\n",
       "      <td>0</td>\n",
       "      <td>[]</td>\n",
       "      <td></td>\n",
       "      <td>False</td>\n",
       "      <td>46</td>\n",
       "      <td>120</td>\n",
       "      <td>NaN</td>\n",
       "      <td>[toMMilanello]</td>\n",
       "    </tr>\n",
       "    <tr>\n",
       "      <th>1460035000661860360</th>\n",
       "      <td>Zverev_fans</td>\n",
       "      <td>Mon Nov 15 00:00:44 +0000 2021</td>\n",
       "      <td>☹️☹️☹️\\n\\nAll of us after Berrettini is forced...</td>\n",
       "      <td>0</td>\n",
       "      <td>[NittoATPFinals]</td>\n",
       "      <td></td>\n",
       "      <td>False</td>\n",
       "      <td>173</td>\n",
       "      <td>417</td>\n",
       "      <td>NaN</td>\n",
       "      <td>[TennisTV]</td>\n",
       "    </tr>\n",
       "    <tr>\n",
       "      <th>1460035118458888198</th>\n",
       "      <td>RaiSport</td>\n",
       "      <td>Mon Nov 15 00:01:13 +0000 2021</td>\n",
       "      <td>#Berrettini costretto ad abbandonare il match ...</td>\n",
       "      <td>52</td>\n",
       "      <td>[Berrettini, Zverev, LaDS]</td>\n",
       "      <td></td>\n",
       "      <td>False</td>\n",
       "      <td>6</td>\n",
       "      <td>247865</td>\n",
       "      <td>NaN</td>\n",
       "      <td>[]</td>\n",
       "    </tr>\n",
       "    <tr>\n",
       "      <th>1460035123047723010</th>\n",
       "      <td>mantas____</td>\n",
       "      <td>Mon Nov 15 00:01:14 +0000 2021</td>\n",
       "      <td>Not how any of us wanted this one to end 😢\\n\\n...</td>\n",
       "      <td>0</td>\n",
       "      <td>[NittoATPFinals]</td>\n",
       "      <td></td>\n",
       "      <td>False</td>\n",
       "      <td>304</td>\n",
       "      <td>6</td>\n",
       "      <td>NaN</td>\n",
       "      <td>[TennisTV]</td>\n",
       "    </tr>\n",
       "    <tr>\n",
       "      <th>1460035259551162373</th>\n",
       "      <td>Cucciolina96251</td>\n",
       "      <td>Mon Nov 15 00:01:46 +0000 2021</td>\n",
       "      <td>L’infortunio di Matteo #Berrettini mi distrugg...</td>\n",
       "      <td>0</td>\n",
       "      <td>[Berrettini]</td>\n",
       "      <td></td>\n",
       "      <td>False</td>\n",
       "      <td>23</td>\n",
       "      <td>122</td>\n",
       "      <td>NaN</td>\n",
       "      <td>[Alenize82]</td>\n",
       "    </tr>\n",
       "    <tr>\n",
       "      <th>1460035274663211012</th>\n",
       "      <td>Zverev_fans</td>\n",
       "      <td>Mon Nov 15 00:01:50 +0000 2021</td>\n",
       "      <td>'I'm sure it's not the last time we're gonna s...</td>\n",
       "      <td>0</td>\n",
       "      <td>[]</td>\n",
       "      <td></td>\n",
       "      <td>False</td>\n",
       "      <td>41</td>\n",
       "      <td>417</td>\n",
       "      <td>NaN</td>\n",
       "      <td>[TennisTV, AlexZverev]</td>\n",
       "    </tr>\n",
       "    <tr>\n",
       "      <th>1460035452744970244</th>\n",
       "      <td>malaymail</td>\n",
       "      <td>Mon Nov 15 00:02:32 +0000 2021</td>\n",
       "      <td>Medvedev fights back to sink Hurkacz, Berretti...</td>\n",
       "      <td>1</td>\n",
       "      <td>[]</td>\n",
       "      <td>Malaysia</td>\n",
       "      <td>False</td>\n",
       "      <td>0</td>\n",
       "      <td>267422</td>\n",
       "      <td>NaN</td>\n",
       "      <td>[]</td>\n",
       "    </tr>\n",
       "    <tr>\n",
       "      <th>1460035535997652999</th>\n",
       "      <td>nerdswire</td>\n",
       "      <td>Mon Nov 15 00:02:52 +0000 2021</td>\n",
       "      <td>Zverev gewinnt Auftakt bei ATP Finals https://...</td>\n",
       "      <td>0</td>\n",
       "      <td>[]</td>\n",
       "      <td>NRW, Deutschland</td>\n",
       "      <td>False</td>\n",
       "      <td>0</td>\n",
       "      <td>1457</td>\n",
       "      <td>NaN</td>\n",
       "      <td>[]</td>\n",
       "    </tr>\n",
       "    <tr>\n",
       "      <th>1460035698422075392</th>\n",
       "      <td>Martii063</td>\n",
       "      <td>Mon Nov 15 00:03:31 +0000 2021</td>\n",
       "      <td>Alexander Zverev vainqueur par abandon de Matt...</td>\n",
       "      <td>0</td>\n",
       "      <td>[]</td>\n",
       "      <td>France</td>\n",
       "      <td>False</td>\n",
       "      <td>0</td>\n",
       "      <td>598</td>\n",
       "      <td>NaN</td>\n",
       "      <td>[]</td>\n",
       "    </tr>\n",
       "    <tr>\n",
       "      <th>1460035700590628881</th>\n",
       "      <td>Cucciolina96251</td>\n",
       "      <td>Mon Nov 15 00:03:31 +0000 2021</td>\n",
       "      <td>Matteo \\n#Berrettini dopo il ritiro con Zverev...</td>\n",
       "      <td>0</td>\n",
       "      <td>[Berrettini]</td>\n",
       "      <td></td>\n",
       "      <td>False</td>\n",
       "      <td>13</td>\n",
       "      <td>122</td>\n",
       "      <td>NaN</td>\n",
       "      <td>[FedeCocchi]</td>\n",
       "    </tr>\n",
       "  </tbody>\n",
       "</table>\n",
       "</div>"
      ],
      "text/plain": [
       "                                user  ...           user_mentions\n",
       "id                                    ...                        \n",
       "1460034895997243394        ValdoOlga  ...          [toMMilanello]\n",
       "1460035000661860360      Zverev_fans  ...              [TennisTV]\n",
       "1460035118458888198         RaiSport  ...                      []\n",
       "1460035123047723010       mantas____  ...              [TennisTV]\n",
       "1460035259551162373  Cucciolina96251  ...             [Alenize82]\n",
       "1460035274663211012      Zverev_fans  ...  [TennisTV, AlexZverev]\n",
       "1460035452744970244        malaymail  ...                      []\n",
       "1460035535997652999        nerdswire  ...                      []\n",
       "1460035698422075392        Martii063  ...                      []\n",
       "1460035700590628881  Cucciolina96251  ...            [FedeCocchi]\n",
       "\n",
       "[10 rows x 11 columns]"
      ]
     },
     "execution_count": 26,
     "metadata": {},
     "output_type": "execute_result"
    }
   ],
   "source": [
    "dict_ = {'id': [], 'user': [], 'date': [], 'text': [], \n",
    "         'favorite_count': [], 'hashtags': [], \n",
    "         'location': [], 'retweet': [], 'retweet_count': [], 'followers_count': [], 'in_reply_to_status_id':[], 'user_mentions':[]}\n",
    "\n",
    "for status_j in searched_tweets[0:max_tweets]:\n",
    "    status = status_j._json\n",
    "\n",
    "    if 'retweeted_status' in status:\n",
    "      if 'extended_tweet' in status['retweeted_status']:\n",
    "        text = status['retweeted_status']['extended_tweet']['full_text']\n",
    "        dict_['text'].append(text)\n",
    "      else:\n",
    "        text = status['retweeted_status']['full_text']\n",
    "        dict_['text'].append(text)\n",
    "    else:\n",
    "      if 'extended_tweet' in status:\n",
    "        text = status['extended_tweet']['full_text']\n",
    "        dict_['text'].append(text)\n",
    "      else:\n",
    "        text = status['full_text']\n",
    "        dict_['text'].append(text)\n",
    "    \n",
    "    dict_['id'].append(status['id'])\n",
    "    dict_['user'].append(status['user']['screen_name'])\n",
    "    dict_['hashtags'].append([hashtag['text'] for hashtag in status['entities']['hashtags']])\n",
    "    dict_['user_mentions'].append([user_mention['screen_name'] for user_mention in status['entities']['user_mentions']])\n",
    "    dict_['location'].append(status['user']['location'])\n",
    "    dict_['followers_count'].append(status['user']['followers_count'])\n",
    "    dict_['in_reply_to_status_id'].append(status['in_reply_to_status_id'])\n",
    "    dict_['date'].append(status['created_at'])\n",
    "    dict_['favorite_count'].append(status['favorite_count'])\n",
    "    dict_['retweet_count'].append(status['retweet_count'])\n",
    "    dict_['retweet'].append(status['retweeted'])\n",
    "\n",
    "df = pd.DataFrame.from_dict(dict_, orient=\"columns\")\n",
    "df = df.set_index(\"id\")\n",
    "df.sort_values(by=['date'], inplace=True, ascending=True)\n",
    "df.head(10)"
   ]
  },
  {
   "cell_type": "code",
   "execution_count": null,
   "metadata": {
    "colab": {
     "base_uri": "https://localhost:8080/",
     "height": 1000
    },
    "executionInfo": {
     "elapsed": 315,
     "status": "ok",
     "timestamp": 1637252866138,
     "user": {
      "displayName": "Antonello Manenti",
      "photoUrl": "https://lh3.googleusercontent.com/a/default-user=s64",
      "userId": "17495113583668482416"
     },
     "user_tz": -60
    },
    "id": "bEMYyh7EQYiO",
    "outputId": "fa69a87a-ddf8-456d-c3cc-f2a35539c3e8"
   },
   "outputs": [
    {
     "data": {
      "text/html": [
       "<div>\n",
       "<style scoped>\n",
       "    .dataframe tbody tr th:only-of-type {\n",
       "        vertical-align: middle;\n",
       "    }\n",
       "\n",
       "    .dataframe tbody tr th {\n",
       "        vertical-align: top;\n",
       "    }\n",
       "\n",
       "    .dataframe thead th {\n",
       "        text-align: right;\n",
       "    }\n",
       "</style>\n",
       "<table border=\"1\" class=\"dataframe\">\n",
       "  <thead>\n",
       "    <tr style=\"text-align: right;\">\n",
       "      <th></th>\n",
       "      <th>user</th>\n",
       "      <th>date</th>\n",
       "      <th>text</th>\n",
       "      <th>favorite_count</th>\n",
       "      <th>hashtags</th>\n",
       "      <th>location</th>\n",
       "      <th>retweet</th>\n",
       "      <th>retweet_count</th>\n",
       "      <th>followers_count</th>\n",
       "      <th>in_reply_to_status_id</th>\n",
       "      <th>user_mentions</th>\n",
       "    </tr>\n",
       "    <tr>\n",
       "      <th>id</th>\n",
       "      <th></th>\n",
       "      <th></th>\n",
       "      <th></th>\n",
       "      <th></th>\n",
       "      <th></th>\n",
       "      <th></th>\n",
       "      <th></th>\n",
       "      <th></th>\n",
       "      <th></th>\n",
       "      <th></th>\n",
       "      <th></th>\n",
       "    </tr>\n",
       "  </thead>\n",
       "  <tbody>\n",
       "    <tr>\n",
       "      <th>1460034895997243394</th>\n",
       "      <td>ValdoOlga</td>\n",
       "      <td>Mon Nov 15 00:00:19 +0000 2021</td>\n",
       "      <td>La “firma” sulla telecamera di Zverev.\\nE le p...</td>\n",
       "      <td>0</td>\n",
       "      <td>[]</td>\n",
       "      <td></td>\n",
       "      <td>False</td>\n",
       "      <td>46</td>\n",
       "      <td>120</td>\n",
       "      <td>NaN</td>\n",
       "      <td>[toMMilanello]</td>\n",
       "    </tr>\n",
       "    <tr>\n",
       "      <th>1460035000661860360</th>\n",
       "      <td>Zverev_fans</td>\n",
       "      <td>Mon Nov 15 00:00:44 +0000 2021</td>\n",
       "      <td>☹️☹️☹️\\n\\nAll of us after Berrettini is forced...</td>\n",
       "      <td>0</td>\n",
       "      <td>[NittoATPFinals]</td>\n",
       "      <td></td>\n",
       "      <td>False</td>\n",
       "      <td>173</td>\n",
       "      <td>417</td>\n",
       "      <td>NaN</td>\n",
       "      <td>[TennisTV]</td>\n",
       "    </tr>\n",
       "    <tr>\n",
       "      <th>1460035118458888198</th>\n",
       "      <td>RaiSport</td>\n",
       "      <td>Mon Nov 15 00:01:13 +0000 2021</td>\n",
       "      <td>#Berrettini costretto ad abbandonare il match ...</td>\n",
       "      <td>52</td>\n",
       "      <td>[Berrettini, Zverev, LaDS]</td>\n",
       "      <td></td>\n",
       "      <td>False</td>\n",
       "      <td>6</td>\n",
       "      <td>247865</td>\n",
       "      <td>NaN</td>\n",
       "      <td>[]</td>\n",
       "    </tr>\n",
       "    <tr>\n",
       "      <th>1460035123047723010</th>\n",
       "      <td>mantas____</td>\n",
       "      <td>Mon Nov 15 00:01:14 +0000 2021</td>\n",
       "      <td>Not how any of us wanted this one to end 😢\\n\\n...</td>\n",
       "      <td>0</td>\n",
       "      <td>[NittoATPFinals]</td>\n",
       "      <td></td>\n",
       "      <td>False</td>\n",
       "      <td>304</td>\n",
       "      <td>6</td>\n",
       "      <td>NaN</td>\n",
       "      <td>[TennisTV]</td>\n",
       "    </tr>\n",
       "    <tr>\n",
       "      <th>1460035259551162373</th>\n",
       "      <td>Cucciolina96251</td>\n",
       "      <td>Mon Nov 15 00:01:46 +0000 2021</td>\n",
       "      <td>L’infortunio di Matteo #Berrettini mi distrugg...</td>\n",
       "      <td>0</td>\n",
       "      <td>[Berrettini]</td>\n",
       "      <td></td>\n",
       "      <td>False</td>\n",
       "      <td>23</td>\n",
       "      <td>122</td>\n",
       "      <td>NaN</td>\n",
       "      <td>[Alenize82]</td>\n",
       "    </tr>\n",
       "    <tr>\n",
       "      <th>1460035274663211012</th>\n",
       "      <td>Zverev_fans</td>\n",
       "      <td>Mon Nov 15 00:01:50 +0000 2021</td>\n",
       "      <td>'I'm sure it's not the last time we're gonna s...</td>\n",
       "      <td>0</td>\n",
       "      <td>[]</td>\n",
       "      <td></td>\n",
       "      <td>False</td>\n",
       "      <td>41</td>\n",
       "      <td>417</td>\n",
       "      <td>NaN</td>\n",
       "      <td>[TennisTV, AlexZverev]</td>\n",
       "    </tr>\n",
       "    <tr>\n",
       "      <th>1460035452744970244</th>\n",
       "      <td>malaymail</td>\n",
       "      <td>Mon Nov 15 00:02:32 +0000 2021</td>\n",
       "      <td>Medvedev fights back to sink Hurkacz, Berretti...</td>\n",
       "      <td>1</td>\n",
       "      <td>[]</td>\n",
       "      <td>Malaysia</td>\n",
       "      <td>False</td>\n",
       "      <td>0</td>\n",
       "      <td>267422</td>\n",
       "      <td>NaN</td>\n",
       "      <td>[]</td>\n",
       "    </tr>\n",
       "    <tr>\n",
       "      <th>1460035535997652999</th>\n",
       "      <td>nerdswire</td>\n",
       "      <td>Mon Nov 15 00:02:52 +0000 2021</td>\n",
       "      <td>Zverev gewinnt Auftakt bei ATP Finals https://...</td>\n",
       "      <td>0</td>\n",
       "      <td>[]</td>\n",
       "      <td>NRW, Deutschland</td>\n",
       "      <td>False</td>\n",
       "      <td>0</td>\n",
       "      <td>1457</td>\n",
       "      <td>NaN</td>\n",
       "      <td>[]</td>\n",
       "    </tr>\n",
       "    <tr>\n",
       "      <th>1460035698422075392</th>\n",
       "      <td>Martii063</td>\n",
       "      <td>Mon Nov 15 00:03:31 +0000 2021</td>\n",
       "      <td>Alexander Zverev vainqueur par abandon de Matt...</td>\n",
       "      <td>0</td>\n",
       "      <td>[]</td>\n",
       "      <td>France</td>\n",
       "      <td>False</td>\n",
       "      <td>0</td>\n",
       "      <td>598</td>\n",
       "      <td>NaN</td>\n",
       "      <td>[]</td>\n",
       "    </tr>\n",
       "    <tr>\n",
       "      <th>1460035700590628881</th>\n",
       "      <td>Cucciolina96251</td>\n",
       "      <td>Mon Nov 15 00:03:31 +0000 2021</td>\n",
       "      <td>Matteo \\n#Berrettini dopo il ritiro con Zverev...</td>\n",
       "      <td>0</td>\n",
       "      <td>[Berrettini]</td>\n",
       "      <td></td>\n",
       "      <td>False</td>\n",
       "      <td>13</td>\n",
       "      <td>122</td>\n",
       "      <td>NaN</td>\n",
       "      <td>[FedeCocchi]</td>\n",
       "    </tr>\n",
       "  </tbody>\n",
       "</table>\n",
       "</div>"
      ],
      "text/plain": [
       "                                user  ...           user_mentions\n",
       "id                                    ...                        \n",
       "1460034895997243394        ValdoOlga  ...          [toMMilanello]\n",
       "1460035000661860360      Zverev_fans  ...              [TennisTV]\n",
       "1460035118458888198         RaiSport  ...                      []\n",
       "1460035123047723010       mantas____  ...              [TennisTV]\n",
       "1460035259551162373  Cucciolina96251  ...             [Alenize82]\n",
       "1460035274663211012      Zverev_fans  ...  [TennisTV, AlexZverev]\n",
       "1460035452744970244        malaymail  ...                      []\n",
       "1460035535997652999        nerdswire  ...                      []\n",
       "1460035698422075392        Martii063  ...                      []\n",
       "1460035700590628881  Cucciolina96251  ...            [FedeCocchi]\n",
       "\n",
       "[10 rows x 11 columns]"
      ]
     },
     "execution_count": 27,
     "metadata": {},
     "output_type": "execute_result"
    }
   ],
   "source": [
    "df = pd.DataFrame.from_dict(dict_, orient=\"columns\")\n",
    "df = df.set_index(\"id\")\n",
    "df.sort_values(by=['date'], inplace=True, ascending=True)\n",
    "df.head(10)"
   ]
  },
  {
   "cell_type": "code",
   "execution_count": null,
   "metadata": {
    "colab": {
     "base_uri": "https://localhost:8080/"
    },
    "executionInfo": {
     "elapsed": 373,
     "status": "ok",
     "timestamp": 1637252869613,
     "user": {
      "displayName": "Antonello Manenti",
      "photoUrl": "https://lh3.googleusercontent.com/a/default-user=s64",
      "userId": "17495113583668482416"
     },
     "user_tz": -60
    },
    "id": "etTJY7DM_XrJ",
    "outputId": "a72e4933-7ee4-4f98-884c-3b48c3906df1"
   },
   "outputs": [
    {
     "name": "stdout",
     "output_type": "stream",
     "text": [
      "<class 'pandas.core.frame.DataFrame'>\n",
      "Int64Index: 12199 entries, 1460034895997243394 to 1461120978436734981\n",
      "Data columns (total 11 columns):\n",
      " #   Column                 Non-Null Count  Dtype  \n",
      "---  ------                 --------------  -----  \n",
      " 0   user                   12199 non-null  object \n",
      " 1   date                   12199 non-null  object \n",
      " 2   text                   12199 non-null  object \n",
      " 3   favorite_count         12199 non-null  int64  \n",
      " 4   hashtags               12199 non-null  object \n",
      " 5   location               12199 non-null  object \n",
      " 6   retweet                12199 non-null  bool   \n",
      " 7   retweet_count          12199 non-null  int64  \n",
      " 8   followers_count        12199 non-null  int64  \n",
      " 9   in_reply_to_status_id  1645 non-null   float64\n",
      " 10  user_mentions          12199 non-null  object \n",
      "dtypes: bool(1), float64(1), int64(3), object(6)\n",
      "memory usage: 1.0+ MB\n"
     ]
    }
   ],
   "source": [
    "df.info()"
   ]
  },
  {
   "cell_type": "code",
   "execution_count": null,
   "metadata": {
    "colab": {
     "base_uri": "https://localhost:8080/"
    },
    "executionInfo": {
     "elapsed": 333,
     "status": "ok",
     "timestamp": 1637252873630,
     "user": {
      "displayName": "Antonello Manenti",
      "photoUrl": "https://lh3.googleusercontent.com/a/default-user=s64",
      "userId": "17495113583668482416"
     },
     "user_tz": -60
    },
    "id": "PCHC8WmOA98e",
    "outputId": "14e410b1-8bcf-4d2a-feaf-3446fa75a3b1"
   },
   "outputs": [
    {
     "name": "stdout",
     "output_type": "stream",
     "text": [
      "(12199, 11)\n"
     ]
    }
   ],
   "source": [
    "print(df.shape)"
   ]
  },
  {
   "cell_type": "code",
   "execution_count": null,
   "metadata": {
    "id": "hFJs4Pl-_KcU"
   },
   "outputs": [],
   "source": [
    "df.to_csv(f'{scrapingATP_root_dir}twitter_history_{utente}_{prog}_{lang}_{len(searched_tweets)}.csv')"
   ]
  },
  {
   "cell_type": "markdown",
   "metadata": {
    "id": "0MzvdZSU_AWe"
   },
   "source": [
    "## Scraping dello stream"
   ]
  },
  {
   "cell_type": "code",
   "execution_count": null,
   "metadata": {
    "colab": {
     "base_uri": "https://localhost:8080/"
    },
    "executionInfo": {
     "elapsed": 804,
     "status": "ok",
     "timestamp": 1637014663037,
     "user": {
      "displayName": "Antonello Manenti",
      "photoUrl": "https://lh3.googleusercontent.com/a/default-user=s64",
      "userId": "17495113583668482416"
     },
     "user_tz": -60
    },
    "id": "eqFqbRuR_lGM",
    "outputId": "8ebe871c-f224-4cac-86a3-bb7009c02b6f"
   },
   "outputs": [
    {
     "name": "stdout",
     "output_type": "stream",
     "text": [
      "time: 37.9 ms (started: 2021-11-15 22:17:42 +00:00)\n"
     ]
    }
   ],
   "source": [
    "class MyStreamListener(tweepy.StreamListener):\n",
    "    data = [] #qui ci metto i tweet che scarico man mano\n",
    "    num = 0 #questo è un contatore settato a 0\n",
    "\n",
    "    def store(self):\n",
    "      dict_ = {'id': [], 'user': [], 'date': [], 'text': [],\n",
    "         'favorite_count': [], 'hashtags': [], \n",
    "         'location': [], 'retweet': [], 'retweet_count': [], 'followers_count': [], 'in_reply_to_status_id':[], 'user_mentions':[]}\n",
    "      \n",
    "      for status_j in self.data:\n",
    "          status = status_j._json\n",
    "\n",
    "          if 'retweeted_status' in status:\n",
    "            if 'extended_tweet' in status['retweeted_status']:\n",
    "              text = status['retweeted_status']['extended_tweet']['full_text']\n",
    "              dict_['text'].append(text)\n",
    "            else:\n",
    "              text = status['retweeted_status']['full_text']\n",
    "              dict_['text'].append(text)\n",
    "          else:\n",
    "            if 'extended_tweet' in status:\n",
    "              text = status['extended_tweet']['full_text']\n",
    "              dict_['text'].append(text)\n",
    "            else:\n",
    "              text = status['full_text']\n",
    "              dict_['text'].append(text)\n",
    "\n",
    "          dict_['id'].append(status['id'])\n",
    "          dict_['user'].append(status['user']['screen_name'])\n",
    "          dict_['hashtags'].append([hashtag['text'] for hashtag in status['entities']['hashtags']])\n",
    "          dict_['user_mentions'].append([user_mention['screen_name'] for user_mention in status['entities']['user_mentions']])\n",
    "          dict_['location'].append(status['user']['location'])\n",
    "          dict_['followers_count'].append(status['user']['followers_count'])\n",
    "          dict_['in_reply_to_status_id'].append(status['in_reply_to_status_id'])\n",
    "          dict_['date'].append(status['created_at'])\n",
    "          dict_['full_text'].append(status['full_text'])\n",
    "          dict_['favorite_count'].append(status['favorite_count'])\n",
    "          dict_['retweet_count'].append(status['retweet_count'])\n",
    "          dict_['retweet'].append(status['retweeted'])\n",
    "\n",
    "      df = pd.DataFrame.from_dict(dict_, orient=\"columns\")\n",
    "      df = df.set_index(\"id\")\n",
    "      df.sort_values(by='favorite_count', inplace=True, ascending=False)\n",
    "      df.to_csv(f'{scrapingATP_root_dir}_twitter_stream_{utente}_{prog}_{lang}_' + str(self.num) + '.csv') #salvo in csv\n",
    "      self.num = self.num + 1\n",
    "      self.data = []\n",
    "\n",
    "\n",
    "    def on_status(self, status):\n",
    "        self.data.append(status)\n",
    "        # to pandas\n",
    "        # store su google drive\n",
    "        if len(self.data) > 5000:\n",
    "          self.store()"
   ]
  },
  {
   "cell_type": "code",
   "execution_count": null,
   "metadata": {
    "colab": {
     "base_uri": "https://localhost:8080/"
    },
    "executionInfo": {
     "elapsed": 272,
     "status": "ok",
     "timestamp": 1637014666073,
     "user": {
      "displayName": "Antonello Manenti",
      "photoUrl": "https://lh3.googleusercontent.com/a/default-user=s64",
      "userId": "17495113583668482416"
     },
     "user_tz": -60
    },
    "id": "I7tJCy-B_pAf",
    "outputId": "48996a03-ef0e-41d1-ba6b-399a96aed668"
   },
   "outputs": [
    {
     "name": "stdout",
     "output_type": "stream",
     "text": [
      "time: 2.06 ms (started: 2021-11-15 22:17:45 +00:00)\n"
     ]
    }
   ],
   "source": [
    "myStreamListener = MyStreamListener()\n",
    "myStream = tweepy.Stream(auth = api.auth, listener=myStreamListener, tweet_mode=\"extended\")"
   ]
  },
  {
   "cell_type": "code",
   "execution_count": null,
   "metadata": {
    "colab": {
     "base_uri": "https://localhost:8080/",
     "height": 336
    },
    "executionInfo": {
     "elapsed": 4729,
     "status": "error",
     "timestamp": 1637014676232,
     "user": {
      "displayName": "Antonello Manenti",
      "photoUrl": "https://lh3.googleusercontent.com/a/default-user=s64",
      "userId": "17495113583668482416"
     },
     "user_tz": -60
    },
    "id": "sY7zHFiI_ptN",
    "outputId": "58a56d8d-9fd1-40e4-8ced-1abc404634e9"
   },
   "outputs": [
    {
     "ename": "KeyboardInterrupt",
     "evalue": "ignored",
     "output_type": "error",
     "traceback": [
      "\u001b[0;31m---------------------------------------------------------------------------\u001b[0m",
      "\u001b[0;31mKeyboardInterrupt\u001b[0m                         Traceback (most recent call last)",
      "\u001b[0;32m<ipython-input-60-3201816f59cd>\u001b[0m in \u001b[0;36m<module>\u001b[0;34m()\u001b[0m\n\u001b[1;32m      1\u001b[0m \u001b[0mquery\u001b[0m \u001b[0;34m=\u001b[0m \u001b[0;34m[\u001b[0m\u001b[0;34m'energytransaction'\u001b[0m \u001b[0;32mor\u001b[0m \u001b[0;34m'nuclear'\u001b[0m\u001b[0;34m]\u001b[0m\u001b[0;34m\u001b[0m\u001b[0;34m\u001b[0m\u001b[0m\n\u001b[0;32m----> 2\u001b[0;31m \u001b[0mmyStream\u001b[0m\u001b[0;34m.\u001b[0m\u001b[0mfilter\u001b[0m\u001b[0;34m(\u001b[0m\u001b[0mtrack\u001b[0m\u001b[0;34m=\u001b[0m\u001b[0mquery\u001b[0m\u001b[0;34m)\u001b[0m\u001b[0;34m\u001b[0m\u001b[0;34m\u001b[0m\u001b[0m\n\u001b[0m",
      "\u001b[0;32m/usr/local/lib/python3.7/dist-packages/tweepy/streaming.py\u001b[0m in \u001b[0;36mfilter\u001b[0;34m(self, follow, track, is_async, locations, stall_warnings, languages, encoding, filter_level)\u001b[0m\n\u001b[1;32m    472\u001b[0m             \u001b[0mself\u001b[0m\u001b[0;34m.\u001b[0m\u001b[0mbody\u001b[0m\u001b[0;34m[\u001b[0m\u001b[0;34m'filter_level'\u001b[0m\u001b[0;34m]\u001b[0m \u001b[0;34m=\u001b[0m \u001b[0mfilter_level\u001b[0m\u001b[0;34m.\u001b[0m\u001b[0mencode\u001b[0m\u001b[0;34m(\u001b[0m\u001b[0mencoding\u001b[0m\u001b[0;34m)\u001b[0m\u001b[0;34m\u001b[0m\u001b[0;34m\u001b[0m\u001b[0m\n\u001b[1;32m    473\u001b[0m         \u001b[0mself\u001b[0m\u001b[0;34m.\u001b[0m\u001b[0msession\u001b[0m\u001b[0;34m.\u001b[0m\u001b[0mparams\u001b[0m \u001b[0;34m=\u001b[0m \u001b[0;34m{\u001b[0m\u001b[0;34m'delimited'\u001b[0m\u001b[0;34m:\u001b[0m \u001b[0;34m'length'\u001b[0m\u001b[0;34m}\u001b[0m\u001b[0;34m\u001b[0m\u001b[0;34m\u001b[0m\u001b[0m\n\u001b[0;32m--> 474\u001b[0;31m         \u001b[0mself\u001b[0m\u001b[0;34m.\u001b[0m\u001b[0m_start\u001b[0m\u001b[0;34m(\u001b[0m\u001b[0mis_async\u001b[0m\u001b[0;34m)\u001b[0m\u001b[0;34m\u001b[0m\u001b[0;34m\u001b[0m\u001b[0m\n\u001b[0m\u001b[1;32m    475\u001b[0m \u001b[0;34m\u001b[0m\u001b[0m\n\u001b[1;32m    476\u001b[0m     def sitestream(self, follow, stall_warnings=False,\n",
      "\u001b[0;32m/usr/local/lib/python3.7/dist-packages/tweepy/streaming.py\u001b[0m in \u001b[0;36m_start\u001b[0;34m(self, is_async)\u001b[0m\n\u001b[1;32m    387\u001b[0m             \u001b[0mself\u001b[0m\u001b[0;34m.\u001b[0m\u001b[0m_thread\u001b[0m\u001b[0;34m.\u001b[0m\u001b[0mstart\u001b[0m\u001b[0;34m(\u001b[0m\u001b[0;34m)\u001b[0m\u001b[0;34m\u001b[0m\u001b[0;34m\u001b[0m\u001b[0m\n\u001b[1;32m    388\u001b[0m         \u001b[0;32melse\u001b[0m\u001b[0;34m:\u001b[0m\u001b[0;34m\u001b[0m\u001b[0;34m\u001b[0m\u001b[0m\n\u001b[0;32m--> 389\u001b[0;31m             \u001b[0mself\u001b[0m\u001b[0;34m.\u001b[0m\u001b[0m_run\u001b[0m\u001b[0;34m(\u001b[0m\u001b[0;34m)\u001b[0m\u001b[0;34m\u001b[0m\u001b[0;34m\u001b[0m\u001b[0m\n\u001b[0m\u001b[1;32m    390\u001b[0m \u001b[0;34m\u001b[0m\u001b[0m\n\u001b[1;32m    391\u001b[0m     \u001b[0;32mdef\u001b[0m \u001b[0mon_closed\u001b[0m\u001b[0;34m(\u001b[0m\u001b[0mself\u001b[0m\u001b[0;34m,\u001b[0m \u001b[0mresp\u001b[0m\u001b[0;34m)\u001b[0m\u001b[0;34m:\u001b[0m\u001b[0;34m\u001b[0m\u001b[0;34m\u001b[0m\u001b[0m\n",
      "\u001b[0;32m/usr/local/lib/python3.7/dist-packages/tweepy/streaming.py\u001b[0m in \u001b[0;36m_run\u001b[0;34m(self)\u001b[0m\n\u001b[1;32m    287\u001b[0m                     \u001b[0mself\u001b[0m\u001b[0;34m.\u001b[0m\u001b[0msnooze_time\u001b[0m \u001b[0;34m=\u001b[0m \u001b[0mself\u001b[0m\u001b[0;34m.\u001b[0m\u001b[0msnooze_time_step\u001b[0m\u001b[0;34m\u001b[0m\u001b[0;34m\u001b[0m\u001b[0m\n\u001b[1;32m    288\u001b[0m                     \u001b[0mself\u001b[0m\u001b[0;34m.\u001b[0m\u001b[0mlistener\u001b[0m\u001b[0;34m.\u001b[0m\u001b[0mon_connect\u001b[0m\u001b[0;34m(\u001b[0m\u001b[0;34m)\u001b[0m\u001b[0;34m\u001b[0m\u001b[0;34m\u001b[0m\u001b[0m\n\u001b[0;32m--> 289\u001b[0;31m                     \u001b[0mself\u001b[0m\u001b[0;34m.\u001b[0m\u001b[0m_read_loop\u001b[0m\u001b[0;34m(\u001b[0m\u001b[0mresp\u001b[0m\u001b[0;34m)\u001b[0m\u001b[0;34m\u001b[0m\u001b[0;34m\u001b[0m\u001b[0m\n\u001b[0m\u001b[1;32m    290\u001b[0m             \u001b[0;32mexcept\u001b[0m \u001b[0;34m(\u001b[0m\u001b[0mTimeout\u001b[0m\u001b[0;34m,\u001b[0m \u001b[0mssl\u001b[0m\u001b[0;34m.\u001b[0m\u001b[0mSSLError\u001b[0m\u001b[0;34m)\u001b[0m \u001b[0;32mas\u001b[0m \u001b[0mexc\u001b[0m\u001b[0;34m:\u001b[0m\u001b[0;34m\u001b[0m\u001b[0;34m\u001b[0m\u001b[0m\n\u001b[1;32m    291\u001b[0m                 \u001b[0;31m# This is still necessary, as a SSLError can actually be\u001b[0m\u001b[0;34m\u001b[0m\u001b[0;34m\u001b[0m\u001b[0;34m\u001b[0m\u001b[0m\n",
      "\u001b[0;32m/usr/local/lib/python3.7/dist-packages/tweepy/streaming.py\u001b[0m in \u001b[0;36m_read_loop\u001b[0;34m(self, resp)\u001b[0m\n\u001b[1;32m    337\u001b[0m             \u001b[0mlength\u001b[0m \u001b[0;34m=\u001b[0m \u001b[0;36m0\u001b[0m\u001b[0;34m\u001b[0m\u001b[0;34m\u001b[0m\u001b[0m\n\u001b[1;32m    338\u001b[0m             \u001b[0;32mwhile\u001b[0m \u001b[0;32mnot\u001b[0m \u001b[0mresp\u001b[0m\u001b[0;34m.\u001b[0m\u001b[0mraw\u001b[0m\u001b[0;34m.\u001b[0m\u001b[0mclosed\u001b[0m\u001b[0;34m:\u001b[0m\u001b[0;34m\u001b[0m\u001b[0;34m\u001b[0m\u001b[0m\n\u001b[0;32m--> 339\u001b[0;31m                 \u001b[0mline\u001b[0m \u001b[0;34m=\u001b[0m \u001b[0mbuf\u001b[0m\u001b[0;34m.\u001b[0m\u001b[0mread_line\u001b[0m\u001b[0;34m(\u001b[0m\u001b[0;34m)\u001b[0m\u001b[0;34m\u001b[0m\u001b[0;34m\u001b[0m\u001b[0m\n\u001b[0m\u001b[1;32m    340\u001b[0m                 \u001b[0mstripped_line\u001b[0m \u001b[0;34m=\u001b[0m \u001b[0mline\u001b[0m\u001b[0;34m.\u001b[0m\u001b[0mstrip\u001b[0m\u001b[0;34m(\u001b[0m\u001b[0;34m)\u001b[0m \u001b[0;32mif\u001b[0m \u001b[0mline\u001b[0m \u001b[0;32melse\u001b[0m \u001b[0mline\u001b[0m \u001b[0;31m# line is sometimes None so we need to check here\u001b[0m\u001b[0;34m\u001b[0m\u001b[0;34m\u001b[0m\u001b[0m\n\u001b[1;32m    341\u001b[0m                 \u001b[0;32mif\u001b[0m \u001b[0;32mnot\u001b[0m \u001b[0mstripped_line\u001b[0m\u001b[0;34m:\u001b[0m\u001b[0;34m\u001b[0m\u001b[0;34m\u001b[0m\u001b[0m\n",
      "\u001b[0;32m/usr/local/lib/python3.7/dist-packages/tweepy/streaming.py\u001b[0m in \u001b[0;36mread_line\u001b[0;34m(self, sep)\u001b[0m\n\u001b[1;32m    198\u001b[0m             \u001b[0;32melse\u001b[0m\u001b[0;34m:\u001b[0m\u001b[0;34m\u001b[0m\u001b[0;34m\u001b[0m\u001b[0m\n\u001b[1;32m    199\u001b[0m                 \u001b[0mstart\u001b[0m \u001b[0;34m=\u001b[0m \u001b[0mlen\u001b[0m\u001b[0;34m(\u001b[0m\u001b[0mself\u001b[0m\u001b[0;34m.\u001b[0m\u001b[0m_buffer\u001b[0m\u001b[0;34m)\u001b[0m\u001b[0;34m\u001b[0m\u001b[0;34m\u001b[0m\u001b[0m\n\u001b[0;32m--> 200\u001b[0;31m             \u001b[0mself\u001b[0m\u001b[0;34m.\u001b[0m\u001b[0m_buffer\u001b[0m \u001b[0;34m+=\u001b[0m \u001b[0mself\u001b[0m\u001b[0;34m.\u001b[0m\u001b[0m_stream\u001b[0m\u001b[0;34m.\u001b[0m\u001b[0mread\u001b[0m\u001b[0;34m(\u001b[0m\u001b[0mself\u001b[0m\u001b[0;34m.\u001b[0m\u001b[0m_chunk_size\u001b[0m\u001b[0;34m)\u001b[0m\u001b[0;34m\u001b[0m\u001b[0;34m\u001b[0m\u001b[0m\n\u001b[0m\u001b[1;32m    201\u001b[0m         \u001b[0;32mreturn\u001b[0m \u001b[0msix\u001b[0m\u001b[0;34m.\u001b[0m\u001b[0mb\u001b[0m\u001b[0;34m(\u001b[0m\u001b[0;34m''\u001b[0m\u001b[0;34m)\u001b[0m\u001b[0;34m\u001b[0m\u001b[0;34m\u001b[0m\u001b[0m\n\u001b[1;32m    202\u001b[0m \u001b[0;34m\u001b[0m\u001b[0m\n",
      "\u001b[0;32m/usr/local/lib/python3.7/dist-packages/urllib3/response.py\u001b[0m in \u001b[0;36mread\u001b[0;34m(self, amt, decode_content, cache_content)\u001b[0m\n\u001b[1;32m    442\u001b[0m             \u001b[0;32melse\u001b[0m\u001b[0;34m:\u001b[0m\u001b[0;34m\u001b[0m\u001b[0;34m\u001b[0m\u001b[0m\n\u001b[1;32m    443\u001b[0m                 \u001b[0mcache_content\u001b[0m \u001b[0;34m=\u001b[0m \u001b[0;32mFalse\u001b[0m\u001b[0;34m\u001b[0m\u001b[0;34m\u001b[0m\u001b[0m\n\u001b[0;32m--> 444\u001b[0;31m                 \u001b[0mdata\u001b[0m \u001b[0;34m=\u001b[0m \u001b[0mself\u001b[0m\u001b[0;34m.\u001b[0m\u001b[0m_fp\u001b[0m\u001b[0;34m.\u001b[0m\u001b[0mread\u001b[0m\u001b[0;34m(\u001b[0m\u001b[0mamt\u001b[0m\u001b[0;34m)\u001b[0m\u001b[0;34m\u001b[0m\u001b[0;34m\u001b[0m\u001b[0m\n\u001b[0m\u001b[1;32m    445\u001b[0m                 \u001b[0;32mif\u001b[0m \u001b[0mamt\u001b[0m \u001b[0;34m!=\u001b[0m \u001b[0;36m0\u001b[0m \u001b[0;32mand\u001b[0m \u001b[0;32mnot\u001b[0m \u001b[0mdata\u001b[0m\u001b[0;34m:\u001b[0m  \u001b[0;31m# Platform-specific: Buggy versions of Python.\u001b[0m\u001b[0;34m\u001b[0m\u001b[0;34m\u001b[0m\u001b[0m\n\u001b[1;32m    446\u001b[0m                     \u001b[0;31m# Close the connection when no data is returned\u001b[0m\u001b[0;34m\u001b[0m\u001b[0;34m\u001b[0m\u001b[0;34m\u001b[0m\u001b[0m\n",
      "\u001b[0;32m/usr/lib/python3.7/http/client.py\u001b[0m in \u001b[0;36mread\u001b[0;34m(self, amt)\u001b[0m\n\u001b[1;32m    463\u001b[0m             \u001b[0;31m# Amount is given, implement using readinto\u001b[0m\u001b[0;34m\u001b[0m\u001b[0;34m\u001b[0m\u001b[0;34m\u001b[0m\u001b[0m\n\u001b[1;32m    464\u001b[0m             \u001b[0mb\u001b[0m \u001b[0;34m=\u001b[0m \u001b[0mbytearray\u001b[0m\u001b[0;34m(\u001b[0m\u001b[0mamt\u001b[0m\u001b[0;34m)\u001b[0m\u001b[0;34m\u001b[0m\u001b[0;34m\u001b[0m\u001b[0m\n\u001b[0;32m--> 465\u001b[0;31m             \u001b[0mn\u001b[0m \u001b[0;34m=\u001b[0m \u001b[0mself\u001b[0m\u001b[0;34m.\u001b[0m\u001b[0mreadinto\u001b[0m\u001b[0;34m(\u001b[0m\u001b[0mb\u001b[0m\u001b[0;34m)\u001b[0m\u001b[0;34m\u001b[0m\u001b[0;34m\u001b[0m\u001b[0m\n\u001b[0m\u001b[1;32m    466\u001b[0m             \u001b[0;32mreturn\u001b[0m \u001b[0mmemoryview\u001b[0m\u001b[0;34m(\u001b[0m\u001b[0mb\u001b[0m\u001b[0;34m)\u001b[0m\u001b[0;34m[\u001b[0m\u001b[0;34m:\u001b[0m\u001b[0mn\u001b[0m\u001b[0;34m]\u001b[0m\u001b[0;34m.\u001b[0m\u001b[0mtobytes\u001b[0m\u001b[0;34m(\u001b[0m\u001b[0;34m)\u001b[0m\u001b[0;34m\u001b[0m\u001b[0;34m\u001b[0m\u001b[0m\n\u001b[1;32m    467\u001b[0m         \u001b[0;32melse\u001b[0m\u001b[0;34m:\u001b[0m\u001b[0;34m\u001b[0m\u001b[0;34m\u001b[0m\u001b[0m\n",
      "\u001b[0;32m/usr/lib/python3.7/http/client.py\u001b[0m in \u001b[0;36mreadinto\u001b[0;34m(self, b)\u001b[0m\n\u001b[1;32m    497\u001b[0m \u001b[0;34m\u001b[0m\u001b[0m\n\u001b[1;32m    498\u001b[0m         \u001b[0;32mif\u001b[0m \u001b[0mself\u001b[0m\u001b[0;34m.\u001b[0m\u001b[0mchunked\u001b[0m\u001b[0;34m:\u001b[0m\u001b[0;34m\u001b[0m\u001b[0;34m\u001b[0m\u001b[0m\n\u001b[0;32m--> 499\u001b[0;31m             \u001b[0;32mreturn\u001b[0m \u001b[0mself\u001b[0m\u001b[0;34m.\u001b[0m\u001b[0m_readinto_chunked\u001b[0m\u001b[0;34m(\u001b[0m\u001b[0mb\u001b[0m\u001b[0;34m)\u001b[0m\u001b[0;34m\u001b[0m\u001b[0;34m\u001b[0m\u001b[0m\n\u001b[0m\u001b[1;32m    500\u001b[0m \u001b[0;34m\u001b[0m\u001b[0m\n\u001b[1;32m    501\u001b[0m         \u001b[0;32mif\u001b[0m \u001b[0mself\u001b[0m\u001b[0;34m.\u001b[0m\u001b[0mlength\u001b[0m \u001b[0;32mis\u001b[0m \u001b[0;32mnot\u001b[0m \u001b[0;32mNone\u001b[0m\u001b[0;34m:\u001b[0m\u001b[0;34m\u001b[0m\u001b[0;34m\u001b[0m\u001b[0m\n",
      "\u001b[0;32m/usr/lib/python3.7/http/client.py\u001b[0m in \u001b[0;36m_readinto_chunked\u001b[0;34m(self, b)\u001b[0m\n\u001b[1;32m    592\u001b[0m         \u001b[0;32mtry\u001b[0m\u001b[0;34m:\u001b[0m\u001b[0;34m\u001b[0m\u001b[0;34m\u001b[0m\u001b[0m\n\u001b[1;32m    593\u001b[0m             \u001b[0;32mwhile\u001b[0m \u001b[0;32mTrue\u001b[0m\u001b[0;34m:\u001b[0m\u001b[0;34m\u001b[0m\u001b[0;34m\u001b[0m\u001b[0m\n\u001b[0;32m--> 594\u001b[0;31m                 \u001b[0mchunk_left\u001b[0m \u001b[0;34m=\u001b[0m \u001b[0mself\u001b[0m\u001b[0;34m.\u001b[0m\u001b[0m_get_chunk_left\u001b[0m\u001b[0;34m(\u001b[0m\u001b[0;34m)\u001b[0m\u001b[0;34m\u001b[0m\u001b[0;34m\u001b[0m\u001b[0m\n\u001b[0m\u001b[1;32m    595\u001b[0m                 \u001b[0;32mif\u001b[0m \u001b[0mchunk_left\u001b[0m \u001b[0;32mis\u001b[0m \u001b[0;32mNone\u001b[0m\u001b[0;34m:\u001b[0m\u001b[0;34m\u001b[0m\u001b[0;34m\u001b[0m\u001b[0m\n\u001b[1;32m    596\u001b[0m                     \u001b[0;32mreturn\u001b[0m \u001b[0mtotal_bytes\u001b[0m\u001b[0;34m\u001b[0m\u001b[0;34m\u001b[0m\u001b[0m\n",
      "\u001b[0;32m/usr/lib/python3.7/http/client.py\u001b[0m in \u001b[0;36m_get_chunk_left\u001b[0;34m(self)\u001b[0m\n\u001b[1;32m    560\u001b[0m                 \u001b[0mself\u001b[0m\u001b[0;34m.\u001b[0m\u001b[0m_safe_read\u001b[0m\u001b[0;34m(\u001b[0m\u001b[0;36m2\u001b[0m\u001b[0;34m)\u001b[0m  \u001b[0;31m# toss the CRLF at the end of the chunk\u001b[0m\u001b[0;34m\u001b[0m\u001b[0;34m\u001b[0m\u001b[0m\n\u001b[1;32m    561\u001b[0m             \u001b[0;32mtry\u001b[0m\u001b[0;34m:\u001b[0m\u001b[0;34m\u001b[0m\u001b[0;34m\u001b[0m\u001b[0m\n\u001b[0;32m--> 562\u001b[0;31m                 \u001b[0mchunk_left\u001b[0m \u001b[0;34m=\u001b[0m \u001b[0mself\u001b[0m\u001b[0;34m.\u001b[0m\u001b[0m_read_next_chunk_size\u001b[0m\u001b[0;34m(\u001b[0m\u001b[0;34m)\u001b[0m\u001b[0;34m\u001b[0m\u001b[0;34m\u001b[0m\u001b[0m\n\u001b[0m\u001b[1;32m    563\u001b[0m             \u001b[0;32mexcept\u001b[0m \u001b[0mValueError\u001b[0m\u001b[0;34m:\u001b[0m\u001b[0;34m\u001b[0m\u001b[0;34m\u001b[0m\u001b[0m\n\u001b[1;32m    564\u001b[0m                 \u001b[0;32mraise\u001b[0m \u001b[0mIncompleteRead\u001b[0m\u001b[0;34m(\u001b[0m\u001b[0;34mb''\u001b[0m\u001b[0;34m)\u001b[0m\u001b[0;34m\u001b[0m\u001b[0;34m\u001b[0m\u001b[0m\n",
      "\u001b[0;32m/usr/lib/python3.7/http/client.py\u001b[0m in \u001b[0;36m_read_next_chunk_size\u001b[0;34m(self)\u001b[0m\n\u001b[1;32m    520\u001b[0m     \u001b[0;32mdef\u001b[0m \u001b[0m_read_next_chunk_size\u001b[0m\u001b[0;34m(\u001b[0m\u001b[0mself\u001b[0m\u001b[0;34m)\u001b[0m\u001b[0;34m:\u001b[0m\u001b[0;34m\u001b[0m\u001b[0;34m\u001b[0m\u001b[0m\n\u001b[1;32m    521\u001b[0m         \u001b[0;31m# Read the next chunk size from the file\u001b[0m\u001b[0;34m\u001b[0m\u001b[0;34m\u001b[0m\u001b[0;34m\u001b[0m\u001b[0m\n\u001b[0;32m--> 522\u001b[0;31m         \u001b[0mline\u001b[0m \u001b[0;34m=\u001b[0m \u001b[0mself\u001b[0m\u001b[0;34m.\u001b[0m\u001b[0mfp\u001b[0m\u001b[0;34m.\u001b[0m\u001b[0mreadline\u001b[0m\u001b[0;34m(\u001b[0m\u001b[0m_MAXLINE\u001b[0m \u001b[0;34m+\u001b[0m \u001b[0;36m1\u001b[0m\u001b[0;34m)\u001b[0m\u001b[0;34m\u001b[0m\u001b[0;34m\u001b[0m\u001b[0m\n\u001b[0m\u001b[1;32m    523\u001b[0m         \u001b[0;32mif\u001b[0m \u001b[0mlen\u001b[0m\u001b[0;34m(\u001b[0m\u001b[0mline\u001b[0m\u001b[0;34m)\u001b[0m \u001b[0;34m>\u001b[0m \u001b[0m_MAXLINE\u001b[0m\u001b[0;34m:\u001b[0m\u001b[0;34m\u001b[0m\u001b[0;34m\u001b[0m\u001b[0m\n\u001b[1;32m    524\u001b[0m             \u001b[0;32mraise\u001b[0m \u001b[0mLineTooLong\u001b[0m\u001b[0;34m(\u001b[0m\u001b[0;34m\"chunk size\"\u001b[0m\u001b[0;34m)\u001b[0m\u001b[0;34m\u001b[0m\u001b[0;34m\u001b[0m\u001b[0m\n",
      "\u001b[0;32m/usr/lib/python3.7/socket.py\u001b[0m in \u001b[0;36mreadinto\u001b[0;34m(self, b)\u001b[0m\n\u001b[1;32m    587\u001b[0m         \u001b[0;32mwhile\u001b[0m \u001b[0;32mTrue\u001b[0m\u001b[0;34m:\u001b[0m\u001b[0;34m\u001b[0m\u001b[0;34m\u001b[0m\u001b[0m\n\u001b[1;32m    588\u001b[0m             \u001b[0;32mtry\u001b[0m\u001b[0;34m:\u001b[0m\u001b[0;34m\u001b[0m\u001b[0;34m\u001b[0m\u001b[0m\n\u001b[0;32m--> 589\u001b[0;31m                 \u001b[0;32mreturn\u001b[0m \u001b[0mself\u001b[0m\u001b[0;34m.\u001b[0m\u001b[0m_sock\u001b[0m\u001b[0;34m.\u001b[0m\u001b[0mrecv_into\u001b[0m\u001b[0;34m(\u001b[0m\u001b[0mb\u001b[0m\u001b[0;34m)\u001b[0m\u001b[0;34m\u001b[0m\u001b[0;34m\u001b[0m\u001b[0m\n\u001b[0m\u001b[1;32m    590\u001b[0m             \u001b[0;32mexcept\u001b[0m \u001b[0mtimeout\u001b[0m\u001b[0;34m:\u001b[0m\u001b[0;34m\u001b[0m\u001b[0;34m\u001b[0m\u001b[0m\n\u001b[1;32m    591\u001b[0m                 \u001b[0mself\u001b[0m\u001b[0;34m.\u001b[0m\u001b[0m_timeout_occurred\u001b[0m \u001b[0;34m=\u001b[0m \u001b[0;32mTrue\u001b[0m\u001b[0;34m\u001b[0m\u001b[0;34m\u001b[0m\u001b[0m\n",
      "\u001b[0;32m/usr/lib/python3.7/ssl.py\u001b[0m in \u001b[0;36mrecv_into\u001b[0;34m(self, buffer, nbytes, flags)\u001b[0m\n\u001b[1;32m   1069\u001b[0m                   \u001b[0;34m\"non-zero flags not allowed in calls to recv_into() on %s\"\u001b[0m \u001b[0;34m%\u001b[0m\u001b[0;34m\u001b[0m\u001b[0;34m\u001b[0m\u001b[0m\n\u001b[1;32m   1070\u001b[0m                   self.__class__)\n\u001b[0;32m-> 1071\u001b[0;31m             \u001b[0;32mreturn\u001b[0m \u001b[0mself\u001b[0m\u001b[0;34m.\u001b[0m\u001b[0mread\u001b[0m\u001b[0;34m(\u001b[0m\u001b[0mnbytes\u001b[0m\u001b[0;34m,\u001b[0m \u001b[0mbuffer\u001b[0m\u001b[0;34m)\u001b[0m\u001b[0;34m\u001b[0m\u001b[0;34m\u001b[0m\u001b[0m\n\u001b[0m\u001b[1;32m   1072\u001b[0m         \u001b[0;32melse\u001b[0m\u001b[0;34m:\u001b[0m\u001b[0;34m\u001b[0m\u001b[0;34m\u001b[0m\u001b[0m\n\u001b[1;32m   1073\u001b[0m             \u001b[0;32mreturn\u001b[0m \u001b[0msuper\u001b[0m\u001b[0;34m(\u001b[0m\u001b[0;34m)\u001b[0m\u001b[0;34m.\u001b[0m\u001b[0mrecv_into\u001b[0m\u001b[0;34m(\u001b[0m\u001b[0mbuffer\u001b[0m\u001b[0;34m,\u001b[0m \u001b[0mnbytes\u001b[0m\u001b[0;34m,\u001b[0m \u001b[0mflags\u001b[0m\u001b[0;34m)\u001b[0m\u001b[0;34m\u001b[0m\u001b[0;34m\u001b[0m\u001b[0m\n",
      "\u001b[0;32m/usr/lib/python3.7/ssl.py\u001b[0m in \u001b[0;36mread\u001b[0;34m(self, len, buffer)\u001b[0m\n\u001b[1;32m    927\u001b[0m         \u001b[0;32mtry\u001b[0m\u001b[0;34m:\u001b[0m\u001b[0;34m\u001b[0m\u001b[0;34m\u001b[0m\u001b[0m\n\u001b[1;32m    928\u001b[0m             \u001b[0;32mif\u001b[0m \u001b[0mbuffer\u001b[0m \u001b[0;32mis\u001b[0m \u001b[0;32mnot\u001b[0m \u001b[0;32mNone\u001b[0m\u001b[0;34m:\u001b[0m\u001b[0;34m\u001b[0m\u001b[0;34m\u001b[0m\u001b[0m\n\u001b[0;32m--> 929\u001b[0;31m                 \u001b[0;32mreturn\u001b[0m \u001b[0mself\u001b[0m\u001b[0;34m.\u001b[0m\u001b[0m_sslobj\u001b[0m\u001b[0;34m.\u001b[0m\u001b[0mread\u001b[0m\u001b[0;34m(\u001b[0m\u001b[0mlen\u001b[0m\u001b[0;34m,\u001b[0m \u001b[0mbuffer\u001b[0m\u001b[0;34m)\u001b[0m\u001b[0;34m\u001b[0m\u001b[0;34m\u001b[0m\u001b[0m\n\u001b[0m\u001b[1;32m    930\u001b[0m             \u001b[0;32melse\u001b[0m\u001b[0;34m:\u001b[0m\u001b[0;34m\u001b[0m\u001b[0;34m\u001b[0m\u001b[0m\n\u001b[1;32m    931\u001b[0m                 \u001b[0;32mreturn\u001b[0m \u001b[0mself\u001b[0m\u001b[0;34m.\u001b[0m\u001b[0m_sslobj\u001b[0m\u001b[0;34m.\u001b[0m\u001b[0mread\u001b[0m\u001b[0;34m(\u001b[0m\u001b[0mlen\u001b[0m\u001b[0;34m)\u001b[0m\u001b[0;34m\u001b[0m\u001b[0;34m\u001b[0m\u001b[0m\n",
      "\u001b[0;31mKeyboardInterrupt\u001b[0m: "
     ]
    },
    {
     "name": "stdout",
     "output_type": "stream",
     "text": [
      "time: 4.37 s (started: 2021-11-15 22:17:51 +00:00)\n"
     ]
    }
   ],
   "source": [
    "query = ['NittoATPFinals' or '#ATPFinals' or 'ATPFinals' or 'TennisTakesOverTorino' or 'Djokovic' or 'Medvedev' or 'Zverev' or 'Tsitsipas' or 'Rublev' or 'Berrettini' or 'Hurkacz' or 'Ruud' or 'Sinner']\n",
    "myStream.filter(track=query)"
   ]
  },
  {
   "cell_type": "code",
   "execution_count": null,
   "metadata": {
    "colab": {
     "base_uri": "https://localhost:8080/"
    },
    "executionInfo": {
     "elapsed": 398,
     "status": "ok",
     "timestamp": 1637014682796,
     "user": {
      "displayName": "Antonello Manenti",
      "photoUrl": "https://lh3.googleusercontent.com/a/default-user=s64",
      "userId": "17495113583668482416"
     },
     "user_tz": -60
    },
    "id": "wvUTo5db_ulg",
    "outputId": "1ebfe564-15c6-4b9b-f3f7-9f9898140ccb"
   },
   "outputs": [
    {
     "data": {
      "text/plain": [
       "0"
      ]
     },
     "execution_count": 62,
     "metadata": {},
     "output_type": "execute_result"
    },
    {
     "name": "stdout",
     "output_type": "stream",
     "text": [
      "time: 4.37 ms (started: 2021-11-15 22:18:02 +00:00)\n"
     ]
    }
   ],
   "source": [
    "len(myStreamListener.data)"
   ]
  },
  {
   "cell_type": "code",
   "execution_count": null,
   "metadata": {
    "id": "Od_-LHco_yh6"
   },
   "outputs": [],
   "source": [
    "dict_ = {'id': [], 'user': [], 'date': [], 'text': [], \n",
    "         'favorite_count': [], 'hashtags': [], \n",
    "         'location': [], 'retweet': [], 'retweet_count': [], 'followers_count': [], 'in_reply_to_status_id':[], 'user_mentions':[]}\n",
    "#\n",
    "for status_j in myStreamListener.data:\n",
    "    status = status_j._json\n",
    "\n",
    "    if 'retweeted_status' in status:\n",
    "      if 'extended_tweet' in status['retweeted_status']:\n",
    "        text = status['retweeted_status']['extended_tweet']['full_text']\n",
    "        dict_['text'].append(text)\n",
    "      else:\n",
    "        text = status['retweeted_status']['text']\n",
    "        dict_['text'].append(text)\n",
    "    else:\n",
    "      if 'extended_tweet' in status:\n",
    "        text = status['extended_tweet']['full_text']\n",
    "        dict_['text'].append(text)\n",
    "      else:\n",
    "        text = status['text']\n",
    "        dict_['text'].append(text)\n",
    "\n",
    "    dict_['id'].append(status['id'])\n",
    "    dict_['user'].append(status['user']['screen_name'])\n",
    "    dict_['hashtags'].append([hashtag['text'] for hashtag in status['entities']['hashtags']])\n",
    "    dict_['user_mentions'].append([user_mention['screen_name'] for user_mention in status['entities']['user_mentions']])\n",
    "    dict_['location'].append(status['user']['location'])\n",
    "    dict_['followers_count'].append(status['user']['followers_count'])\n",
    "    dict_['in_reply_to_status_id'].append(status['in_reply_to_status_id'])\n",
    "    dict_['date'].append(status['created_at'])\n",
    "    dict_['favorite_count'].append(status['favorite_count'])\n",
    "    dict_['retweet_count'].append(status['retweet_count'])\n",
    "    dict_['retweet'].append(status['retweeted'])"
   ]
  },
  {
   "cell_type": "code",
   "execution_count": null,
   "metadata": {
    "colab": {
     "base_uri": "https://localhost:8080/",
     "height": 1000
    },
    "executionInfo": {
     "elapsed": 376,
     "status": "ok",
     "timestamp": 1637253049648,
     "user": {
      "displayName": "Antonello Manenti",
      "photoUrl": "https://lh3.googleusercontent.com/a/default-user=s64",
      "userId": "17495113583668482416"
     },
     "user_tz": -60
    },
    "id": "AxsfeH0r_0YX",
    "outputId": "446a2722-ef00-4278-d47b-a323ffe3306b"
   },
   "outputs": [
    {
     "data": {
      "text/html": [
       "<div>\n",
       "<style scoped>\n",
       "    .dataframe tbody tr th:only-of-type {\n",
       "        vertical-align: middle;\n",
       "    }\n",
       "\n",
       "    .dataframe tbody tr th {\n",
       "        vertical-align: top;\n",
       "    }\n",
       "\n",
       "    .dataframe thead th {\n",
       "        text-align: right;\n",
       "    }\n",
       "</style>\n",
       "<table border=\"1\" class=\"dataframe\">\n",
       "  <thead>\n",
       "    <tr style=\"text-align: right;\">\n",
       "      <th></th>\n",
       "      <th>user</th>\n",
       "      <th>date</th>\n",
       "      <th>text</th>\n",
       "      <th>favorite_count</th>\n",
       "      <th>hashtags</th>\n",
       "      <th>location</th>\n",
       "      <th>retweet</th>\n",
       "      <th>retweet_count</th>\n",
       "      <th>followers_count</th>\n",
       "      <th>in_reply_to_status_id</th>\n",
       "      <th>user_mentions</th>\n",
       "    </tr>\n",
       "    <tr>\n",
       "      <th>id</th>\n",
       "      <th></th>\n",
       "      <th></th>\n",
       "      <th></th>\n",
       "      <th></th>\n",
       "      <th></th>\n",
       "      <th></th>\n",
       "      <th></th>\n",
       "      <th></th>\n",
       "      <th></th>\n",
       "      <th></th>\n",
       "      <th></th>\n",
       "    </tr>\n",
       "  </thead>\n",
       "  <tbody>\n",
       "    <tr>\n",
       "      <th>1460003463719440388</th>\n",
       "      <td>TennisTV</td>\n",
       "      <td>Sun Nov 14 21:55:25 +0000 2021</td>\n",
       "      <td>Not how any of us wanted this one to end 😢\\n\\n...</td>\n",
       "      <td>2696</td>\n",
       "      <td>[NittoATPFinals]</td>\n",
       "      <td>Watch ATP Tour tournaments 👉</td>\n",
       "      <td>False</td>\n",
       "      <td>304</td>\n",
       "      <td>420515</td>\n",
       "      <td>NaN</td>\n",
       "      <td>[]</td>\n",
       "    </tr>\n",
       "    <tr>\n",
       "      <th>1460635739532582912</th>\n",
       "      <td>atptour</td>\n",
       "      <td>Tue Nov 16 15:47:52 +0000 2021</td>\n",
       "      <td>Relentless 💪 \\n\\n🇷🇺 @DaniilMedwed battles past...</td>\n",
       "      <td>1832</td>\n",
       "      <td>[NittoATPFinals]</td>\n",
       "      <td>Follow the ATP Tour ➡</td>\n",
       "      <td>False</td>\n",
       "      <td>188</td>\n",
       "      <td>1690836</td>\n",
       "      <td>NaN</td>\n",
       "      <td>[DaniilMedwed]</td>\n",
       "    </tr>\n",
       "    <tr>\n",
       "      <th>1460003037032824836</th>\n",
       "      <td>atptour</td>\n",
       "      <td>Sun Nov 14 21:53:44 +0000 2021</td>\n",
       "      <td>💔\\n\\nMatteo Berrettini is forced to retire aga...</td>\n",
       "      <td>1824</td>\n",
       "      <td>[NittoATPFinals]</td>\n",
       "      <td>Follow the ATP Tour ➡</td>\n",
       "      <td>False</td>\n",
       "      <td>146</td>\n",
       "      <td>1690836</td>\n",
       "      <td>NaN</td>\n",
       "      <td>[]</td>\n",
       "    </tr>\n",
       "    <tr>\n",
       "      <th>1460005336006463488</th>\n",
       "      <td>ItaliaTeam_it</td>\n",
       "      <td>Sun Nov 14 22:02:52 +0000 2021</td>\n",
       "      <td>A causa di un infortunio Matteo Berrettini è c...</td>\n",
       "      <td>1695</td>\n",
       "      <td>[NittoATPFinals, ItaliaTeam]</td>\n",
       "      <td>Italia</td>\n",
       "      <td>False</td>\n",
       "      <td>158</td>\n",
       "      <td>103925</td>\n",
       "      <td>NaN</td>\n",
       "      <td>[MattBerrettini, federtennis]</td>\n",
       "    </tr>\n",
       "    <tr>\n",
       "      <th>1460006164935200772</th>\n",
       "      <td>FBiasin</td>\n",
       "      <td>Sun Nov 14 22:06:09 +0000 2021</td>\n",
       "      <td>Gran bel gesto di #Zverev.\\n\\n#Berrettini http...</td>\n",
       "      <td>1554</td>\n",
       "      <td>[Zverev, Berrettini]</td>\n",
       "      <td></td>\n",
       "      <td>False</td>\n",
       "      <td>53</td>\n",
       "      <td>141643</td>\n",
       "      <td>NaN</td>\n",
       "      <td>[]</td>\n",
       "    </tr>\n",
       "    <tr>\n",
       "      <th>1460002788948287489</th>\n",
       "      <td>TennisTV</td>\n",
       "      <td>Sun Nov 14 21:52:45 +0000 2021</td>\n",
       "      <td>Devastating 😔\\n\\nMatteo Berrettini pulls up wi...</td>\n",
       "      <td>1315</td>\n",
       "      <td>[NittoATPFinals]</td>\n",
       "      <td>Watch ATP Tour tournaments 👉</td>\n",
       "      <td>False</td>\n",
       "      <td>135</td>\n",
       "      <td>420515</td>\n",
       "      <td>NaN</td>\n",
       "      <td>[]</td>\n",
       "    </tr>\n",
       "    <tr>\n",
       "      <th>1460003575149604869</th>\n",
       "      <td>romeoagresti</td>\n",
       "      <td>Sun Nov 14 21:55:52 +0000 2021</td>\n",
       "      <td>Che bello il gesto di #Zverev —&amp;gt; ☹️</td>\n",
       "      <td>869</td>\n",
       "      <td>[Zverev]</td>\n",
       "      <td>Torino</td>\n",
       "      <td>False</td>\n",
       "      <td>38</td>\n",
       "      <td>134357</td>\n",
       "      <td>NaN</td>\n",
       "      <td>[]</td>\n",
       "    </tr>\n",
       "    <tr>\n",
       "      <th>1460621045644234757</th>\n",
       "      <td>atptour</td>\n",
       "      <td>Tue Nov 16 14:49:28 +0000 2021</td>\n",
       "      <td>Zverev's not done yet 😳 We're going 3!\\n\\nMedv...</td>\n",
       "      <td>697</td>\n",
       "      <td>[NittoATPFinals]</td>\n",
       "      <td>Follow the ATP Tour ➡</td>\n",
       "      <td>False</td>\n",
       "      <td>57</td>\n",
       "      <td>1690836</td>\n",
       "      <td>NaN</td>\n",
       "      <td>[]</td>\n",
       "    </tr>\n",
       "    <tr>\n",
       "      <th>1461337322276855811</th>\n",
       "      <td>josemorgado</td>\n",
       "      <td>Thu Nov 18 14:15:42 +0000 2021</td>\n",
       "      <td>Medvedev-Sinner will be a dead rubber.\\n\\nAbso...</td>\n",
       "      <td>606</td>\n",
       "      <td>[]</td>\n",
       "      <td>Lisbon, Portugal</td>\n",
       "      <td>False</td>\n",
       "      <td>34</td>\n",
       "      <td>83821</td>\n",
       "      <td>NaN</td>\n",
       "      <td>[]</td>\n",
       "    </tr>\n",
       "    <tr>\n",
       "      <th>1460635737959931906</th>\n",
       "      <td>josemorgado</td>\n",
       "      <td>Tue Nov 16 15:47:51 +0000 2021</td>\n",
       "      <td>Daniil Medvedev gets a big win over Alexander ...</td>\n",
       "      <td>562</td>\n",
       "      <td>[]</td>\n",
       "      <td>Lisbon, Portugal</td>\n",
       "      <td>False</td>\n",
       "      <td>31</td>\n",
       "      <td>83822</td>\n",
       "      <td>NaN</td>\n",
       "      <td>[]</td>\n",
       "    </tr>\n",
       "  </tbody>\n",
       "</table>\n",
       "</div>"
      ],
      "text/plain": [
       "                              user  ...                  user_mentions\n",
       "id                                  ...                               \n",
       "1460003463719440388       TennisTV  ...                             []\n",
       "1460635739532582912        atptour  ...                 [DaniilMedwed]\n",
       "1460003037032824836        atptour  ...                             []\n",
       "1460005336006463488  ItaliaTeam_it  ...  [MattBerrettini, federtennis]\n",
       "1460006164935200772        FBiasin  ...                             []\n",
       "1460002788948287489       TennisTV  ...                             []\n",
       "1460003575149604869   romeoagresti  ...                             []\n",
       "1460621045644234757        atptour  ...                             []\n",
       "1461337322276855811    josemorgado  ...                             []\n",
       "1460635737959931906    josemorgado  ...                             []\n",
       "\n",
       "[10 rows x 11 columns]"
      ]
     },
     "execution_count": 36,
     "metadata": {},
     "output_type": "execute_result"
    }
   ],
   "source": [
    "df = pd.DataFrame.from_dict(dict_, orient=\"columns\")\n",
    "df = df.set_index(\"id\")\n",
    "df.sort_values(by='favorite_count', inplace=True, ascending=False)\n",
    "df.head(10)"
   ]
  },
  {
   "cell_type": "code",
   "execution_count": null,
   "metadata": {
    "id": "c6hPQxS3_6fj"
   },
   "outputs": [],
   "source": [
    "df.to_csv(f'{scrapingATP_root_dir}twitter_stream_{utente}_{prog}_{lang}_{len(myStreamListener.data)}.csv') #scarico l'ultimo stream"
   ]
  },
  {
   "cell_type": "code",
   "execution_count": null,
   "metadata": {
    "id": "ypONx-rx_99j"
   },
   "outputs": [],
   "source": [
    "#unisco tutti i csv\n",
    "\n",
    "path = scrapingATP_root_dir\n",
    "\n",
    "all_files = glob.glob(os.path.join(path, \"twitter_*.csv\"))\n",
    "df_from_each_file = (pd.read_csv(f, sep=',') for f in all_files)\n",
    "df_merged = pd.concat(df_from_each_file, ignore_index=True)\n",
    "df_merged.drop_duplicates(subset=['id'], inplace=True, ignore_index=False)\n",
    "df_merged.to_csv(f'{etl_root_dir}twitter_merged_from_scraping.csv', index=False, sep=',', encoding='utf-8')"
   ]
  },
  {
   "cell_type": "code",
   "execution_count": null,
   "metadata": {
    "colab": {
     "base_uri": "https://localhost:8080/"
    },
    "executionInfo": {
     "elapsed": 646,
     "status": "ok",
     "timestamp": 1637253274679,
     "user": {
      "displayName": "Antonello Manenti",
      "photoUrl": "https://lh3.googleusercontent.com/a/default-user=s64",
      "userId": "17495113583668482416"
     },
     "user_tz": -60
    },
    "id": "5e-bKUNUHtFr",
    "outputId": "eee4a3b8-d5bb-49c4-d1af-5b477f48700a"
   },
   "outputs": [
    {
     "name": "stdout",
     "output_type": "stream",
     "text": [
      "<class 'pandas.core.frame.DataFrame'>\n",
      "RangeIndex: 33480 entries, 0 to 33479\n",
      "Data columns (total 12 columns):\n",
      " #   Column                 Non-Null Count  Dtype  \n",
      "---  ------                 --------------  -----  \n",
      " 0   id                     33480 non-null  int64  \n",
      " 1   user                   33480 non-null  object \n",
      " 2   date                   33480 non-null  object \n",
      " 3   text                   33480 non-null  object \n",
      " 4   favorite_count         33480 non-null  int64  \n",
      " 5   hashtags               33480 non-null  object \n",
      " 6   location               19827 non-null  object \n",
      " 7   retweet                33480 non-null  bool   \n",
      " 8   retweet_count          33480 non-null  int64  \n",
      " 9   followers_count        33480 non-null  int64  \n",
      " 10  in_reply_to_status_id  2999 non-null   float64\n",
      " 11  user_mentions          33480 non-null  object \n",
      "dtypes: bool(1), float64(1), int64(4), object(6)\n",
      "memory usage: 2.8+ MB\n"
     ]
    }
   ],
   "source": [
    "df_merge = pd.read_csv(f'{etl_root_dir}twitter_merged_from_scraping.csv')\n",
    "df_merge.info()"
   ]
  },
  {
   "cell_type": "code",
   "execution_count": null,
   "metadata": {
    "colab": {
     "base_uri": "https://localhost:8080/",
     "height": 559
    },
    "executionInfo": {
     "elapsed": 953,
     "status": "ok",
     "timestamp": 1637253085088,
     "user": {
      "displayName": "Antonello Manenti",
      "photoUrl": "https://lh3.googleusercontent.com/a/default-user=s64",
      "userId": "17495113583668482416"
     },
     "user_tz": -60
    },
    "id": "EkyiON6TKi0T",
    "outputId": "cb39a5d2-3796-4fe7-c82b-da038a229f4e"
   },
   "outputs": [
    {
     "data": {
      "text/html": [
       "<div>\n",
       "<style scoped>\n",
       "    .dataframe tbody tr th:only-of-type {\n",
       "        vertical-align: middle;\n",
       "    }\n",
       "\n",
       "    .dataframe tbody tr th {\n",
       "        vertical-align: top;\n",
       "    }\n",
       "\n",
       "    .dataframe thead th {\n",
       "        text-align: right;\n",
       "    }\n",
       "</style>\n",
       "<table border=\"1\" class=\"dataframe\">\n",
       "  <thead>\n",
       "    <tr style=\"text-align: right;\">\n",
       "      <th></th>\n",
       "      <th>id</th>\n",
       "      <th>user</th>\n",
       "      <th>date</th>\n",
       "      <th>text</th>\n",
       "      <th>favorite_count</th>\n",
       "      <th>hashtags</th>\n",
       "      <th>location</th>\n",
       "      <th>retweet</th>\n",
       "      <th>retweet_count</th>\n",
       "      <th>followers_count</th>\n",
       "      <th>in_reply_to_status_id</th>\n",
       "      <th>user_mentions</th>\n",
       "    </tr>\n",
       "  </thead>\n",
       "  <tbody>\n",
       "    <tr>\n",
       "      <th>58124</th>\n",
       "      <td>1461119368969039882</td>\n",
       "      <td>Recupxrateur</td>\n",
       "      <td>Wed Nov 17 23:49:38 +0000 2021</td>\n",
       "      <td>🎯 | #ATPFinals \\n\\nZverev 2-0 | 1.67 | 1%\\nMed...</td>\n",
       "      <td>0</td>\n",
       "      <td>['ATPFinals', 'TeamParieur']</td>\n",
       "      <td>NaN</td>\n",
       "      <td>False</td>\n",
       "      <td>0</td>\n",
       "      <td>4</td>\n",
       "      <td>NaN</td>\n",
       "      <td>[]</td>\n",
       "    </tr>\n",
       "    <tr>\n",
       "      <th>58125</th>\n",
       "      <td>1461120133384994820</td>\n",
       "      <td>raihannb</td>\n",
       "      <td>Wed Nov 17 23:52:40 +0000 2021</td>\n",
       "      <td>Vigrin ATP: afraid to address Zverev's case\\nC...</td>\n",
       "      <td>0</td>\n",
       "      <td>[]</td>\n",
       "      <td>Australia</td>\n",
       "      <td>False</td>\n",
       "      <td>76</td>\n",
       "      <td>997</td>\n",
       "      <td>NaN</td>\n",
       "      <td>['_silver912']</td>\n",
       "    </tr>\n",
       "    <tr>\n",
       "      <th>58126</th>\n",
       "      <td>1461120695748997123</td>\n",
       "      <td>Marcelo21142</td>\n",
       "      <td>Wed Nov 17 23:54:54 +0000 2021</td>\n",
       "      <td>#NittoATPFinals Day 5 Media Notes: https://t.c...</td>\n",
       "      <td>0</td>\n",
       "      <td>['NittoATPFinals']</td>\n",
       "      <td>RJ</td>\n",
       "      <td>False</td>\n",
       "      <td>18</td>\n",
       "      <td>153</td>\n",
       "      <td>NaN</td>\n",
       "      <td>['ATPMediaInfo', 'DaniilMedwed', 'janniksin']</td>\n",
       "    </tr>\n",
       "    <tr>\n",
       "      <th>58127</th>\n",
       "      <td>1461120927844999172</td>\n",
       "      <td>MnardShady</td>\n",
       "      <td>Wed Nov 17 23:55:50 +0000 2021</td>\n",
       "      <td>@SG_Lockwood Bah ecoute, chacun son delire. De...</td>\n",
       "      <td>0</td>\n",
       "      <td>[]</td>\n",
       "      <td>Paris, France</td>\n",
       "      <td>False</td>\n",
       "      <td>0</td>\n",
       "      <td>71</td>\n",
       "      <td>1.461121e+18</td>\n",
       "      <td>['SG_Lockwood']</td>\n",
       "    </tr>\n",
       "    <tr>\n",
       "      <th>58128</th>\n",
       "      <td>1461120978436734981</td>\n",
       "      <td>PokornyRoland</td>\n",
       "      <td>Wed Nov 17 23:56:02 +0000 2021</td>\n",
       "      <td>@TheBorisBecker \\n\\nHi Boris.\\n\\nwill you comm...</td>\n",
       "      <td>0</td>\n",
       "      <td>[]</td>\n",
       "      <td>NaN</td>\n",
       "      <td>False</td>\n",
       "      <td>0</td>\n",
       "      <td>15</td>\n",
       "      <td>NaN</td>\n",
       "      <td>['TheBorisBecker']</td>\n",
       "    </tr>\n",
       "  </tbody>\n",
       "</table>\n",
       "</div>"
      ],
      "text/plain": [
       "                        id  ...                                  user_mentions\n",
       "58124  1461119368969039882  ...                                             []\n",
       "58125  1461120133384994820  ...                                 ['_silver912']\n",
       "58126  1461120695748997123  ...  ['ATPMediaInfo', 'DaniilMedwed', 'janniksin']\n",
       "58127  1461120927844999172  ...                                ['SG_Lockwood']\n",
       "58128  1461120978436734981  ...                             ['TheBorisBecker']\n",
       "\n",
       "[5 rows x 12 columns]"
      ]
     },
     "execution_count": 39,
     "metadata": {},
     "output_type": "execute_result"
    }
   ],
   "source": [
    "df_merge.tail()"
   ]
  },
  {
   "cell_type": "markdown",
   "metadata": {
    "id": "iY28vhKQN5M4"
   },
   "source": [
    "# 2. ETL\n",
    "**NATALIA**\n",
    "\n",
    "\n",
    "\n",
    "1.   rimuovere #\n",
    "2.   rimuovere id doppi\n",
    "1.   rimuovere http\n",
    "2.   rimuovere twitter con testo vuoto\n",
    "1.   rimuovere @\n",
    "\n",
    "\n",
    "\n",
    "file input: nucleare/ETL/twitter_merged_from_scraping.csv\n",
    "\n",
    "cartella output: nucleare/DWH/"
   ]
  },
  {
   "cell_type": "code",
   "execution_count": null,
   "metadata": {
    "id": "Lb72DopJvDNt"
   },
   "outputs": [],
   "source": []
  },
  {
   "cell_type": "markdown",
   "metadata": {
    "id": "p_O5Tw5nhIPI"
   },
   "source": [
    "# 3. Sentiment\n",
    "MARCO"
   ]
  },
  {
   "cell_type": "code",
   "execution_count": null,
   "metadata": {
    "id": "GXEg0QEgvgsH"
   },
   "outputs": [],
   "source": [
    "import pandas as pd\n",
    "df = pd.read_csv('')\n",
    "df.head()"
   ]
  },
  {
   "cell_type": "code",
   "execution_count": null,
   "metadata": {
    "id": "hS5bV5lw3Cxd"
   },
   "outputs": [],
   "source": []
  },
  {
   "cell_type": "markdown",
   "metadata": {
    "id": "te5iKhdZhKhS"
   },
   "source": [
    "# 4. BoW\n",
    "\n"
   ]
  },
  {
   "cell_type": "code",
   "execution_count": null,
   "metadata": {
    "id": "Txx7ELQWyt8O"
   },
   "outputs": [],
   "source": []
  },
  {
   "cell_type": "markdown",
   "metadata": {
    "id": "z7-bSqpxyl3X"
   },
   "source": [
    "# 5. Word embeddings\n",
    "TONE'"
   ]
  },
  {
   "cell_type": "code",
   "execution_count": null,
   "metadata": {
    "id": "jpxFJs7uytJe"
   },
   "outputs": [],
   "source": []
  },
  {
   "cell_type": "markdown",
   "metadata": {
    "id": "0lfMGMxdypst"
   },
   "source": [
    "# 6. Lime"
   ]
  },
  {
   "cell_type": "code",
   "execution_count": null,
   "metadata": {
    "id": "eOBsslToysP2"
   },
   "outputs": [],
   "source": []
  },
  {
   "cell_type": "markdown",
   "metadata": {
    "id": "lyhEC_7ShQUW"
   },
   "source": [
    "# \"SocialNetwork Analisys\""
   ]
  },
  {
   "cell_type": "code",
   "execution_count": null,
   "metadata": {
    "id": "a-Qbz_M9yydn"
   },
   "outputs": [],
   "source": []
  }
 ],
 "metadata": {
  "colab": {
   "collapsed_sections": [],
   "name": "main.ipynb",
   "provenance": []
  },
  "kernelspec": {
   "display_name": "Python 3 (ipykernel)",
   "language": "python",
   "name": "python3"
  },
  "language_info": {
   "codemirror_mode": {
    "name": "ipython",
    "version": 3
   },
   "file_extension": ".py",
   "mimetype": "text/x-python",
   "name": "python",
   "nbconvert_exporter": "python",
   "pygments_lexer": "ipython3",
   "version": "3.9.9"
  },
  "widgets": {
   "application/vnd.jupyter.widget-state+json": {
    "2064003c31b64cfeaff8e8e1c9b40451": {
     "model_module": "@jupyter-widgets/controls",
     "model_module_version": "1.5.0",
     "model_name": "HBoxModel",
     "state": {
      "_dom_classes": [],
      "_model_module": "@jupyter-widgets/controls",
      "_model_module_version": "1.5.0",
      "_model_name": "HBoxModel",
      "_view_count": null,
      "_view_module": "@jupyter-widgets/controls",
      "_view_module_version": "1.5.0",
      "_view_name": "HBoxView",
      "box_style": "",
      "children": [
       "IPY_MODEL_af058e6a38404a6a9cbda1e9d39d89bb",
       "IPY_MODEL_d7dd05c8cd8c40ab94f0237b6159f8fc",
       "IPY_MODEL_994b9924b6d4402faf0de11c11fb4d98"
      ],
      "layout": "IPY_MODEL_35ab66e4b4ed4da4bd4777dd95a95fa9"
     }
    },
    "35ab66e4b4ed4da4bd4777dd95a95fa9": {
     "model_module": "@jupyter-widgets/base",
     "model_module_version": "1.2.0",
     "model_name": "LayoutModel",
     "state": {
      "_model_module": "@jupyter-widgets/base",
      "_model_module_version": "1.2.0",
      "_model_name": "LayoutModel",
      "_view_count": null,
      "_view_module": "@jupyter-widgets/base",
      "_view_module_version": "1.2.0",
      "_view_name": "LayoutView",
      "align_content": null,
      "align_items": null,
      "align_self": null,
      "border": null,
      "bottom": null,
      "display": null,
      "flex": null,
      "flex_flow": null,
      "grid_area": null,
      "grid_auto_columns": null,
      "grid_auto_flow": null,
      "grid_auto_rows": null,
      "grid_column": null,
      "grid_gap": null,
      "grid_row": null,
      "grid_template_areas": null,
      "grid_template_columns": null,
      "grid_template_rows": null,
      "height": null,
      "justify_content": null,
      "justify_items": null,
      "left": null,
      "margin": null,
      "max_height": null,
      "max_width": null,
      "min_height": null,
      "min_width": null,
      "object_fit": null,
      "object_position": null,
      "order": null,
      "overflow": null,
      "overflow_x": null,
      "overflow_y": null,
      "padding": null,
      "right": null,
      "top": null,
      "visibility": null,
      "width": null
     }
    },
    "3845bf2ba872471bb760c1d6da810afa": {
     "model_module": "@jupyter-widgets/controls",
     "model_module_version": "1.5.0",
     "model_name": "DescriptionStyleModel",
     "state": {
      "_model_module": "@jupyter-widgets/controls",
      "_model_module_version": "1.5.0",
      "_model_name": "DescriptionStyleModel",
      "_view_count": null,
      "_view_module": "@jupyter-widgets/base",
      "_view_module_version": "1.2.0",
      "_view_name": "StyleView",
      "description_width": ""
     }
    },
    "6d715950283e4fd4a2bf8883b9cca5ac": {
     "model_module": "@jupyter-widgets/base",
     "model_module_version": "1.2.0",
     "model_name": "LayoutModel",
     "state": {
      "_model_module": "@jupyter-widgets/base",
      "_model_module_version": "1.2.0",
      "_model_name": "LayoutModel",
      "_view_count": null,
      "_view_module": "@jupyter-widgets/base",
      "_view_module_version": "1.2.0",
      "_view_name": "LayoutView",
      "align_content": null,
      "align_items": null,
      "align_self": null,
      "border": null,
      "bottom": null,
      "display": null,
      "flex": null,
      "flex_flow": null,
      "grid_area": null,
      "grid_auto_columns": null,
      "grid_auto_flow": null,
      "grid_auto_rows": null,
      "grid_column": null,
      "grid_gap": null,
      "grid_row": null,
      "grid_template_areas": null,
      "grid_template_columns": null,
      "grid_template_rows": null,
      "height": null,
      "justify_content": null,
      "justify_items": null,
      "left": null,
      "margin": null,
      "max_height": null,
      "max_width": null,
      "min_height": null,
      "min_width": null,
      "object_fit": null,
      "object_position": null,
      "order": null,
      "overflow": null,
      "overflow_x": null,
      "overflow_y": null,
      "padding": null,
      "right": null,
      "top": null,
      "visibility": null,
      "width": null
     }
    },
    "994b9924b6d4402faf0de11c11fb4d98": {
     "model_module": "@jupyter-widgets/controls",
     "model_module_version": "1.5.0",
     "model_name": "HTMLModel",
     "state": {
      "_dom_classes": [],
      "_model_module": "@jupyter-widgets/controls",
      "_model_module_version": "1.5.0",
      "_model_name": "HTMLModel",
      "_view_count": null,
      "_view_module": "@jupyter-widgets/controls",
      "_view_module_version": "1.5.0",
      "_view_name": "HTMLView",
      "description": "",
      "description_tooltip": null,
      "layout": "IPY_MODEL_ee209b8041734b9db209903dd43a658d",
      "placeholder": "​",
      "style": "IPY_MODEL_3845bf2ba872471bb760c1d6da810afa",
      "value": " 0/500000 [00:00&lt;?, ?it/s]"
     }
    },
    "af058e6a38404a6a9cbda1e9d39d89bb": {
     "model_module": "@jupyter-widgets/controls",
     "model_module_version": "1.5.0",
     "model_name": "HTMLModel",
     "state": {
      "_dom_classes": [],
      "_model_module": "@jupyter-widgets/controls",
      "_model_module_version": "1.5.0",
      "_model_name": "HTMLModel",
      "_view_count": null,
      "_view_module": "@jupyter-widgets/controls",
      "_view_module_version": "1.5.0",
      "_view_name": "HTMLView",
      "description": "",
      "description_tooltip": null,
      "layout": "IPY_MODEL_e07c0a35bca7457abe9a7a73653d6d36",
      "placeholder": "​",
      "style": "IPY_MODEL_ecea66d750f7440b85f13c5315f8ede4",
      "value": "  0%"
     }
    },
    "cdf35b364dbc49d481f5cf5bd58b134a": {
     "model_module": "@jupyter-widgets/controls",
     "model_module_version": "1.5.0",
     "model_name": "ProgressStyleModel",
     "state": {
      "_model_module": "@jupyter-widgets/controls",
      "_model_module_version": "1.5.0",
      "_model_name": "ProgressStyleModel",
      "_view_count": null,
      "_view_module": "@jupyter-widgets/base",
      "_view_module_version": "1.2.0",
      "_view_name": "StyleView",
      "bar_color": null,
      "description_width": ""
     }
    },
    "d7dd05c8cd8c40ab94f0237b6159f8fc": {
     "model_module": "@jupyter-widgets/controls",
     "model_module_version": "1.5.0",
     "model_name": "FloatProgressModel",
     "state": {
      "_dom_classes": [],
      "_model_module": "@jupyter-widgets/controls",
      "_model_module_version": "1.5.0",
      "_model_name": "FloatProgressModel",
      "_view_count": null,
      "_view_module": "@jupyter-widgets/controls",
      "_view_module_version": "1.5.0",
      "_view_name": "ProgressView",
      "bar_style": "",
      "description": "",
      "description_tooltip": null,
      "layout": "IPY_MODEL_6d715950283e4fd4a2bf8883b9cca5ac",
      "max": 500000,
      "min": 0,
      "orientation": "horizontal",
      "style": "IPY_MODEL_cdf35b364dbc49d481f5cf5bd58b134a",
      "value": 0
     }
    },
    "e07c0a35bca7457abe9a7a73653d6d36": {
     "model_module": "@jupyter-widgets/base",
     "model_module_version": "1.2.0",
     "model_name": "LayoutModel",
     "state": {
      "_model_module": "@jupyter-widgets/base",
      "_model_module_version": "1.2.0",
      "_model_name": "LayoutModel",
      "_view_count": null,
      "_view_module": "@jupyter-widgets/base",
      "_view_module_version": "1.2.0",
      "_view_name": "LayoutView",
      "align_content": null,
      "align_items": null,
      "align_self": null,
      "border": null,
      "bottom": null,
      "display": null,
      "flex": null,
      "flex_flow": null,
      "grid_area": null,
      "grid_auto_columns": null,
      "grid_auto_flow": null,
      "grid_auto_rows": null,
      "grid_column": null,
      "grid_gap": null,
      "grid_row": null,
      "grid_template_areas": null,
      "grid_template_columns": null,
      "grid_template_rows": null,
      "height": null,
      "justify_content": null,
      "justify_items": null,
      "left": null,
      "margin": null,
      "max_height": null,
      "max_width": null,
      "min_height": null,
      "min_width": null,
      "object_fit": null,
      "object_position": null,
      "order": null,
      "overflow": null,
      "overflow_x": null,
      "overflow_y": null,
      "padding": null,
      "right": null,
      "top": null,
      "visibility": null,
      "width": null
     }
    },
    "ecea66d750f7440b85f13c5315f8ede4": {
     "model_module": "@jupyter-widgets/controls",
     "model_module_version": "1.5.0",
     "model_name": "DescriptionStyleModel",
     "state": {
      "_model_module": "@jupyter-widgets/controls",
      "_model_module_version": "1.5.0",
      "_model_name": "DescriptionStyleModel",
      "_view_count": null,
      "_view_module": "@jupyter-widgets/base",
      "_view_module_version": "1.2.0",
      "_view_name": "StyleView",
      "description_width": ""
     }
    },
    "ee209b8041734b9db209903dd43a658d": {
     "model_module": "@jupyter-widgets/base",
     "model_module_version": "1.2.0",
     "model_name": "LayoutModel",
     "state": {
      "_model_module": "@jupyter-widgets/base",
      "_model_module_version": "1.2.0",
      "_model_name": "LayoutModel",
      "_view_count": null,
      "_view_module": "@jupyter-widgets/base",
      "_view_module_version": "1.2.0",
      "_view_name": "LayoutView",
      "align_content": null,
      "align_items": null,
      "align_self": null,
      "border": null,
      "bottom": null,
      "display": null,
      "flex": null,
      "flex_flow": null,
      "grid_area": null,
      "grid_auto_columns": null,
      "grid_auto_flow": null,
      "grid_auto_rows": null,
      "grid_column": null,
      "grid_gap": null,
      "grid_row": null,
      "grid_template_areas": null,
      "grid_template_columns": null,
      "grid_template_rows": null,
      "height": null,
      "justify_content": null,
      "justify_items": null,
      "left": null,
      "margin": null,
      "max_height": null,
      "max_width": null,
      "min_height": null,
      "min_width": null,
      "object_fit": null,
      "object_position": null,
      "order": null,
      "overflow": null,
      "overflow_x": null,
      "overflow_y": null,
      "padding": null,
      "right": null,
      "top": null,
      "visibility": null,
      "width": null
     }
    }
   }
  }
 },
 "nbformat": 4,
 "nbformat_minor": 4
}
