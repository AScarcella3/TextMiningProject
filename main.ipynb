{
 "cells": [
  {
   "cell_type": "markdown",
   "metadata": {
    "id": "hzolRRT_ANfT"
   },
   "source": [
    "# Path e librerie\n",
    "## Prima di modificare avvertire gli altri!"
   ]
  },
  {
   "cell_type": "markdown",
   "metadata": {
    "id": "NvLbCq-Etlj-"
   },
   "source": [
    "## Install"
   ]
  },
  {
   "cell_type": "code",
   "execution_count": 8,
   "metadata": {
    "colab": {
     "base_uri": "https://localhost:8080/"
    },
    "executionInfo": {
     "elapsed": 263,
     "status": "ok",
     "timestamp": 1637190460665,
     "user": {
      "displayName": "Antonello Manenti",
      "photoUrl": "https://lh3.googleusercontent.com/a/default-user=s64",
      "userId": "17495113583668482416"
     },
     "user_tz": -60
    },
    "id": "WkMr6gJYuiBg",
    "outputId": "b3fe74c5-7c8b-4907-f8e5-2bb39b4d22eb",
    "tags": []
   },
   "outputs": [
    {
     "name": "stdout",
     "output_type": "stream",
     "text": [
      "Drive already mounted at /content/drive; to attempt to forcibly remount, call drive.mount(\"/content/drive\", force_remount=True).\n"
     ]
    }
   ],
   "source": [
    "from google.colab import drive\n",
    "drive_dir = 'drive' ; drive.mount('/content/drive')"
   ]
  },
  {
   "cell_type": "markdown",
   "metadata": {
    "id": "bFQ8FsKNtnrr"
   },
   "source": [
    "## Import"
   ]
  },
  {
   "cell_type": "code",
   "execution_count": 10,
   "metadata": {
    "executionInfo": {
     "elapsed": 279,
     "status": "ok",
     "timestamp": 1637190462611,
     "user": {
      "displayName": "Antonello Manenti",
      "photoUrl": "https://lh3.googleusercontent.com/a/default-user=s64",
      "userId": "17495113583668482416"
     },
     "user_tz": -60
    },
    "id": "W2rdoygctsrH"
   },
   "outputs": [],
   "source": [
    "import tweepy\n",
    "import numpy as np\n",
    "from tweepy import Stream, OAuthHandler\n",
    "# from tqdm.notebook import tqdm\n",
    "from tqdm import tqdm\n",
    "import pandas as pd\n",
    "import io\n",
    "import pprint\n",
    "import os\n",
    "import glob\n",
    "import warnings\n",
    "warnings.filterwarnings('ignore')"
   ]
  },
  {
   "cell_type": "markdown",
   "metadata": {
    "id": "NTbyaABttqTU",
    "tags": []
   },
   "source": [
    "## Path"
   ]
  },
  {
   "cell_type": "code",
   "execution_count": null,
   "metadata": {
    "executionInfo": {
     "elapsed": 292,
     "status": "ok",
     "timestamp": 1637190566969,
     "user": {
      "displayName": "Antonello Manenti",
      "photoUrl": "https://lh3.googleusercontent.com/a/default-user=s64",
      "userId": "17495113583668482416"
     },
     "user_tz": -60
    },
    "id": "eeZCfUCeuglG"
   },
   "outputs": [],
   "source": [
    "##########################\n",
    "### ROOT\n",
    "##########################\n",
    "\n",
    "prj_root_dir = f'/content/{drive_dir}/MyDrive/nucleare/'\n",
    "os.makedirs(prj_root_dir, exist_ok=True)\n",
    "\n",
    "##########################\n",
    "### SCRAPING\n",
    "##########################\n",
    "\n",
    "scrapingATP_root_dir = prj_root_dir + 'scrapingATP/'\n",
    "os.makedirs(scrapingATP_root_dir, exist_ok=True)\n",
    "\n",
    "##########################\n",
    "### ETL\n",
    "##########################\n",
    "\n",
    "etl_root_dir = prj_root_dir + 'ETL/'\n",
    "os.makedirs(etl_root_dir, exist_ok=True)\n",
    "\n",
    "##########################\n",
    "### DWH\n",
    "##########################\n",
    "\n",
    "dw_root_dir = prj_root_dir + 'DWH/'\n",
    "os.makedirs(dw_root_dir, exist_ok=True)\n",
    "\n",
    "##########################\n",
    "### SENTIMENT\n",
    "##########################\n",
    "\n",
    "dw_root_dir = prj_root_dir + 'SENTIMENT/'\n",
    "os.makedirs(dw_root_dir, exist_ok=True)\n",
    "\n",
    "##########################\n",
    "### WORDEMBEDDING\n",
    "##########################\n",
    "\n",
    "dw_root_dir = prj_root_dir + 'EMBEDDING/'\n",
    "os.makedirs(dw_root_dir, exist_ok=True)\n",
    "\n",
    "##########################\n",
    "### OUTPUT\n",
    "##########################\n",
    "\n",
    "dw_root_dir = prj_root_dir + 'OUTPUT/'\n",
    "os.makedirs(dw_root_dir, exist_ok=True)"
   ]
  },
  {
   "cell_type": "markdown",
   "metadata": {
    "jp-MarkdownHeadingCollapsed": true,
    "tags": []
   },
   "source": [
    "### Path di Anto M. per Jupyter"
   ]
  },
  {
   "cell_type": "code",
   "execution_count": 25,
   "metadata": {},
   "outputs": [],
   "source": [
    "##########################\n",
    "### ROOT\n",
    "##########################\n",
    "\n",
    "drive_dir = f'G:\\\\My Drive'\n",
    "prj_root_dir = f'{drive_dir}\\\\nucleare\\\\'\n",
    "\n",
    "##########################\n",
    "### SCRAPING\n",
    "##########################\n",
    "\n",
    "scrapingATP_root_dir = prj_root_dir + 'scrapingATP\\\\'\n",
    "\n",
    "##########################\n",
    "### ETL\n",
    "##########################\n",
    "\n",
    "etl_root_dir = prj_root_dir + 'ETL\\\\'\n",
    "\n",
    "##########################\n",
    "### DWH\n",
    "##########################\n",
    "\n",
    "dw_root_dir = prj_root_dir + 'DWH\\\\'\n",
    "\n",
    "##########################\n",
    "### SENTIMENT\n",
    "##########################\n",
    "\n",
    "dw_root_dir = prj_root_dir + 'SENTIMENT\\\\'\n",
    "\n",
    "##########################\n",
    "### WORDEMBEDDING\n",
    "##########################\n",
    "\n",
    "dw_root_dir = prj_root_dir + 'EMBEDDING\\\\'\n",
    "\n",
    "##########################\n",
    "### OUTPUT\n",
    "##########################\n",
    "\n",
    "dw_root_dir = prj_root_dir + 'OUTPUT\\\\'"
   ]
  },
  {
   "cell_type": "markdown",
   "metadata": {
    "id": "-3VBjqnb-JBS"
   },
   "source": [
    "# 1. Ingest\n",
    "## Antonello\n",
    "\n",
    "cartella di scraping: nulceare/scraping"
   ]
  },
  {
   "cell_type": "markdown",
   "metadata": {
    "id": "NEWRZ27yARuf"
   },
   "source": [
    "## Codici Twitter"
   ]
  },
  {
   "cell_type": "code",
   "execution_count": 7,
   "metadata": {
    "colab": {
     "base_uri": "https://localhost:8080/"
    },
    "executionInfo": {
     "elapsed": 331,
     "status": "ok",
     "timestamp": 1637010725829,
     "user": {
      "displayName": "Antonello Manenti",
      "photoUrl": "https://lh3.googleusercontent.com/a/default-user=s64",
      "userId": "17495113583668482416"
     },
     "user_tz": -60
    },
    "id": "8MQLVouV-ywL",
    "outputId": "fa99e84c-77f5-4e1d-a96e-71bf4a0ea23e"
   },
   "outputs": [],
   "source": [
    "consumer_key = 'MQXChIn29dCky3pOQyW890Uxi'\n",
    "consumer_secret = 'u4n3UeFz58b4H6InWFhBDUPZsfJ8xdVS0wODdnfAjz6e6PUbCJ'\n",
    "access_token = '262247836-oWkm6AZIw4K0Fldnt8VBXwuL9IbtNCZwVj73ODkI'\n",
    "access_secret = 'GySGl7BGaYvmXUtCapu5pHwEDHD5tA3Qd4yCMIDPKm1Wx'\n",
    "auth = OAuthHandler(consumer_key, consumer_secret)\n",
    "auth.set_access_token(access_token, access_secret)\n",
    "api = tweepy.API(auth, wait_on_rate_limit=True)\n",
    "\n",
    "# consumer_key = 'Vzk6O5t967f1n4iz9iQcsQwhf'\n",
    "# consumer_secret = 'Q8sncdY1j85mwNitOqb5Spcg6U6uuZ0E2KNHHZEYF2J4DdCyVi'\n",
    "# access_token = '164224789-mFmU5YhessCNvubNojgfL605tbU0vh0NOna3HdQU'\n",
    "# access_secret = 'Ic5LNOH2QqxziSq4eTQdJvbXo3noTcQDUzCKXgFcdPzpC'\n",
    "# auth = OAuthHandler(consumer_key, consumer_secret)\n",
    "# auth.set_access_token(access_token, access_secret)\n",
    "# api = tweepy.API(auth, wait_on_rate_limit=True)\n",
    "\n",
    "# consumer_key = 'A4GRiWdUDgiGPckQSykzA'\n",
    "# consumer_secret = 'nSyjpFDTr3eEmd8tFeBM1lwVrTNPLaHrcx0DicTEEuw'\n",
    "# access_token = '1678747572-lbkg1jxpe5HypoTRSnRMeiVIe0RBMxhdjLJ0GJ6'\n",
    "# access_secret = '1qVP0pHXV9HDgKhHDIy2HHqqnHFBm3sI5AR2ZDwZxlM'\n",
    "# auth = OAuthHandler(consumer_key, consumer_secret)\n",
    "# auth.set_access_token(access_token, access_secret)\n",
    "# api = tweepy.API(auth, wait_on_rate_limit=True)"
   ]
  },
  {
   "cell_type": "markdown",
   "metadata": {
    "id": "SUTCU3yzAdJT"
   },
   "source": [
    "## Scraping dello storico"
   ]
  },
  {
   "cell_type": "code",
   "execution_count": 8,
   "metadata": {
    "colab": {
     "base_uri": "https://localhost:8080/",
     "height": 453
    },
    "executionInfo": {
     "elapsed": 2148,
     "status": "error",
     "timestamp": 1637011774343,
     "user": {
      "displayName": "Antonello Manenti",
      "photoUrl": "https://lh3.googleusercontent.com/a/default-user=s64",
      "userId": "17495113583668482416"
     },
     "user_tz": -60
    },
    "id": "67C67NvV-8Da",
    "outputId": "75feb51b-b5c2-4be0-8bcf-22210246ca01"
   },
   "outputs": [],
   "source": [
    "utente = 'antonello' #mettere il proprio nome\n",
    "lang = 'all' #mettere la lingua\n",
    "prog = '05' #mettere il progressivo\n",
    "\n",
    "#mettere la query\n",
    "query_00 = ('@janniksin' or 'NittoATPFinals' or 'TennisTakesOverTorino' or '#ATPFinals' or 'ATPFinals' or 'Djokovic' or 'Medvedev' or 'Zverev' or 'Tsitsipas' or 'Rublev' or 'Berrettini' or 'Hurkacz' or 'Ruud' or 'Sinner')"
   ]
  },
  {
   "cell_type": "code",
   "execution_count": 17,
   "metadata": {
    "id": "O2bvjFrw_9F8"
   },
   "outputs": [
    {
     "name": "stderr",
     "output_type": "stream",
     "text": [
      "\n",
      "  0%|          | 0/500000 [00:17<?, ?it/s]\u001b[A\n",
      "Exception ignored in: <function tqdm.__del__ at 0x00000290214C25E0>\n",
      "Traceback (most recent call last):\n",
      "  File \"C:\\Users\\Antonello\\Documents\\Venv\\nuclearproject\\lib\\site-packages\\tqdm\\std.py\", line 1147, in __del__\n",
      "    self.close()\n",
      "  File \"C:\\Users\\Antonello\\Documents\\Venv\\nuclearproject\\lib\\site-packages\\tqdm\\notebook.py\", line 286, in close\n",
      "    self.disp(bar_style='danger', check_delay=False)\n",
      "AttributeError: 'tqdm_notebook' object has no attribute 'disp'\n",
      "\n",
      "  0%|          | 100/500000 [00:00<1:09:11, 120.40it/s]\u001b[A\n",
      "  0%|          | 200/500000 [00:01<1:09:15, 120.28it/s]\u001b[A\n",
      "  0%|          | 300/500000 [00:02<1:10:18, 118.46it/s]\u001b[A\n",
      "  0%|          | 400/500000 [00:03<1:09:48, 119.29it/s]\u001b[A\n",
      "  0%|          | 500/500000 [00:04<1:10:26, 118.17it/s]\u001b[A\n",
      "  0%|          | 600/500000 [00:05<1:11:17, 116.76it/s]\u001b[A\n",
      "  0%|          | 700/500000 [00:05<1:10:24, 118.20it/s]\u001b[A\n",
      "  0%|          | 800/500000 [00:06<1:10:36, 117.82it/s]\u001b[A\n",
      "  0%|          | 900/500000 [00:07<1:12:07, 115.32it/s]\u001b[A\n",
      "  0%|          | 1000/500000 [00:08<1:09:58, 118.84it/s]\u001b[A\n",
      "  0%|          | 1100/500000 [00:09<1:08:06, 122.07it/s]\u001b[A\n",
      "  0%|          | 1200/500000 [00:10<1:07:08, 123.82it/s]\u001b[A\n",
      "  0%|          | 1300/500000 [00:10<1:09:52, 118.96it/s]\u001b[A\n",
      "  0%|          | 1400/500000 [00:11<1:11:13, 116.68it/s]\u001b[A\n",
      "  0%|          | 1500/500000 [00:12<1:13:52, 112.47it/s]\u001b[A\n",
      "  0%|          | 1600/500000 [00:13<1:14:53, 110.92it/s]\u001b[A\n",
      "  0%|          | 1700/500000 [00:14<1:16:04, 109.18it/s]\u001b[A\n",
      "  0%|          | 1800/500000 [00:15<1:16:35, 108.42it/s]\u001b[A\n",
      "  0%|          | 1900/500000 [00:16<1:16:42, 108.23it/s]\u001b[A\n",
      "  0%|          | 2000/500000 [00:17<1:15:19, 110.18it/s]\u001b[A\n",
      "  0%|          | 2100/500000 [00:18<1:14:42, 111.09it/s]\u001b[A\n",
      "  0%|          | 2200/500000 [00:19<1:14:52, 110.82it/s]\u001b[A\n",
      "  0%|          | 2300/500000 [00:20<1:19:03, 104.91it/s]\u001b[A\n",
      "  0%|          | 2399/500000 [00:21<1:18:13, 106.02it/s]\u001b[A\n",
      "  0%|          | 2499/500000 [00:22<1:17:46, 106.62it/s]\u001b[A\n",
      "  1%|          | 2599/500000 [00:23<1:17:02, 107.61it/s]\u001b[A\n",
      "  1%|          | 2699/500000 [00:23<1:17:53, 106.40it/s]\u001b[A\n",
      "  1%|          | 2799/500000 [00:24<1:17:16, 107.23it/s]\u001b[A\n",
      "  1%|          | 2899/500000 [00:25<1:16:27, 108.35it/s]\u001b[A\n",
      "  1%|          | 2999/500000 [00:26<1:18:20, 105.73it/s]\u001b[A\n",
      "  1%|          | 3099/500000 [00:27<1:23:17, 99.42it/s] \u001b[A\n",
      "  1%|          | 3199/500000 [00:28<1:20:36, 102.71it/s]\u001b[A\n",
      "  1%|          | 3299/500000 [00:29<1:18:52, 104.95it/s]\u001b[A\n",
      "  1%|          | 3399/500000 [00:30<1:16:55, 107.60it/s]\u001b[A\n",
      "  1%|          | 3499/500000 [00:31<1:15:56, 108.95it/s]\u001b[A\n",
      "  1%|          | 3599/500000 [00:32<1:18:03, 105.99it/s]\u001b[A\n",
      "  1%|          | 3699/500000 [00:33<1:14:53, 110.45it/s]\u001b[A\n",
      "  1%|          | 3799/500000 [00:34<1:13:23, 112.69it/s]\u001b[A\n",
      "  1%|          | 3899/500000 [00:34<1:11:36, 115.48it/s]\u001b[A\n",
      "  1%|          | 3999/500000 [00:35<1:11:34, 115.49it/s]\u001b[A\n",
      "  1%|          | 4099/500000 [00:36<1:11:25, 115.72it/s]\u001b[A\n",
      "  1%|          | 4199/500000 [00:37<1:11:35, 115.43it/s]\u001b[A\n",
      "  1%|          | 4299/500000 [00:38<1:12:11, 114.45it/s]\u001b[A\n",
      "  1%|          | 4399/500000 [00:39<1:13:03, 113.07it/s]\u001b[A\n",
      "  1%|          | 4499/500000 [00:40<1:12:21, 114.12it/s]\u001b[A\n",
      "  1%|          | 4599/500000 [00:41<1:10:45, 116.69it/s]\u001b[A\n",
      "  1%|          | 4699/500000 [00:41<1:09:26, 118.88it/s]\u001b[A\n",
      "  1%|          | 4799/500000 [00:42<1:08:53, 119.79it/s]\u001b[A\n",
      "  1%|          | 4899/500000 [00:43<1:08:54, 119.74it/s]\u001b[A\n",
      "  1%|          | 4999/500000 [00:44<1:08:02, 121.25it/s]\u001b[A\n",
      "  1%|          | 5099/500000 [00:45<1:08:25, 120.56it/s]\u001b[A\n",
      "  1%|          | 5199/500000 [00:45<1:08:23, 120.58it/s]\u001b[A\n",
      "  1%|          | 5299/500000 [00:46<1:09:10, 119.18it/s]\u001b[A\n",
      "  1%|          | 5326/500000 [00:47<1:13:51, 111.64it/s]\u001b[A\n"
     ]
    }
   ],
   "source": [
    "searched_tweets = []\n",
    "last_id = -1\n",
    "max_tweets = 500_000\n",
    "pbar = tqdm(total=max_tweets)\n",
    "\n",
    "while len(searched_tweets) < max_tweets:\n",
    "    count = max_tweets - len(searched_tweets)\n",
    "    try:\n",
    "        new_tweets = api.search_tweets(q=query_00, count=1000, max_id=str(last_id - 1), tweet_mode=\"extended\", lang=lang) # tweet_mode=\"extended\" importante, altrimenti il testo del tweet viene troncato\n",
    "        # If I've reached the end of the search then I'm done\n",
    "        # immediately the cycle while\n",
    "        if not new_tweets:\n",
    "            break\n",
    "        # added the data found to the list\n",
    "        searched_tweets.extend(new_tweets)\n",
    "        # tqdm\n",
    "        pbar.update(len(new_tweets))\n",
    "        # retrieve the last id found\n",
    "        last_id = new_tweets[-1].id\n",
    "    except tweepy.TweepError as e:\n",
    "        print(e)\n",
    "        break\n",
    "\n",
    "pbar.close()"
   ]
  },
  {
   "cell_type": "code",
   "execution_count": 18,
   "metadata": {
    "id": "caBAPyk4AhPM"
   },
   "outputs": [
    {
     "name": "stdout",
     "output_type": "stream",
     "text": [
      "Totale Tweet\n"
     ]
    },
    {
     "data": {
      "text/plain": [
       "5326"
      ]
     },
     "execution_count": 18,
     "metadata": {},
     "output_type": "execute_result"
    }
   ],
   "source": [
    "print('Totale Tweet')\n",
    "len(searched_tweets)"
   ]
  },
  {
   "cell_type": "code",
   "execution_count": 21,
   "metadata": {
    "colab": {
     "base_uri": "https://localhost:8080/",
     "height": 245
    },
    "executionInfo": {
     "elapsed": 267,
     "status": "error",
     "timestamp": 1637010739776,
     "user": {
      "displayName": "Antonello Manenti",
      "photoUrl": "https://lh3.googleusercontent.com/a/default-user=s64",
      "userId": "17495113583668482416"
     },
     "user_tz": -60
    },
    "id": "XTakPozJQN82",
    "outputId": "a2ddaccc-ca86-47b0-ea36-0470cf6ccf8d"
   },
   "outputs": [
    {
     "data": {
      "text/html": [
       "<div>\n",
       "<style scoped>\n",
       "    .dataframe tbody tr th:only-of-type {\n",
       "        vertical-align: middle;\n",
       "    }\n",
       "\n",
       "    .dataframe tbody tr th {\n",
       "        vertical-align: top;\n",
       "    }\n",
       "\n",
       "    .dataframe thead th {\n",
       "        text-align: right;\n",
       "    }\n",
       "</style>\n",
       "<table border=\"1\" class=\"dataframe\">\n",
       "  <thead>\n",
       "    <tr style=\"text-align: right;\">\n",
       "      <th></th>\n",
       "      <th>user</th>\n",
       "      <th>date</th>\n",
       "      <th>text</th>\n",
       "      <th>favorite_count</th>\n",
       "      <th>hashtags</th>\n",
       "      <th>location</th>\n",
       "      <th>retweet</th>\n",
       "      <th>retweet_count</th>\n",
       "      <th>followers_count</th>\n",
       "      <th>in_reply_to_status_id</th>\n",
       "      <th>user_mentions</th>\n",
       "    </tr>\n",
       "    <tr>\n",
       "      <th>id</th>\n",
       "      <th></th>\n",
       "      <th></th>\n",
       "      <th></th>\n",
       "      <th></th>\n",
       "      <th></th>\n",
       "      <th></th>\n",
       "      <th></th>\n",
       "      <th></th>\n",
       "      <th></th>\n",
       "      <th></th>\n",
       "      <th></th>\n",
       "    </tr>\n",
       "  </thead>\n",
       "  <tbody>\n",
       "    <tr>\n",
       "      <th>1458956897051193350</th>\n",
       "      <td>raulf1212</td>\n",
       "      <td>Fri Nov 12 00:36:45 +0000 2021</td>\n",
       "      <td>@MariaSharapova @RPiatti @janniksin El vago me...</td>\n",
       "      <td>0</td>\n",
       "      <td>[]</td>\n",
       "      <td></td>\n",
       "      <td>False</td>\n",
       "      <td>0</td>\n",
       "      <td>14</td>\n",
       "      <td>1.455181e+18</td>\n",
       "      <td>[MariaSharapova, RPiatti, janniksin]</td>\n",
       "    </tr>\n",
       "    <tr>\n",
       "      <th>1458966548303941633</th>\n",
       "      <td>ATPtennis2002</td>\n",
       "      <td>Fri Nov 12 01:15:06 +0000 2021</td>\n",
       "      <td>Jannik Sinner under pressure 🚨\\n\\n“What’s the ...</td>\n",
       "      <td>0</td>\n",
       "      <td>[]</td>\n",
       "      <td>日本</td>\n",
       "      <td>False</td>\n",
       "      <td>20</td>\n",
       "      <td>304</td>\n",
       "      <td>NaN</td>\n",
       "      <td>[sthlm_open, janniksin]</td>\n",
       "    </tr>\n",
       "    <tr>\n",
       "      <th>1459035053233631233</th>\n",
       "      <td>looseshoulders</td>\n",
       "      <td>Fri Nov 12 05:47:18 +0000 2021</td>\n",
       "      <td>. @janniksin practicing at @BNPPARIBASOPEN @at...</td>\n",
       "      <td>0</td>\n",
       "      <td>[Tennis, TennisParadise, BNPP021, tennis, tenn...</td>\n",
       "      <td></td>\n",
       "      <td>False</td>\n",
       "      <td>0</td>\n",
       "      <td>210</td>\n",
       "      <td>NaN</td>\n",
       "      <td>[janniksin, BNPPARIBASOPEN, atptour]</td>\n",
       "    </tr>\n",
       "    <tr>\n",
       "      <th>1459036698927456259</th>\n",
       "      <td>gwen415ca</td>\n",
       "      <td>Fri Nov 12 05:53:51 +0000 2021</td>\n",
       "      <td>@atptour @intesasanpaolo @nextgenfinals @Hyeon...</td>\n",
       "      <td>0</td>\n",
       "      <td>[]</td>\n",
       "      <td>California</td>\n",
       "      <td>False</td>\n",
       "      <td>0</td>\n",
       "      <td>60</td>\n",
       "      <td>1.458021e+18</td>\n",
       "      <td>[atptour, intesasanpaolo, nextgenfinals, Hyeon...</td>\n",
       "    </tr>\n",
       "    <tr>\n",
       "      <th>1459045822327316492</th>\n",
       "      <td>karenwr75084451</td>\n",
       "      <td>Fri Nov 12 06:30:06 +0000 2021</td>\n",
       "      <td>@sthlm_open @janniksin 🧡🦊 he’s lovely. So exci...</td>\n",
       "      <td>0</td>\n",
       "      <td>[]</td>\n",
       "      <td>East, England</td>\n",
       "      <td>False</td>\n",
       "      <td>0</td>\n",
       "      <td>776</td>\n",
       "      <td>1.458773e+18</td>\n",
       "      <td>[sthlm_open, janniksin]</td>\n",
       "    </tr>\n",
       "    <tr>\n",
       "      <th>1459049489646379045</th>\n",
       "      <td>Annalis97970189</td>\n",
       "      <td>Fri Nov 12 06:44:40 +0000 2021</td>\n",
       "      <td>@JannikSinner_Up @janniksin 💪🎾🎾fantastico Jann...</td>\n",
       "      <td>0</td>\n",
       "      <td>[]</td>\n",
       "      <td></td>\n",
       "      <td>False</td>\n",
       "      <td>0</td>\n",
       "      <td>3</td>\n",
       "      <td>1.455950e+18</td>\n",
       "      <td>[JannikSinner_Up, janniksin]</td>\n",
       "    </tr>\n",
       "    <tr>\n",
       "      <th>1459059756698685440</th>\n",
       "      <td>lewstang</td>\n",
       "      <td>Fri Nov 12 07:25:28 +0000 2021</td>\n",
       "      <td>Jannik Sinner under pressure 🚨\\n\\n“What’s the ...</td>\n",
       "      <td>0</td>\n",
       "      <td>[]</td>\n",
       "      <td>Zimbabwe</td>\n",
       "      <td>False</td>\n",
       "      <td>20</td>\n",
       "      <td>23</td>\n",
       "      <td>NaN</td>\n",
       "      <td>[sthlm_open, janniksin]</td>\n",
       "    </tr>\n",
       "    <tr>\n",
       "      <th>1459068228211146753</th>\n",
       "      <td>news_zero0</td>\n",
       "      <td>Fri Nov 12 07:59:08 +0000 2021</td>\n",
       "      <td>@ROLEX @GrigorDimitrov @janniksin @Taylor_Frit...</td>\n",
       "      <td>0</td>\n",
       "      <td>[]</td>\n",
       "      <td>JAPAN</td>\n",
       "      <td>False</td>\n",
       "      <td>0</td>\n",
       "      <td>27</td>\n",
       "      <td>1.455116e+18</td>\n",
       "      <td>[ROLEX, GrigorDimitrov, janniksin, Taylor_Frit...</td>\n",
       "    </tr>\n",
       "    <tr>\n",
       "      <th>1459097086905913344</th>\n",
       "      <td>uniqueappx</td>\n",
       "      <td>Fri Nov 12 09:53:48 +0000 2021</td>\n",
       "      <td>My Italian family in Paris 😊@RPiatti @janniksi...</td>\n",
       "      <td>0</td>\n",
       "      <td>[]</td>\n",
       "      <td></td>\n",
       "      <td>False</td>\n",
       "      <td>346</td>\n",
       "      <td>0</td>\n",
       "      <td>NaN</td>\n",
       "      <td>[MariaSharapova, RPiatti, janniksin]</td>\n",
       "    </tr>\n",
       "    <tr>\n",
       "      <th>1459110883062431746</th>\n",
       "      <td>torrismondo</td>\n",
       "      <td>Fri Nov 12 10:48:38 +0000 2021</td>\n",
       "      <td>@MattBerrettini @janniksin ci siete domani a p...</td>\n",
       "      <td>0</td>\n",
       "      <td>[]</td>\n",
       "      <td></td>\n",
       "      <td>False</td>\n",
       "      <td>0</td>\n",
       "      <td>28</td>\n",
       "      <td>NaN</td>\n",
       "      <td>[MattBerrettini, janniksin, DjokerNole]</td>\n",
       "    </tr>\n",
       "  </tbody>\n",
       "</table>\n",
       "</div>"
      ],
      "text/plain": [
       "                                user                            date  \\\n",
       "id                                                                     \n",
       "1458956897051193350        raulf1212  Fri Nov 12 00:36:45 +0000 2021   \n",
       "1458966548303941633    ATPtennis2002  Fri Nov 12 01:15:06 +0000 2021   \n",
       "1459035053233631233   looseshoulders  Fri Nov 12 05:47:18 +0000 2021   \n",
       "1459036698927456259        gwen415ca  Fri Nov 12 05:53:51 +0000 2021   \n",
       "1459045822327316492  karenwr75084451  Fri Nov 12 06:30:06 +0000 2021   \n",
       "1459049489646379045  Annalis97970189  Fri Nov 12 06:44:40 +0000 2021   \n",
       "1459059756698685440         lewstang  Fri Nov 12 07:25:28 +0000 2021   \n",
       "1459068228211146753       news_zero0  Fri Nov 12 07:59:08 +0000 2021   \n",
       "1459097086905913344       uniqueappx  Fri Nov 12 09:53:48 +0000 2021   \n",
       "1459110883062431746      torrismondo  Fri Nov 12 10:48:38 +0000 2021   \n",
       "\n",
       "                                                                  text  \\\n",
       "id                                                                       \n",
       "1458956897051193350  @MariaSharapova @RPiatti @janniksin El vago me...   \n",
       "1458966548303941633  Jannik Sinner under pressure 🚨\\n\\n“What’s the ...   \n",
       "1459035053233631233  . @janniksin practicing at @BNPPARIBASOPEN @at...   \n",
       "1459036698927456259  @atptour @intesasanpaolo @nextgenfinals @Hyeon...   \n",
       "1459045822327316492  @sthlm_open @janniksin 🧡🦊 he’s lovely. So exci...   \n",
       "1459049489646379045  @JannikSinner_Up @janniksin 💪🎾🎾fantastico Jann...   \n",
       "1459059756698685440  Jannik Sinner under pressure 🚨\\n\\n“What’s the ...   \n",
       "1459068228211146753  @ROLEX @GrigorDimitrov @janniksin @Taylor_Frit...   \n",
       "1459097086905913344  My Italian family in Paris 😊@RPiatti @janniksi...   \n",
       "1459110883062431746  @MattBerrettini @janniksin ci siete domani a p...   \n",
       "\n",
       "                     favorite_count  \\\n",
       "id                                    \n",
       "1458956897051193350               0   \n",
       "1458966548303941633               0   \n",
       "1459035053233631233               0   \n",
       "1459036698927456259               0   \n",
       "1459045822327316492               0   \n",
       "1459049489646379045               0   \n",
       "1459059756698685440               0   \n",
       "1459068228211146753               0   \n",
       "1459097086905913344               0   \n",
       "1459110883062431746               0   \n",
       "\n",
       "                                                              hashtags  \\\n",
       "id                                                                       \n",
       "1458956897051193350                                                 []   \n",
       "1458966548303941633                                                 []   \n",
       "1459035053233631233  [Tennis, TennisParadise, BNPP021, tennis, tenn...   \n",
       "1459036698927456259                                                 []   \n",
       "1459045822327316492                                                 []   \n",
       "1459049489646379045                                                 []   \n",
       "1459059756698685440                                                 []   \n",
       "1459068228211146753                                                 []   \n",
       "1459097086905913344                                                 []   \n",
       "1459110883062431746                                                 []   \n",
       "\n",
       "                          location  retweet  retweet_count  followers_count  \\\n",
       "id                                                                            \n",
       "1458956897051193350                   False              0               14   \n",
       "1458966548303941633             日本    False             20              304   \n",
       "1459035053233631233                   False              0              210   \n",
       "1459036698927456259     California    False              0               60   \n",
       "1459045822327316492  East, England    False              0              776   \n",
       "1459049489646379045                   False              0                3   \n",
       "1459059756698685440       Zimbabwe    False             20               23   \n",
       "1459068228211146753          JAPAN    False              0               27   \n",
       "1459097086905913344                   False            346                0   \n",
       "1459110883062431746                   False              0               28   \n",
       "\n",
       "                     in_reply_to_status_id  \\\n",
       "id                                           \n",
       "1458956897051193350           1.455181e+18   \n",
       "1458966548303941633                    NaN   \n",
       "1459035053233631233                    NaN   \n",
       "1459036698927456259           1.458021e+18   \n",
       "1459045822327316492           1.458773e+18   \n",
       "1459049489646379045           1.455950e+18   \n",
       "1459059756698685440                    NaN   \n",
       "1459068228211146753           1.455116e+18   \n",
       "1459097086905913344                    NaN   \n",
       "1459110883062431746                    NaN   \n",
       "\n",
       "                                                         user_mentions  \n",
       "id                                                                      \n",
       "1458956897051193350               [MariaSharapova, RPiatti, janniksin]  \n",
       "1458966548303941633                            [sthlm_open, janniksin]  \n",
       "1459035053233631233               [janniksin, BNPPARIBASOPEN, atptour]  \n",
       "1459036698927456259  [atptour, intesasanpaolo, nextgenfinals, Hyeon...  \n",
       "1459045822327316492                            [sthlm_open, janniksin]  \n",
       "1459049489646379045                       [JannikSinner_Up, janniksin]  \n",
       "1459059756698685440                            [sthlm_open, janniksin]  \n",
       "1459068228211146753  [ROLEX, GrigorDimitrov, janniksin, Taylor_Frit...  \n",
       "1459097086905913344               [MariaSharapova, RPiatti, janniksin]  \n",
       "1459110883062431746            [MattBerrettini, janniksin, DjokerNole]  "
      ]
     },
     "execution_count": 21,
     "metadata": {},
     "output_type": "execute_result"
    }
   ],
   "source": [
    "dict_ = {'id': [], 'user': [], 'date': [], 'text': [], \n",
    "         'favorite_count': [], 'hashtags': [], \n",
    "         'location': [], 'retweet': [], 'retweet_count': [], 'followers_count': [], 'in_reply_to_status_id':[], 'user_mentions':[]}\n",
    "\n",
    "for status_j in searched_tweets[0:max_tweets]:\n",
    "    status = status_j._json\n",
    "\n",
    "    if 'retweeted_status' in status:\n",
    "      if 'extended_tweet' in status['retweeted_status']:\n",
    "        text = status['retweeted_status']['extended_tweet']['full_text']\n",
    "        dict_['text'].append(text)\n",
    "      else:\n",
    "        text = status['retweeted_status']['full_text']\n",
    "        dict_['text'].append(text)\n",
    "    else:\n",
    "      if 'extended_tweet' in status:\n",
    "        text = status['extended_tweet']['full_text']\n",
    "        dict_['text'].append(text)\n",
    "      else:\n",
    "        text = status['full_text']\n",
    "        dict_['text'].append(text)\n",
    "    \n",
    "    dict_['id'].append(status['id'])\n",
    "    dict_['user'].append(status['user']['screen_name'])\n",
    "    dict_['hashtags'].append([hashtag['text'] for hashtag in status['entities']['hashtags']])\n",
    "    dict_['user_mentions'].append([user_mention['screen_name'] for user_mention in status['entities']['user_mentions']])\n",
    "    dict_['location'].append(status['user']['location'])\n",
    "    dict_['followers_count'].append(status['user']['followers_count'])\n",
    "    dict_['in_reply_to_status_id'].append(status['in_reply_to_status_id'])\n",
    "    dict_['date'].append(status['created_at'])\n",
    "    dict_['favorite_count'].append(status['favorite_count'])\n",
    "    dict_['retweet_count'].append(status['retweet_count'])\n",
    "    dict_['retweet'].append(status['retweeted'])\n",
    "\n",
    "df = pd.DataFrame.from_dict(dict_, orient=\"columns\")\n",
    "df = df.set_index(\"id\")\n",
    "df.sort_values(by=['date'], inplace=True, ascending=True)\n",
    "df.head(10)"
   ]
  },
  {
   "cell_type": "code",
   "execution_count": 22,
   "metadata": {
    "colab": {
     "base_uri": "https://localhost:8080/",
     "height": 386
    },
    "executionInfo": {
     "elapsed": 295,
     "status": "error",
     "timestamp": 1637010783588,
     "user": {
      "displayName": "Antonello Manenti",
      "photoUrl": "https://lh3.googleusercontent.com/a/default-user=s64",
      "userId": "17495113583668482416"
     },
     "user_tz": -60
    },
    "id": "bEMYyh7EQYiO",
    "outputId": "9286f91e-c561-439e-8edc-fe6102eec02e"
   },
   "outputs": [
    {
     "data": {
      "text/html": [
       "<div>\n",
       "<style scoped>\n",
       "    .dataframe tbody tr th:only-of-type {\n",
       "        vertical-align: middle;\n",
       "    }\n",
       "\n",
       "    .dataframe tbody tr th {\n",
       "        vertical-align: top;\n",
       "    }\n",
       "\n",
       "    .dataframe thead th {\n",
       "        text-align: right;\n",
       "    }\n",
       "</style>\n",
       "<table border=\"1\" class=\"dataframe\">\n",
       "  <thead>\n",
       "    <tr style=\"text-align: right;\">\n",
       "      <th></th>\n",
       "      <th>user</th>\n",
       "      <th>date</th>\n",
       "      <th>text</th>\n",
       "      <th>favorite_count</th>\n",
       "      <th>hashtags</th>\n",
       "      <th>location</th>\n",
       "      <th>retweet</th>\n",
       "      <th>retweet_count</th>\n",
       "      <th>followers_count</th>\n",
       "      <th>in_reply_to_status_id</th>\n",
       "      <th>user_mentions</th>\n",
       "    </tr>\n",
       "    <tr>\n",
       "      <th>id</th>\n",
       "      <th></th>\n",
       "      <th></th>\n",
       "      <th></th>\n",
       "      <th></th>\n",
       "      <th></th>\n",
       "      <th></th>\n",
       "      <th></th>\n",
       "      <th></th>\n",
       "      <th></th>\n",
       "      <th></th>\n",
       "      <th></th>\n",
       "    </tr>\n",
       "  </thead>\n",
       "  <tbody>\n",
       "    <tr>\n",
       "      <th>1458956897051193350</th>\n",
       "      <td>raulf1212</td>\n",
       "      <td>Fri Nov 12 00:36:45 +0000 2021</td>\n",
       "      <td>@MariaSharapova @RPiatti @janniksin El vago me...</td>\n",
       "      <td>0</td>\n",
       "      <td>[]</td>\n",
       "      <td></td>\n",
       "      <td>False</td>\n",
       "      <td>0</td>\n",
       "      <td>14</td>\n",
       "      <td>1.455181e+18</td>\n",
       "      <td>[MariaSharapova, RPiatti, janniksin]</td>\n",
       "    </tr>\n",
       "    <tr>\n",
       "      <th>1458966548303941633</th>\n",
       "      <td>ATPtennis2002</td>\n",
       "      <td>Fri Nov 12 01:15:06 +0000 2021</td>\n",
       "      <td>Jannik Sinner under pressure 🚨\\n\\n“What’s the ...</td>\n",
       "      <td>0</td>\n",
       "      <td>[]</td>\n",
       "      <td>日本</td>\n",
       "      <td>False</td>\n",
       "      <td>20</td>\n",
       "      <td>304</td>\n",
       "      <td>NaN</td>\n",
       "      <td>[sthlm_open, janniksin]</td>\n",
       "    </tr>\n",
       "    <tr>\n",
       "      <th>1459035053233631233</th>\n",
       "      <td>looseshoulders</td>\n",
       "      <td>Fri Nov 12 05:47:18 +0000 2021</td>\n",
       "      <td>. @janniksin practicing at @BNPPARIBASOPEN @at...</td>\n",
       "      <td>0</td>\n",
       "      <td>[Tennis, TennisParadise, BNPP021, tennis, tenn...</td>\n",
       "      <td></td>\n",
       "      <td>False</td>\n",
       "      <td>0</td>\n",
       "      <td>210</td>\n",
       "      <td>NaN</td>\n",
       "      <td>[janniksin, BNPPARIBASOPEN, atptour]</td>\n",
       "    </tr>\n",
       "    <tr>\n",
       "      <th>1459036698927456259</th>\n",
       "      <td>gwen415ca</td>\n",
       "      <td>Fri Nov 12 05:53:51 +0000 2021</td>\n",
       "      <td>@atptour @intesasanpaolo @nextgenfinals @Hyeon...</td>\n",
       "      <td>0</td>\n",
       "      <td>[]</td>\n",
       "      <td>California</td>\n",
       "      <td>False</td>\n",
       "      <td>0</td>\n",
       "      <td>60</td>\n",
       "      <td>1.458021e+18</td>\n",
       "      <td>[atptour, intesasanpaolo, nextgenfinals, Hyeon...</td>\n",
       "    </tr>\n",
       "    <tr>\n",
       "      <th>1459045822327316492</th>\n",
       "      <td>karenwr75084451</td>\n",
       "      <td>Fri Nov 12 06:30:06 +0000 2021</td>\n",
       "      <td>@sthlm_open @janniksin 🧡🦊 he’s lovely. So exci...</td>\n",
       "      <td>0</td>\n",
       "      <td>[]</td>\n",
       "      <td>East, England</td>\n",
       "      <td>False</td>\n",
       "      <td>0</td>\n",
       "      <td>776</td>\n",
       "      <td>1.458773e+18</td>\n",
       "      <td>[sthlm_open, janniksin]</td>\n",
       "    </tr>\n",
       "    <tr>\n",
       "      <th>1459049489646379045</th>\n",
       "      <td>Annalis97970189</td>\n",
       "      <td>Fri Nov 12 06:44:40 +0000 2021</td>\n",
       "      <td>@JannikSinner_Up @janniksin 💪🎾🎾fantastico Jann...</td>\n",
       "      <td>0</td>\n",
       "      <td>[]</td>\n",
       "      <td></td>\n",
       "      <td>False</td>\n",
       "      <td>0</td>\n",
       "      <td>3</td>\n",
       "      <td>1.455950e+18</td>\n",
       "      <td>[JannikSinner_Up, janniksin]</td>\n",
       "    </tr>\n",
       "    <tr>\n",
       "      <th>1459059756698685440</th>\n",
       "      <td>lewstang</td>\n",
       "      <td>Fri Nov 12 07:25:28 +0000 2021</td>\n",
       "      <td>Jannik Sinner under pressure 🚨\\n\\n“What’s the ...</td>\n",
       "      <td>0</td>\n",
       "      <td>[]</td>\n",
       "      <td>Zimbabwe</td>\n",
       "      <td>False</td>\n",
       "      <td>20</td>\n",
       "      <td>23</td>\n",
       "      <td>NaN</td>\n",
       "      <td>[sthlm_open, janniksin]</td>\n",
       "    </tr>\n",
       "    <tr>\n",
       "      <th>1459068228211146753</th>\n",
       "      <td>news_zero0</td>\n",
       "      <td>Fri Nov 12 07:59:08 +0000 2021</td>\n",
       "      <td>@ROLEX @GrigorDimitrov @janniksin @Taylor_Frit...</td>\n",
       "      <td>0</td>\n",
       "      <td>[]</td>\n",
       "      <td>JAPAN</td>\n",
       "      <td>False</td>\n",
       "      <td>0</td>\n",
       "      <td>27</td>\n",
       "      <td>1.455116e+18</td>\n",
       "      <td>[ROLEX, GrigorDimitrov, janniksin, Taylor_Frit...</td>\n",
       "    </tr>\n",
       "    <tr>\n",
       "      <th>1459097086905913344</th>\n",
       "      <td>uniqueappx</td>\n",
       "      <td>Fri Nov 12 09:53:48 +0000 2021</td>\n",
       "      <td>My Italian family in Paris 😊@RPiatti @janniksi...</td>\n",
       "      <td>0</td>\n",
       "      <td>[]</td>\n",
       "      <td></td>\n",
       "      <td>False</td>\n",
       "      <td>346</td>\n",
       "      <td>0</td>\n",
       "      <td>NaN</td>\n",
       "      <td>[MariaSharapova, RPiatti, janniksin]</td>\n",
       "    </tr>\n",
       "    <tr>\n",
       "      <th>1459110883062431746</th>\n",
       "      <td>torrismondo</td>\n",
       "      <td>Fri Nov 12 10:48:38 +0000 2021</td>\n",
       "      <td>@MattBerrettini @janniksin ci siete domani a p...</td>\n",
       "      <td>0</td>\n",
       "      <td>[]</td>\n",
       "      <td></td>\n",
       "      <td>False</td>\n",
       "      <td>0</td>\n",
       "      <td>28</td>\n",
       "      <td>NaN</td>\n",
       "      <td>[MattBerrettini, janniksin, DjokerNole]</td>\n",
       "    </tr>\n",
       "  </tbody>\n",
       "</table>\n",
       "</div>"
      ],
      "text/plain": [
       "                                user                            date  \\\n",
       "id                                                                     \n",
       "1458956897051193350        raulf1212  Fri Nov 12 00:36:45 +0000 2021   \n",
       "1458966548303941633    ATPtennis2002  Fri Nov 12 01:15:06 +0000 2021   \n",
       "1459035053233631233   looseshoulders  Fri Nov 12 05:47:18 +0000 2021   \n",
       "1459036698927456259        gwen415ca  Fri Nov 12 05:53:51 +0000 2021   \n",
       "1459045822327316492  karenwr75084451  Fri Nov 12 06:30:06 +0000 2021   \n",
       "1459049489646379045  Annalis97970189  Fri Nov 12 06:44:40 +0000 2021   \n",
       "1459059756698685440         lewstang  Fri Nov 12 07:25:28 +0000 2021   \n",
       "1459068228211146753       news_zero0  Fri Nov 12 07:59:08 +0000 2021   \n",
       "1459097086905913344       uniqueappx  Fri Nov 12 09:53:48 +0000 2021   \n",
       "1459110883062431746      torrismondo  Fri Nov 12 10:48:38 +0000 2021   \n",
       "\n",
       "                                                                  text  \\\n",
       "id                                                                       \n",
       "1458956897051193350  @MariaSharapova @RPiatti @janniksin El vago me...   \n",
       "1458966548303941633  Jannik Sinner under pressure 🚨\\n\\n“What’s the ...   \n",
       "1459035053233631233  . @janniksin practicing at @BNPPARIBASOPEN @at...   \n",
       "1459036698927456259  @atptour @intesasanpaolo @nextgenfinals @Hyeon...   \n",
       "1459045822327316492  @sthlm_open @janniksin 🧡🦊 he’s lovely. So exci...   \n",
       "1459049489646379045  @JannikSinner_Up @janniksin 💪🎾🎾fantastico Jann...   \n",
       "1459059756698685440  Jannik Sinner under pressure 🚨\\n\\n“What’s the ...   \n",
       "1459068228211146753  @ROLEX @GrigorDimitrov @janniksin @Taylor_Frit...   \n",
       "1459097086905913344  My Italian family in Paris 😊@RPiatti @janniksi...   \n",
       "1459110883062431746  @MattBerrettini @janniksin ci siete domani a p...   \n",
       "\n",
       "                     favorite_count  \\\n",
       "id                                    \n",
       "1458956897051193350               0   \n",
       "1458966548303941633               0   \n",
       "1459035053233631233               0   \n",
       "1459036698927456259               0   \n",
       "1459045822327316492               0   \n",
       "1459049489646379045               0   \n",
       "1459059756698685440               0   \n",
       "1459068228211146753               0   \n",
       "1459097086905913344               0   \n",
       "1459110883062431746               0   \n",
       "\n",
       "                                                              hashtags  \\\n",
       "id                                                                       \n",
       "1458956897051193350                                                 []   \n",
       "1458966548303941633                                                 []   \n",
       "1459035053233631233  [Tennis, TennisParadise, BNPP021, tennis, tenn...   \n",
       "1459036698927456259                                                 []   \n",
       "1459045822327316492                                                 []   \n",
       "1459049489646379045                                                 []   \n",
       "1459059756698685440                                                 []   \n",
       "1459068228211146753                                                 []   \n",
       "1459097086905913344                                                 []   \n",
       "1459110883062431746                                                 []   \n",
       "\n",
       "                          location  retweet  retweet_count  followers_count  \\\n",
       "id                                                                            \n",
       "1458956897051193350                   False              0               14   \n",
       "1458966548303941633             日本    False             20              304   \n",
       "1459035053233631233                   False              0              210   \n",
       "1459036698927456259     California    False              0               60   \n",
       "1459045822327316492  East, England    False              0              776   \n",
       "1459049489646379045                   False              0                3   \n",
       "1459059756698685440       Zimbabwe    False             20               23   \n",
       "1459068228211146753          JAPAN    False              0               27   \n",
       "1459097086905913344                   False            346                0   \n",
       "1459110883062431746                   False              0               28   \n",
       "\n",
       "                     in_reply_to_status_id  \\\n",
       "id                                           \n",
       "1458956897051193350           1.455181e+18   \n",
       "1458966548303941633                    NaN   \n",
       "1459035053233631233                    NaN   \n",
       "1459036698927456259           1.458021e+18   \n",
       "1459045822327316492           1.458773e+18   \n",
       "1459049489646379045           1.455950e+18   \n",
       "1459059756698685440                    NaN   \n",
       "1459068228211146753           1.455116e+18   \n",
       "1459097086905913344                    NaN   \n",
       "1459110883062431746                    NaN   \n",
       "\n",
       "                                                         user_mentions  \n",
       "id                                                                      \n",
       "1458956897051193350               [MariaSharapova, RPiatti, janniksin]  \n",
       "1458966548303941633                            [sthlm_open, janniksin]  \n",
       "1459035053233631233               [janniksin, BNPPARIBASOPEN, atptour]  \n",
       "1459036698927456259  [atptour, intesasanpaolo, nextgenfinals, Hyeon...  \n",
       "1459045822327316492                            [sthlm_open, janniksin]  \n",
       "1459049489646379045                       [JannikSinner_Up, janniksin]  \n",
       "1459059756698685440                            [sthlm_open, janniksin]  \n",
       "1459068228211146753  [ROLEX, GrigorDimitrov, janniksin, Taylor_Frit...  \n",
       "1459097086905913344               [MariaSharapova, RPiatti, janniksin]  \n",
       "1459110883062431746            [MattBerrettini, janniksin, DjokerNole]  "
      ]
     },
     "execution_count": 22,
     "metadata": {},
     "output_type": "execute_result"
    }
   ],
   "source": [
    "df = pd.DataFrame.from_dict(dict_, orient=\"columns\")\n",
    "df = df.set_index(\"id\")\n",
    "df.sort_values(by=['date'], inplace=True, ascending=True)\n",
    "df.head(10)"
   ]
  },
  {
   "cell_type": "code",
   "execution_count": 23,
   "metadata": {
    "id": "etTJY7DM_XrJ"
   },
   "outputs": [
    {
     "name": "stdout",
     "output_type": "stream",
     "text": [
      "<class 'pandas.core.frame.DataFrame'>\n",
      "Int64Index: 5326 entries, 1458956897051193350 to 1461115464738824195\n",
      "Data columns (total 11 columns):\n",
      " #   Column                 Non-Null Count  Dtype  \n",
      "---  ------                 --------------  -----  \n",
      " 0   user                   5326 non-null   object \n",
      " 1   date                   5326 non-null   object \n",
      " 2   text                   5326 non-null   object \n",
      " 3   favorite_count         5326 non-null   int64  \n",
      " 4   hashtags               5326 non-null   object \n",
      " 5   location               5326 non-null   object \n",
      " 6   retweet                5326 non-null   bool   \n",
      " 7   retweet_count          5326 non-null   int64  \n",
      " 8   followers_count        5326 non-null   int64  \n",
      " 9   in_reply_to_status_id  1103 non-null   float64\n",
      " 10  user_mentions          5326 non-null   object \n",
      "dtypes: bool(1), float64(1), int64(3), object(6)\n",
      "memory usage: 462.9+ KB\n"
     ]
    }
   ],
   "source": [
    "df.info()"
   ]
  },
  {
   "cell_type": "code",
   "execution_count": 24,
   "metadata": {
    "id": "PCHC8WmOA98e"
   },
   "outputs": [
    {
     "name": "stdout",
     "output_type": "stream",
     "text": [
      "(5326, 11)\n"
     ]
    }
   ],
   "source": [
    "print(df.shape)"
   ]
  },
  {
   "cell_type": "code",
   "execution_count": 27,
   "metadata": {
    "id": "hFJs4Pl-_KcU"
   },
   "outputs": [],
   "source": [
    "df.to_csv(f'{scrapingATP_root_dir}twitter_history_{utente}_{prog}_{lang}_{len(searched_tweets)}.csv')"
   ]
  },
  {
   "cell_type": "markdown",
   "metadata": {
    "id": "0MzvdZSU_AWe"
   },
   "source": [
    "## Scraping dello stream"
   ]
  },
  {
   "cell_type": "code",
   "execution_count": null,
   "metadata": {
    "colab": {
     "base_uri": "https://localhost:8080/"
    },
    "executionInfo": {
     "elapsed": 804,
     "status": "ok",
     "timestamp": 1637014663037,
     "user": {
      "displayName": "Antonello Manenti",
      "photoUrl": "https://lh3.googleusercontent.com/a/default-user=s64",
      "userId": "17495113583668482416"
     },
     "user_tz": -60
    },
    "id": "eqFqbRuR_lGM",
    "outputId": "8ebe871c-f224-4cac-86a3-bb7009c02b6f"
   },
   "outputs": [
    {
     "name": "stdout",
     "output_type": "stream",
     "text": [
      "time: 37.9 ms (started: 2021-11-15 22:17:42 +00:00)\n"
     ]
    }
   ],
   "source": [
    "class MyStreamListener(tweepy.StreamListener):\n",
    "    data = [] #qui ci metto i tweet che scarico man mano\n",
    "    num = 0 #questo è un contatore settato a 0\n",
    "\n",
    "    def store(self):\n",
    "      dict_ = {'id': [], 'user': [], 'date': [], 'text': [],\n",
    "         'favorite_count': [], 'hashtags': [], \n",
    "         'location': [], 'retweet': [], 'retweet_count': [], 'followers_count': [], 'in_reply_to_status_id':[], 'user_mentions':[]}\n",
    "      \n",
    "      for status_j in self.data:\n",
    "          status = status_j._json\n",
    "\n",
    "          if 'retweeted_status' in status:\n",
    "            if 'extended_tweet' in status['retweeted_status']:\n",
    "              text = status['retweeted_status']['extended_tweet']['full_text']\n",
    "              dict_['text'].append(text)\n",
    "            else:\n",
    "              text = status['retweeted_status']['full_text']\n",
    "              dict_['text'].append(text)\n",
    "          else:\n",
    "            if 'extended_tweet' in status:\n",
    "              text = status['extended_tweet']['full_text']\n",
    "              dict_['text'].append(text)\n",
    "            else:\n",
    "              text = status['full_text']\n",
    "              dict_['text'].append(text)\n",
    "\n",
    "          dict_['id'].append(status['id'])\n",
    "          dict_['user'].append(status['user']['screen_name'])\n",
    "          dict_['hashtags'].append([hashtag['text'] for hashtag in status['entities']['hashtags']])\n",
    "          dict_['user_mentions'].append([user_mention['screen_name'] for user_mention in status['entities']['user_mentions']])\n",
    "          dict_['location'].append(status['user']['location'])\n",
    "          dict_['followers_count'].append(status['user']['followers_count'])\n",
    "          dict_['in_reply_to_status_id'].append(status['in_reply_to_status_id'])\n",
    "          dict_['date'].append(status['created_at'])\n",
    "          dict_['full_text'].append(status['full_text'])\n",
    "          dict_['favorite_count'].append(status['favorite_count'])\n",
    "          dict_['retweet_count'].append(status['retweet_count'])\n",
    "          dict_['retweet'].append(status['retweeted'])\n",
    "\n",
    "      df = pd.DataFrame.from_dict(dict_, orient=\"columns\")\n",
    "      df = df.set_index(\"id\")\n",
    "      df.sort_values(by='favorite_count', inplace=True, ascending=False)\n",
    "      df.to_csv(f'{scrapingATP_root_dir}_twitter_stream_{utente}_{prog}_{lang}_' + str(self.num) + '.csv') #salvo in csv\n",
    "      self.num = self.num + 1\n",
    "      self.data = []\n",
    "\n",
    "\n",
    "    def on_status(self, status):\n",
    "        self.data.append(status)\n",
    "        # to pandas\n",
    "        # store su google drive\n",
    "        if len(self.data) > 5000:\n",
    "          self.store()"
   ]
  },
  {
   "cell_type": "code",
   "execution_count": null,
   "metadata": {
    "colab": {
     "base_uri": "https://localhost:8080/"
    },
    "executionInfo": {
     "elapsed": 272,
     "status": "ok",
     "timestamp": 1637014666073,
     "user": {
      "displayName": "Antonello Manenti",
      "photoUrl": "https://lh3.googleusercontent.com/a/default-user=s64",
      "userId": "17495113583668482416"
     },
     "user_tz": -60
    },
    "id": "I7tJCy-B_pAf",
    "outputId": "48996a03-ef0e-41d1-ba6b-399a96aed668"
   },
   "outputs": [
    {
     "name": "stdout",
     "output_type": "stream",
     "text": [
      "time: 2.06 ms (started: 2021-11-15 22:17:45 +00:00)\n"
     ]
    }
   ],
   "source": [
    "myStreamListener = MyStreamListener()\n",
    "myStream = tweepy.Stream(auth = api.auth, listener=myStreamListener, tweet_mode=\"extended\")"
   ]
  },
  {
   "cell_type": "code",
   "execution_count": null,
   "metadata": {
    "colab": {
     "base_uri": "https://localhost:8080/",
     "height": 336
    },
    "executionInfo": {
     "elapsed": 4729,
     "status": "error",
     "timestamp": 1637014676232,
     "user": {
      "displayName": "Antonello Manenti",
      "photoUrl": "https://lh3.googleusercontent.com/a/default-user=s64",
      "userId": "17495113583668482416"
     },
     "user_tz": -60
    },
    "id": "sY7zHFiI_ptN",
    "outputId": "58a56d8d-9fd1-40e4-8ced-1abc404634e9"
   },
   "outputs": [
    {
     "ename": "KeyboardInterrupt",
     "evalue": "ignored",
     "output_type": "error",
     "traceback": [
      "\u001b[0;31m---------------------------------------------------------------------------\u001b[0m",
      "\u001b[0;31mKeyboardInterrupt\u001b[0m                         Traceback (most recent call last)",
      "\u001b[0;32m<ipython-input-60-3201816f59cd>\u001b[0m in \u001b[0;36m<module>\u001b[0;34m()\u001b[0m\n\u001b[1;32m      1\u001b[0m \u001b[0mquery\u001b[0m \u001b[0;34m=\u001b[0m \u001b[0;34m[\u001b[0m\u001b[0;34m'energytransaction'\u001b[0m \u001b[0;32mor\u001b[0m \u001b[0;34m'nuclear'\u001b[0m\u001b[0;34m]\u001b[0m\u001b[0;34m\u001b[0m\u001b[0;34m\u001b[0m\u001b[0m\n\u001b[0;32m----> 2\u001b[0;31m \u001b[0mmyStream\u001b[0m\u001b[0;34m.\u001b[0m\u001b[0mfilter\u001b[0m\u001b[0;34m(\u001b[0m\u001b[0mtrack\u001b[0m\u001b[0;34m=\u001b[0m\u001b[0mquery\u001b[0m\u001b[0;34m)\u001b[0m\u001b[0;34m\u001b[0m\u001b[0;34m\u001b[0m\u001b[0m\n\u001b[0m",
      "\u001b[0;32m/usr/local/lib/python3.7/dist-packages/tweepy/streaming.py\u001b[0m in \u001b[0;36mfilter\u001b[0;34m(self, follow, track, is_async, locations, stall_warnings, languages, encoding, filter_level)\u001b[0m\n\u001b[1;32m    472\u001b[0m             \u001b[0mself\u001b[0m\u001b[0;34m.\u001b[0m\u001b[0mbody\u001b[0m\u001b[0;34m[\u001b[0m\u001b[0;34m'filter_level'\u001b[0m\u001b[0;34m]\u001b[0m \u001b[0;34m=\u001b[0m \u001b[0mfilter_level\u001b[0m\u001b[0;34m.\u001b[0m\u001b[0mencode\u001b[0m\u001b[0;34m(\u001b[0m\u001b[0mencoding\u001b[0m\u001b[0;34m)\u001b[0m\u001b[0;34m\u001b[0m\u001b[0;34m\u001b[0m\u001b[0m\n\u001b[1;32m    473\u001b[0m         \u001b[0mself\u001b[0m\u001b[0;34m.\u001b[0m\u001b[0msession\u001b[0m\u001b[0;34m.\u001b[0m\u001b[0mparams\u001b[0m \u001b[0;34m=\u001b[0m \u001b[0;34m{\u001b[0m\u001b[0;34m'delimited'\u001b[0m\u001b[0;34m:\u001b[0m \u001b[0;34m'length'\u001b[0m\u001b[0;34m}\u001b[0m\u001b[0;34m\u001b[0m\u001b[0;34m\u001b[0m\u001b[0m\n\u001b[0;32m--> 474\u001b[0;31m         \u001b[0mself\u001b[0m\u001b[0;34m.\u001b[0m\u001b[0m_start\u001b[0m\u001b[0;34m(\u001b[0m\u001b[0mis_async\u001b[0m\u001b[0;34m)\u001b[0m\u001b[0;34m\u001b[0m\u001b[0;34m\u001b[0m\u001b[0m\n\u001b[0m\u001b[1;32m    475\u001b[0m \u001b[0;34m\u001b[0m\u001b[0m\n\u001b[1;32m    476\u001b[0m     def sitestream(self, follow, stall_warnings=False,\n",
      "\u001b[0;32m/usr/local/lib/python3.7/dist-packages/tweepy/streaming.py\u001b[0m in \u001b[0;36m_start\u001b[0;34m(self, is_async)\u001b[0m\n\u001b[1;32m    387\u001b[0m             \u001b[0mself\u001b[0m\u001b[0;34m.\u001b[0m\u001b[0m_thread\u001b[0m\u001b[0;34m.\u001b[0m\u001b[0mstart\u001b[0m\u001b[0;34m(\u001b[0m\u001b[0;34m)\u001b[0m\u001b[0;34m\u001b[0m\u001b[0;34m\u001b[0m\u001b[0m\n\u001b[1;32m    388\u001b[0m         \u001b[0;32melse\u001b[0m\u001b[0;34m:\u001b[0m\u001b[0;34m\u001b[0m\u001b[0;34m\u001b[0m\u001b[0m\n\u001b[0;32m--> 389\u001b[0;31m             \u001b[0mself\u001b[0m\u001b[0;34m.\u001b[0m\u001b[0m_run\u001b[0m\u001b[0;34m(\u001b[0m\u001b[0;34m)\u001b[0m\u001b[0;34m\u001b[0m\u001b[0;34m\u001b[0m\u001b[0m\n\u001b[0m\u001b[1;32m    390\u001b[0m \u001b[0;34m\u001b[0m\u001b[0m\n\u001b[1;32m    391\u001b[0m     \u001b[0;32mdef\u001b[0m \u001b[0mon_closed\u001b[0m\u001b[0;34m(\u001b[0m\u001b[0mself\u001b[0m\u001b[0;34m,\u001b[0m \u001b[0mresp\u001b[0m\u001b[0;34m)\u001b[0m\u001b[0;34m:\u001b[0m\u001b[0;34m\u001b[0m\u001b[0;34m\u001b[0m\u001b[0m\n",
      "\u001b[0;32m/usr/local/lib/python3.7/dist-packages/tweepy/streaming.py\u001b[0m in \u001b[0;36m_run\u001b[0;34m(self)\u001b[0m\n\u001b[1;32m    287\u001b[0m                     \u001b[0mself\u001b[0m\u001b[0;34m.\u001b[0m\u001b[0msnooze_time\u001b[0m \u001b[0;34m=\u001b[0m \u001b[0mself\u001b[0m\u001b[0;34m.\u001b[0m\u001b[0msnooze_time_step\u001b[0m\u001b[0;34m\u001b[0m\u001b[0;34m\u001b[0m\u001b[0m\n\u001b[1;32m    288\u001b[0m                     \u001b[0mself\u001b[0m\u001b[0;34m.\u001b[0m\u001b[0mlistener\u001b[0m\u001b[0;34m.\u001b[0m\u001b[0mon_connect\u001b[0m\u001b[0;34m(\u001b[0m\u001b[0;34m)\u001b[0m\u001b[0;34m\u001b[0m\u001b[0;34m\u001b[0m\u001b[0m\n\u001b[0;32m--> 289\u001b[0;31m                     \u001b[0mself\u001b[0m\u001b[0;34m.\u001b[0m\u001b[0m_read_loop\u001b[0m\u001b[0;34m(\u001b[0m\u001b[0mresp\u001b[0m\u001b[0;34m)\u001b[0m\u001b[0;34m\u001b[0m\u001b[0;34m\u001b[0m\u001b[0m\n\u001b[0m\u001b[1;32m    290\u001b[0m             \u001b[0;32mexcept\u001b[0m \u001b[0;34m(\u001b[0m\u001b[0mTimeout\u001b[0m\u001b[0;34m,\u001b[0m \u001b[0mssl\u001b[0m\u001b[0;34m.\u001b[0m\u001b[0mSSLError\u001b[0m\u001b[0;34m)\u001b[0m \u001b[0;32mas\u001b[0m \u001b[0mexc\u001b[0m\u001b[0;34m:\u001b[0m\u001b[0;34m\u001b[0m\u001b[0;34m\u001b[0m\u001b[0m\n\u001b[1;32m    291\u001b[0m                 \u001b[0;31m# This is still necessary, as a SSLError can actually be\u001b[0m\u001b[0;34m\u001b[0m\u001b[0;34m\u001b[0m\u001b[0;34m\u001b[0m\u001b[0m\n",
      "\u001b[0;32m/usr/local/lib/python3.7/dist-packages/tweepy/streaming.py\u001b[0m in \u001b[0;36m_read_loop\u001b[0;34m(self, resp)\u001b[0m\n\u001b[1;32m    337\u001b[0m             \u001b[0mlength\u001b[0m \u001b[0;34m=\u001b[0m \u001b[0;36m0\u001b[0m\u001b[0;34m\u001b[0m\u001b[0;34m\u001b[0m\u001b[0m\n\u001b[1;32m    338\u001b[0m             \u001b[0;32mwhile\u001b[0m \u001b[0;32mnot\u001b[0m \u001b[0mresp\u001b[0m\u001b[0;34m.\u001b[0m\u001b[0mraw\u001b[0m\u001b[0;34m.\u001b[0m\u001b[0mclosed\u001b[0m\u001b[0;34m:\u001b[0m\u001b[0;34m\u001b[0m\u001b[0;34m\u001b[0m\u001b[0m\n\u001b[0;32m--> 339\u001b[0;31m                 \u001b[0mline\u001b[0m \u001b[0;34m=\u001b[0m \u001b[0mbuf\u001b[0m\u001b[0;34m.\u001b[0m\u001b[0mread_line\u001b[0m\u001b[0;34m(\u001b[0m\u001b[0;34m)\u001b[0m\u001b[0;34m\u001b[0m\u001b[0;34m\u001b[0m\u001b[0m\n\u001b[0m\u001b[1;32m    340\u001b[0m                 \u001b[0mstripped_line\u001b[0m \u001b[0;34m=\u001b[0m \u001b[0mline\u001b[0m\u001b[0;34m.\u001b[0m\u001b[0mstrip\u001b[0m\u001b[0;34m(\u001b[0m\u001b[0;34m)\u001b[0m \u001b[0;32mif\u001b[0m \u001b[0mline\u001b[0m \u001b[0;32melse\u001b[0m \u001b[0mline\u001b[0m \u001b[0;31m# line is sometimes None so we need to check here\u001b[0m\u001b[0;34m\u001b[0m\u001b[0;34m\u001b[0m\u001b[0m\n\u001b[1;32m    341\u001b[0m                 \u001b[0;32mif\u001b[0m \u001b[0;32mnot\u001b[0m \u001b[0mstripped_line\u001b[0m\u001b[0;34m:\u001b[0m\u001b[0;34m\u001b[0m\u001b[0;34m\u001b[0m\u001b[0m\n",
      "\u001b[0;32m/usr/local/lib/python3.7/dist-packages/tweepy/streaming.py\u001b[0m in \u001b[0;36mread_line\u001b[0;34m(self, sep)\u001b[0m\n\u001b[1;32m    198\u001b[0m             \u001b[0;32melse\u001b[0m\u001b[0;34m:\u001b[0m\u001b[0;34m\u001b[0m\u001b[0;34m\u001b[0m\u001b[0m\n\u001b[1;32m    199\u001b[0m                 \u001b[0mstart\u001b[0m \u001b[0;34m=\u001b[0m \u001b[0mlen\u001b[0m\u001b[0;34m(\u001b[0m\u001b[0mself\u001b[0m\u001b[0;34m.\u001b[0m\u001b[0m_buffer\u001b[0m\u001b[0;34m)\u001b[0m\u001b[0;34m\u001b[0m\u001b[0;34m\u001b[0m\u001b[0m\n\u001b[0;32m--> 200\u001b[0;31m             \u001b[0mself\u001b[0m\u001b[0;34m.\u001b[0m\u001b[0m_buffer\u001b[0m \u001b[0;34m+=\u001b[0m \u001b[0mself\u001b[0m\u001b[0;34m.\u001b[0m\u001b[0m_stream\u001b[0m\u001b[0;34m.\u001b[0m\u001b[0mread\u001b[0m\u001b[0;34m(\u001b[0m\u001b[0mself\u001b[0m\u001b[0;34m.\u001b[0m\u001b[0m_chunk_size\u001b[0m\u001b[0;34m)\u001b[0m\u001b[0;34m\u001b[0m\u001b[0;34m\u001b[0m\u001b[0m\n\u001b[0m\u001b[1;32m    201\u001b[0m         \u001b[0;32mreturn\u001b[0m \u001b[0msix\u001b[0m\u001b[0;34m.\u001b[0m\u001b[0mb\u001b[0m\u001b[0;34m(\u001b[0m\u001b[0;34m''\u001b[0m\u001b[0;34m)\u001b[0m\u001b[0;34m\u001b[0m\u001b[0;34m\u001b[0m\u001b[0m\n\u001b[1;32m    202\u001b[0m \u001b[0;34m\u001b[0m\u001b[0m\n",
      "\u001b[0;32m/usr/local/lib/python3.7/dist-packages/urllib3/response.py\u001b[0m in \u001b[0;36mread\u001b[0;34m(self, amt, decode_content, cache_content)\u001b[0m\n\u001b[1;32m    442\u001b[0m             \u001b[0;32melse\u001b[0m\u001b[0;34m:\u001b[0m\u001b[0;34m\u001b[0m\u001b[0;34m\u001b[0m\u001b[0m\n\u001b[1;32m    443\u001b[0m                 \u001b[0mcache_content\u001b[0m \u001b[0;34m=\u001b[0m \u001b[0;32mFalse\u001b[0m\u001b[0;34m\u001b[0m\u001b[0;34m\u001b[0m\u001b[0m\n\u001b[0;32m--> 444\u001b[0;31m                 \u001b[0mdata\u001b[0m \u001b[0;34m=\u001b[0m \u001b[0mself\u001b[0m\u001b[0;34m.\u001b[0m\u001b[0m_fp\u001b[0m\u001b[0;34m.\u001b[0m\u001b[0mread\u001b[0m\u001b[0;34m(\u001b[0m\u001b[0mamt\u001b[0m\u001b[0;34m)\u001b[0m\u001b[0;34m\u001b[0m\u001b[0;34m\u001b[0m\u001b[0m\n\u001b[0m\u001b[1;32m    445\u001b[0m                 \u001b[0;32mif\u001b[0m \u001b[0mamt\u001b[0m \u001b[0;34m!=\u001b[0m \u001b[0;36m0\u001b[0m \u001b[0;32mand\u001b[0m \u001b[0;32mnot\u001b[0m \u001b[0mdata\u001b[0m\u001b[0;34m:\u001b[0m  \u001b[0;31m# Platform-specific: Buggy versions of Python.\u001b[0m\u001b[0;34m\u001b[0m\u001b[0;34m\u001b[0m\u001b[0m\n\u001b[1;32m    446\u001b[0m                     \u001b[0;31m# Close the connection when no data is returned\u001b[0m\u001b[0;34m\u001b[0m\u001b[0;34m\u001b[0m\u001b[0;34m\u001b[0m\u001b[0m\n",
      "\u001b[0;32m/usr/lib/python3.7/http/client.py\u001b[0m in \u001b[0;36mread\u001b[0;34m(self, amt)\u001b[0m\n\u001b[1;32m    463\u001b[0m             \u001b[0;31m# Amount is given, implement using readinto\u001b[0m\u001b[0;34m\u001b[0m\u001b[0;34m\u001b[0m\u001b[0;34m\u001b[0m\u001b[0m\n\u001b[1;32m    464\u001b[0m             \u001b[0mb\u001b[0m \u001b[0;34m=\u001b[0m \u001b[0mbytearray\u001b[0m\u001b[0;34m(\u001b[0m\u001b[0mamt\u001b[0m\u001b[0;34m)\u001b[0m\u001b[0;34m\u001b[0m\u001b[0;34m\u001b[0m\u001b[0m\n\u001b[0;32m--> 465\u001b[0;31m             \u001b[0mn\u001b[0m \u001b[0;34m=\u001b[0m \u001b[0mself\u001b[0m\u001b[0;34m.\u001b[0m\u001b[0mreadinto\u001b[0m\u001b[0;34m(\u001b[0m\u001b[0mb\u001b[0m\u001b[0;34m)\u001b[0m\u001b[0;34m\u001b[0m\u001b[0;34m\u001b[0m\u001b[0m\n\u001b[0m\u001b[1;32m    466\u001b[0m             \u001b[0;32mreturn\u001b[0m \u001b[0mmemoryview\u001b[0m\u001b[0;34m(\u001b[0m\u001b[0mb\u001b[0m\u001b[0;34m)\u001b[0m\u001b[0;34m[\u001b[0m\u001b[0;34m:\u001b[0m\u001b[0mn\u001b[0m\u001b[0;34m]\u001b[0m\u001b[0;34m.\u001b[0m\u001b[0mtobytes\u001b[0m\u001b[0;34m(\u001b[0m\u001b[0;34m)\u001b[0m\u001b[0;34m\u001b[0m\u001b[0;34m\u001b[0m\u001b[0m\n\u001b[1;32m    467\u001b[0m         \u001b[0;32melse\u001b[0m\u001b[0;34m:\u001b[0m\u001b[0;34m\u001b[0m\u001b[0;34m\u001b[0m\u001b[0m\n",
      "\u001b[0;32m/usr/lib/python3.7/http/client.py\u001b[0m in \u001b[0;36mreadinto\u001b[0;34m(self, b)\u001b[0m\n\u001b[1;32m    497\u001b[0m \u001b[0;34m\u001b[0m\u001b[0m\n\u001b[1;32m    498\u001b[0m         \u001b[0;32mif\u001b[0m \u001b[0mself\u001b[0m\u001b[0;34m.\u001b[0m\u001b[0mchunked\u001b[0m\u001b[0;34m:\u001b[0m\u001b[0;34m\u001b[0m\u001b[0;34m\u001b[0m\u001b[0m\n\u001b[0;32m--> 499\u001b[0;31m             \u001b[0;32mreturn\u001b[0m \u001b[0mself\u001b[0m\u001b[0;34m.\u001b[0m\u001b[0m_readinto_chunked\u001b[0m\u001b[0;34m(\u001b[0m\u001b[0mb\u001b[0m\u001b[0;34m)\u001b[0m\u001b[0;34m\u001b[0m\u001b[0;34m\u001b[0m\u001b[0m\n\u001b[0m\u001b[1;32m    500\u001b[0m \u001b[0;34m\u001b[0m\u001b[0m\n\u001b[1;32m    501\u001b[0m         \u001b[0;32mif\u001b[0m \u001b[0mself\u001b[0m\u001b[0;34m.\u001b[0m\u001b[0mlength\u001b[0m \u001b[0;32mis\u001b[0m \u001b[0;32mnot\u001b[0m \u001b[0;32mNone\u001b[0m\u001b[0;34m:\u001b[0m\u001b[0;34m\u001b[0m\u001b[0;34m\u001b[0m\u001b[0m\n",
      "\u001b[0;32m/usr/lib/python3.7/http/client.py\u001b[0m in \u001b[0;36m_readinto_chunked\u001b[0;34m(self, b)\u001b[0m\n\u001b[1;32m    592\u001b[0m         \u001b[0;32mtry\u001b[0m\u001b[0;34m:\u001b[0m\u001b[0;34m\u001b[0m\u001b[0;34m\u001b[0m\u001b[0m\n\u001b[1;32m    593\u001b[0m             \u001b[0;32mwhile\u001b[0m \u001b[0;32mTrue\u001b[0m\u001b[0;34m:\u001b[0m\u001b[0;34m\u001b[0m\u001b[0;34m\u001b[0m\u001b[0m\n\u001b[0;32m--> 594\u001b[0;31m                 \u001b[0mchunk_left\u001b[0m \u001b[0;34m=\u001b[0m \u001b[0mself\u001b[0m\u001b[0;34m.\u001b[0m\u001b[0m_get_chunk_left\u001b[0m\u001b[0;34m(\u001b[0m\u001b[0;34m)\u001b[0m\u001b[0;34m\u001b[0m\u001b[0;34m\u001b[0m\u001b[0m\n\u001b[0m\u001b[1;32m    595\u001b[0m                 \u001b[0;32mif\u001b[0m \u001b[0mchunk_left\u001b[0m \u001b[0;32mis\u001b[0m \u001b[0;32mNone\u001b[0m\u001b[0;34m:\u001b[0m\u001b[0;34m\u001b[0m\u001b[0;34m\u001b[0m\u001b[0m\n\u001b[1;32m    596\u001b[0m                     \u001b[0;32mreturn\u001b[0m \u001b[0mtotal_bytes\u001b[0m\u001b[0;34m\u001b[0m\u001b[0;34m\u001b[0m\u001b[0m\n",
      "\u001b[0;32m/usr/lib/python3.7/http/client.py\u001b[0m in \u001b[0;36m_get_chunk_left\u001b[0;34m(self)\u001b[0m\n\u001b[1;32m    560\u001b[0m                 \u001b[0mself\u001b[0m\u001b[0;34m.\u001b[0m\u001b[0m_safe_read\u001b[0m\u001b[0;34m(\u001b[0m\u001b[0;36m2\u001b[0m\u001b[0;34m)\u001b[0m  \u001b[0;31m# toss the CRLF at the end of the chunk\u001b[0m\u001b[0;34m\u001b[0m\u001b[0;34m\u001b[0m\u001b[0m\n\u001b[1;32m    561\u001b[0m             \u001b[0;32mtry\u001b[0m\u001b[0;34m:\u001b[0m\u001b[0;34m\u001b[0m\u001b[0;34m\u001b[0m\u001b[0m\n\u001b[0;32m--> 562\u001b[0;31m                 \u001b[0mchunk_left\u001b[0m \u001b[0;34m=\u001b[0m \u001b[0mself\u001b[0m\u001b[0;34m.\u001b[0m\u001b[0m_read_next_chunk_size\u001b[0m\u001b[0;34m(\u001b[0m\u001b[0;34m)\u001b[0m\u001b[0;34m\u001b[0m\u001b[0;34m\u001b[0m\u001b[0m\n\u001b[0m\u001b[1;32m    563\u001b[0m             \u001b[0;32mexcept\u001b[0m \u001b[0mValueError\u001b[0m\u001b[0;34m:\u001b[0m\u001b[0;34m\u001b[0m\u001b[0;34m\u001b[0m\u001b[0m\n\u001b[1;32m    564\u001b[0m                 \u001b[0;32mraise\u001b[0m \u001b[0mIncompleteRead\u001b[0m\u001b[0;34m(\u001b[0m\u001b[0;34mb''\u001b[0m\u001b[0;34m)\u001b[0m\u001b[0;34m\u001b[0m\u001b[0;34m\u001b[0m\u001b[0m\n",
      "\u001b[0;32m/usr/lib/python3.7/http/client.py\u001b[0m in \u001b[0;36m_read_next_chunk_size\u001b[0;34m(self)\u001b[0m\n\u001b[1;32m    520\u001b[0m     \u001b[0;32mdef\u001b[0m \u001b[0m_read_next_chunk_size\u001b[0m\u001b[0;34m(\u001b[0m\u001b[0mself\u001b[0m\u001b[0;34m)\u001b[0m\u001b[0;34m:\u001b[0m\u001b[0;34m\u001b[0m\u001b[0;34m\u001b[0m\u001b[0m\n\u001b[1;32m    521\u001b[0m         \u001b[0;31m# Read the next chunk size from the file\u001b[0m\u001b[0;34m\u001b[0m\u001b[0;34m\u001b[0m\u001b[0;34m\u001b[0m\u001b[0m\n\u001b[0;32m--> 522\u001b[0;31m         \u001b[0mline\u001b[0m \u001b[0;34m=\u001b[0m \u001b[0mself\u001b[0m\u001b[0;34m.\u001b[0m\u001b[0mfp\u001b[0m\u001b[0;34m.\u001b[0m\u001b[0mreadline\u001b[0m\u001b[0;34m(\u001b[0m\u001b[0m_MAXLINE\u001b[0m \u001b[0;34m+\u001b[0m \u001b[0;36m1\u001b[0m\u001b[0;34m)\u001b[0m\u001b[0;34m\u001b[0m\u001b[0;34m\u001b[0m\u001b[0m\n\u001b[0m\u001b[1;32m    523\u001b[0m         \u001b[0;32mif\u001b[0m \u001b[0mlen\u001b[0m\u001b[0;34m(\u001b[0m\u001b[0mline\u001b[0m\u001b[0;34m)\u001b[0m \u001b[0;34m>\u001b[0m \u001b[0m_MAXLINE\u001b[0m\u001b[0;34m:\u001b[0m\u001b[0;34m\u001b[0m\u001b[0;34m\u001b[0m\u001b[0m\n\u001b[1;32m    524\u001b[0m             \u001b[0;32mraise\u001b[0m \u001b[0mLineTooLong\u001b[0m\u001b[0;34m(\u001b[0m\u001b[0;34m\"chunk size\"\u001b[0m\u001b[0;34m)\u001b[0m\u001b[0;34m\u001b[0m\u001b[0;34m\u001b[0m\u001b[0m\n",
      "\u001b[0;32m/usr/lib/python3.7/socket.py\u001b[0m in \u001b[0;36mreadinto\u001b[0;34m(self, b)\u001b[0m\n\u001b[1;32m    587\u001b[0m         \u001b[0;32mwhile\u001b[0m \u001b[0;32mTrue\u001b[0m\u001b[0;34m:\u001b[0m\u001b[0;34m\u001b[0m\u001b[0;34m\u001b[0m\u001b[0m\n\u001b[1;32m    588\u001b[0m             \u001b[0;32mtry\u001b[0m\u001b[0;34m:\u001b[0m\u001b[0;34m\u001b[0m\u001b[0;34m\u001b[0m\u001b[0m\n\u001b[0;32m--> 589\u001b[0;31m                 \u001b[0;32mreturn\u001b[0m \u001b[0mself\u001b[0m\u001b[0;34m.\u001b[0m\u001b[0m_sock\u001b[0m\u001b[0;34m.\u001b[0m\u001b[0mrecv_into\u001b[0m\u001b[0;34m(\u001b[0m\u001b[0mb\u001b[0m\u001b[0;34m)\u001b[0m\u001b[0;34m\u001b[0m\u001b[0;34m\u001b[0m\u001b[0m\n\u001b[0m\u001b[1;32m    590\u001b[0m             \u001b[0;32mexcept\u001b[0m \u001b[0mtimeout\u001b[0m\u001b[0;34m:\u001b[0m\u001b[0;34m\u001b[0m\u001b[0;34m\u001b[0m\u001b[0m\n\u001b[1;32m    591\u001b[0m                 \u001b[0mself\u001b[0m\u001b[0;34m.\u001b[0m\u001b[0m_timeout_occurred\u001b[0m \u001b[0;34m=\u001b[0m \u001b[0;32mTrue\u001b[0m\u001b[0;34m\u001b[0m\u001b[0;34m\u001b[0m\u001b[0m\n",
      "\u001b[0;32m/usr/lib/python3.7/ssl.py\u001b[0m in \u001b[0;36mrecv_into\u001b[0;34m(self, buffer, nbytes, flags)\u001b[0m\n\u001b[1;32m   1069\u001b[0m                   \u001b[0;34m\"non-zero flags not allowed in calls to recv_into() on %s\"\u001b[0m \u001b[0;34m%\u001b[0m\u001b[0;34m\u001b[0m\u001b[0;34m\u001b[0m\u001b[0m\n\u001b[1;32m   1070\u001b[0m                   self.__class__)\n\u001b[0;32m-> 1071\u001b[0;31m             \u001b[0;32mreturn\u001b[0m \u001b[0mself\u001b[0m\u001b[0;34m.\u001b[0m\u001b[0mread\u001b[0m\u001b[0;34m(\u001b[0m\u001b[0mnbytes\u001b[0m\u001b[0;34m,\u001b[0m \u001b[0mbuffer\u001b[0m\u001b[0;34m)\u001b[0m\u001b[0;34m\u001b[0m\u001b[0;34m\u001b[0m\u001b[0m\n\u001b[0m\u001b[1;32m   1072\u001b[0m         \u001b[0;32melse\u001b[0m\u001b[0;34m:\u001b[0m\u001b[0;34m\u001b[0m\u001b[0;34m\u001b[0m\u001b[0m\n\u001b[1;32m   1073\u001b[0m             \u001b[0;32mreturn\u001b[0m \u001b[0msuper\u001b[0m\u001b[0;34m(\u001b[0m\u001b[0;34m)\u001b[0m\u001b[0;34m.\u001b[0m\u001b[0mrecv_into\u001b[0m\u001b[0;34m(\u001b[0m\u001b[0mbuffer\u001b[0m\u001b[0;34m,\u001b[0m \u001b[0mnbytes\u001b[0m\u001b[0;34m,\u001b[0m \u001b[0mflags\u001b[0m\u001b[0;34m)\u001b[0m\u001b[0;34m\u001b[0m\u001b[0;34m\u001b[0m\u001b[0m\n",
      "\u001b[0;32m/usr/lib/python3.7/ssl.py\u001b[0m in \u001b[0;36mread\u001b[0;34m(self, len, buffer)\u001b[0m\n\u001b[1;32m    927\u001b[0m         \u001b[0;32mtry\u001b[0m\u001b[0;34m:\u001b[0m\u001b[0;34m\u001b[0m\u001b[0;34m\u001b[0m\u001b[0m\n\u001b[1;32m    928\u001b[0m             \u001b[0;32mif\u001b[0m \u001b[0mbuffer\u001b[0m \u001b[0;32mis\u001b[0m \u001b[0;32mnot\u001b[0m \u001b[0;32mNone\u001b[0m\u001b[0;34m:\u001b[0m\u001b[0;34m\u001b[0m\u001b[0;34m\u001b[0m\u001b[0m\n\u001b[0;32m--> 929\u001b[0;31m                 \u001b[0;32mreturn\u001b[0m \u001b[0mself\u001b[0m\u001b[0;34m.\u001b[0m\u001b[0m_sslobj\u001b[0m\u001b[0;34m.\u001b[0m\u001b[0mread\u001b[0m\u001b[0;34m(\u001b[0m\u001b[0mlen\u001b[0m\u001b[0;34m,\u001b[0m \u001b[0mbuffer\u001b[0m\u001b[0;34m)\u001b[0m\u001b[0;34m\u001b[0m\u001b[0;34m\u001b[0m\u001b[0m\n\u001b[0m\u001b[1;32m    930\u001b[0m             \u001b[0;32melse\u001b[0m\u001b[0;34m:\u001b[0m\u001b[0;34m\u001b[0m\u001b[0;34m\u001b[0m\u001b[0m\n\u001b[1;32m    931\u001b[0m                 \u001b[0;32mreturn\u001b[0m \u001b[0mself\u001b[0m\u001b[0;34m.\u001b[0m\u001b[0m_sslobj\u001b[0m\u001b[0;34m.\u001b[0m\u001b[0mread\u001b[0m\u001b[0;34m(\u001b[0m\u001b[0mlen\u001b[0m\u001b[0;34m)\u001b[0m\u001b[0;34m\u001b[0m\u001b[0;34m\u001b[0m\u001b[0m\n",
      "\u001b[0;31mKeyboardInterrupt\u001b[0m: "
     ]
    },
    {
     "name": "stdout",
     "output_type": "stream",
     "text": [
      "time: 4.37 s (started: 2021-11-15 22:17:51 +00:00)\n"
     ]
    }
   ],
   "source": [
    "query = ['NittoATPFinals' or '#ATPFinals' or 'ATPFinals' or 'TennisTakesOverTorino' or 'Djokovic' or 'Medvedev' or 'Zverev' or 'Tsitsipas' or 'Rublev' or 'Berrettini' or 'Hurkacz' or 'Ruud' or 'Sinner']\n",
    "myStream.filter(track=query)"
   ]
  },
  {
   "cell_type": "code",
   "execution_count": null,
   "metadata": {
    "colab": {
     "base_uri": "https://localhost:8080/"
    },
    "executionInfo": {
     "elapsed": 398,
     "status": "ok",
     "timestamp": 1637014682796,
     "user": {
      "displayName": "Antonello Manenti",
      "photoUrl": "https://lh3.googleusercontent.com/a/default-user=s64",
      "userId": "17495113583668482416"
     },
     "user_tz": -60
    },
    "id": "wvUTo5db_ulg",
    "outputId": "1ebfe564-15c6-4b9b-f3f7-9f9898140ccb"
   },
   "outputs": [
    {
     "data": {
      "text/plain": [
       "0"
      ]
     },
     "execution_count": 62,
     "metadata": {},
     "output_type": "execute_result"
    },
    {
     "name": "stdout",
     "output_type": "stream",
     "text": [
      "time: 4.37 ms (started: 2021-11-15 22:18:02 +00:00)\n"
     ]
    }
   ],
   "source": [
    "len(myStreamListener.data)"
   ]
  },
  {
   "cell_type": "code",
   "execution_count": null,
   "metadata": {
    "id": "Od_-LHco_yh6"
   },
   "outputs": [],
   "source": [
    "dict_ = {'id': [], 'user': [], 'date': [], 'text': [], \n",
    "         'favorite_count': [], 'hashtags': [], \n",
    "         'location': [], 'retweet': [], 'retweet_count': [], 'followers_count': [], 'in_reply_to_status_id':[], 'user_mentions':[]}\n",
    "#\n",
    "for status_j in myStreamListener.data:\n",
    "    status = status_j._json\n",
    "\n",
    "    if 'retweeted_status' in status:\n",
    "      if 'extended_tweet' in status['retweeted_status']:\n",
    "        text = status['retweeted_status']['extended_tweet']['full_text']\n",
    "        dict_['text'].append(text)\n",
    "      else:\n",
    "        text = status['retweeted_status']['text']\n",
    "        dict_['text'].append(text)\n",
    "    else:\n",
    "      if 'extended_tweet' in status:\n",
    "        text = status['extended_tweet']['full_text']\n",
    "        dict_['text'].append(text)\n",
    "      else:\n",
    "        text = status['text']\n",
    "        dict_['text'].append(text)\n",
    "\n",
    "    dict_['id'].append(status['id'])\n",
    "    dict_['user'].append(status['user']['screen_name'])\n",
    "    dict_['hashtags'].append([hashtag['text'] for hashtag in status['entities']['hashtags']])\n",
    "    dict_['user_mentions'].append([user_mention['screen_name'] for user_mention in status['entities']['user_mentions']])\n",
    "    dict_['location'].append(status['user']['location'])\n",
    "    dict_['followers_count'].append(status['user']['followers_count'])\n",
    "    dict_['in_reply_to_status_id'].append(status['in_reply_to_status_id'])\n",
    "    dict_['date'].append(status['created_at'])\n",
    "    dict_['favorite_count'].append(status['favorite_count'])\n",
    "    dict_['retweet_count'].append(status['retweet_count'])\n",
    "    dict_['retweet'].append(status['retweeted'])"
   ]
  },
  {
   "cell_type": "code",
   "execution_count": null,
   "metadata": {
    "id": "AxsfeH0r_0YX"
   },
   "outputs": [],
   "source": [
    "df = pd.DataFrame.from_dict(dict_, orient=\"columns\")\n",
    "df = df.set_index(\"id\")\n",
    "df.sort_values(by='favorite_count', inplace=True, ascending=False)\n",
    "df.head(10)"
   ]
  },
  {
   "cell_type": "code",
   "execution_count": null,
   "metadata": {
    "id": "c6hPQxS3_6fj"
   },
   "outputs": [],
   "source": [
    "df.to_csv(f'{scrapingATP_root_dir}twitter_stream_{utente}_{prog}_{lang}_{len(myStreamListener.data)}.csv') #scarico l'ultimo stream"
   ]
  },
  {
   "cell_type": "code",
   "execution_count": 14,
   "metadata": {
    "executionInfo": {
     "elapsed": 3731,
     "status": "ok",
     "timestamp": 1637190579183,
     "user": {
      "displayName": "Antonello Manenti",
      "photoUrl": "https://lh3.googleusercontent.com/a/default-user=s64",
      "userId": "17495113583668482416"
     },
     "user_tz": -60
    },
    "id": "ypONx-rx_99j"
   },
   "outputs": [],
   "source": [
    "#unisco tutti i csv\n",
    "\n",
    "path = scrapingATP_root_dir\n",
    "\n",
    "all_files = glob.glob(os.path.join(path, \"twitter_*.csv\"))\n",
    "df_from_each_file = (pd.read_csv(f, sep=',') for f in all_files)\n",
    "df_merged   = pd.concat(df_from_each_file, ignore_index=True)\n",
    "df_merged.to_csv(f'{etl_root_dir}twitter_merged_from_scraping.csv', index=False, sep=',', encoding='utf-8')"
   ]
  },
  {
   "cell_type": "code",
   "execution_count": 15,
   "metadata": {
    "colab": {
     "base_uri": "https://localhost:8080/"
    },
    "executionInfo": {
     "elapsed": 335,
     "status": "ok",
     "timestamp": 1637190583190,
     "user": {
      "displayName": "Antonello Manenti",
      "photoUrl": "https://lh3.googleusercontent.com/a/default-user=s64",
      "userId": "17495113583668482416"
     },
     "user_tz": -60
    },
    "id": "5e-bKUNUHtFr",
    "outputId": "cbc01ad2-6839-46a9-fd71-254d621e32b2"
   },
   "outputs": [
    {
     "name": "stdout",
     "output_type": "stream",
     "text": [
      "<class 'pandas.core.frame.DataFrame'>\n",
      "RangeIndex: 34969 entries, 0 to 34968\n",
      "Data columns (total 12 columns):\n",
      " #   Column                 Non-Null Count  Dtype  \n",
      "---  ------                 --------------  -----  \n",
      " 0   id                     34969 non-null  int64  \n",
      " 1   user                   34969 non-null  object \n",
      " 2   date                   34969 non-null  object \n",
      " 3   text                   34969 non-null  object \n",
      " 4   favorite_count         34969 non-null  int64  \n",
      " 5   hashtags               34969 non-null  object \n",
      " 6   location               20965 non-null  object \n",
      " 7   retweet                34969 non-null  bool   \n",
      " 8   retweet_count          34969 non-null  int64  \n",
      " 9   followers_count        34969 non-null  int64  \n",
      " 10  in_reply_to_status_id  385 non-null    float64\n",
      " 11  user_mentions          34969 non-null  object \n",
      "dtypes: bool(1), float64(1), int64(4), object(6)\n",
      "memory usage: 3.0+ MB\n"
     ]
    }
   ],
   "source": [
    "df_merge = pd.read_csv(f'{etl_root_dir}twitter_merged_from_scraping.csv')\n",
    "df_merge.info()"
   ]
  },
  {
   "cell_type": "code",
   "execution_count": 17,
   "metadata": {
    "colab": {
     "base_uri": "https://localhost:8080/",
     "height": 559
    },
    "executionInfo": {
     "elapsed": 476,
     "status": "ok",
     "timestamp": 1637190642399,
     "user": {
      "displayName": "Antonello Manenti",
      "photoUrl": "https://lh3.googleusercontent.com/a/default-user=s64",
      "userId": "17495113583668482416"
     },
     "user_tz": -60
    },
    "id": "EkyiON6TKi0T",
    "outputId": "dafd6d6f-a959-4995-9150-a27df2d3ece6"
   },
   "outputs": [
    {
     "data": {
      "text/html": [
       "<div>\n",
       "<style scoped>\n",
       "    .dataframe tbody tr th:only-of-type {\n",
       "        vertical-align: middle;\n",
       "    }\n",
       "\n",
       "    .dataframe tbody tr th {\n",
       "        vertical-align: top;\n",
       "    }\n",
       "\n",
       "    .dataframe thead th {\n",
       "        text-align: right;\n",
       "    }\n",
       "</style>\n",
       "<table border=\"1\" class=\"dataframe\">\n",
       "  <thead>\n",
       "    <tr style=\"text-align: right;\">\n",
       "      <th></th>\n",
       "      <th>id</th>\n",
       "      <th>user</th>\n",
       "      <th>date</th>\n",
       "      <th>text</th>\n",
       "      <th>favorite_count</th>\n",
       "      <th>hashtags</th>\n",
       "      <th>location</th>\n",
       "      <th>retweet</th>\n",
       "      <th>retweet_count</th>\n",
       "      <th>followers_count</th>\n",
       "      <th>in_reply_to_status_id</th>\n",
       "      <th>user_mentions</th>\n",
       "    </tr>\n",
       "  </thead>\n",
       "  <tbody>\n",
       "    <tr>\n",
       "      <th>34964</th>\n",
       "      <td>1461093924110491649</td>\n",
       "      <td>chelstph</td>\n",
       "      <td>Wed Nov 17 22:08:31 +0000 2021</td>\n",
       "      <td>What a man 🥰\\n\\n@CasperRuud98 #NittoATPFinals ...</td>\n",
       "      <td>0</td>\n",
       "      <td>['NittoATPFinals']</td>\n",
       "      <td>NaN</td>\n",
       "      <td>False</td>\n",
       "      <td>0</td>\n",
       "      <td>73</td>\n",
       "      <td>NaN</td>\n",
       "      <td>['TennisTV', 'CasperRuud98']</td>\n",
       "    </tr>\n",
       "    <tr>\n",
       "      <th>34965</th>\n",
       "      <td>1461093952535384075</td>\n",
       "      <td>FLBZH35</td>\n",
       "      <td>Wed Nov 17 22:08:38 +0000 2021</td>\n",
       "      <td>Casper with the comeback 👏\\n\\n🇳🇴 @CasperRuud98...</td>\n",
       "      <td>0</td>\n",
       "      <td>['NittoATPFinals']</td>\n",
       "      <td>Ille-et-Vilaine, Bretagne</td>\n",
       "      <td>False</td>\n",
       "      <td>0</td>\n",
       "      <td>26</td>\n",
       "      <td>NaN</td>\n",
       "      <td>['atptour', 'CasperRuud98']</td>\n",
       "    </tr>\n",
       "    <tr>\n",
       "      <th>34966</th>\n",
       "      <td>1461093959715930121</td>\n",
       "      <td>AleColumn99</td>\n",
       "      <td>Wed Nov 17 22:08:40 +0000 2021</td>\n",
       "      <td>💗 Bellissimo pensiero di @CasperRuud98 per gli...</td>\n",
       "      <td>0</td>\n",
       "      <td>['tennis', 'NittoATPFinals']</td>\n",
       "      <td>Casatenovo</td>\n",
       "      <td>False</td>\n",
       "      <td>0</td>\n",
       "      <td>360</td>\n",
       "      <td>NaN</td>\n",
       "      <td>['SuperTennisTv', 'CasperRuud98', 'steftsitsip...</td>\n",
       "    </tr>\n",
       "    <tr>\n",
       "      <th>34967</th>\n",
       "      <td>1461093966556893187</td>\n",
       "      <td>pinkbassist</td>\n",
       "      <td>Wed Nov 17 22:08:42 +0000 2021</td>\n",
       "      <td>💗 Bellissimo pensiero di @CasperRuud98 per gli...</td>\n",
       "      <td>0</td>\n",
       "      <td>['tennis', 'NittoATPFinals']</td>\n",
       "      <td>Toronto</td>\n",
       "      <td>False</td>\n",
       "      <td>0</td>\n",
       "      <td>703</td>\n",
       "      <td>NaN</td>\n",
       "      <td>['SuperTennisTv', 'CasperRuud98', 'steftsitsip...</td>\n",
       "    </tr>\n",
       "    <tr>\n",
       "      <th>34968</th>\n",
       "      <td>1461101661758361600</td>\n",
       "      <td>GrantMcKenzie10</td>\n",
       "      <td>Wed Nov 17 22:39:16 +0000 2021</td>\n",
       "      <td>The GREATEST defender of all time...\\n\\nNovak....</td>\n",
       "      <td>0</td>\n",
       "      <td>['NittoATPFinals']</td>\n",
       "      <td>Elgin, Scotland</td>\n",
       "      <td>False</td>\n",
       "      <td>0</td>\n",
       "      <td>340</td>\n",
       "      <td>NaN</td>\n",
       "      <td>['TennisTV', 'DjokerNole']</td>\n",
       "    </tr>\n",
       "  </tbody>\n",
       "</table>\n",
       "</div>"
      ],
      "text/plain": [
       "                        id  ...                                      user_mentions\n",
       "34964  1461093924110491649  ...                       ['TennisTV', 'CasperRuud98']\n",
       "34965  1461093952535384075  ...                        ['atptour', 'CasperRuud98']\n",
       "34966  1461093959715930121  ...  ['SuperTennisTv', 'CasperRuud98', 'steftsitsip...\n",
       "34967  1461093966556893187  ...  ['SuperTennisTv', 'CasperRuud98', 'steftsitsip...\n",
       "34968  1461101661758361600  ...                         ['TennisTV', 'DjokerNole']\n",
       "\n",
       "[5 rows x 12 columns]"
      ]
     },
     "execution_count": 17,
     "metadata": {},
     "output_type": "execute_result"
    }
   ],
   "source": [
    "df_merge.tail()"
   ]
  },
  {
   "cell_type": "markdown",
   "metadata": {
    "id": "iY28vhKQN5M4"
   },
   "source": [
    "# 2. ETL\n",
    "**NATALIA**\n",
    "\n",
    "\n",
    "\n",
    "1.   rimuovere #\n",
    "2.   rimuovere id doppi\n",
    "1.   rimuovere http\n",
    "2.   rimuovere twitter con testo vuoto\n",
    "1.   rimuovere @\n",
    "\n",
    "\n",
    "\n",
    "file input: nucleare/ETL/twitter_merged_from_scraping.csv\n",
    "\n",
    "cartella output: nucleare/DWH/"
   ]
  },
  {
   "cell_type": "code",
   "execution_count": null,
   "metadata": {
    "id": "Lb72DopJvDNt"
   },
   "outputs": [],
   "source": []
  },
  {
   "cell_type": "markdown",
   "metadata": {
    "id": "p_O5Tw5nhIPI"
   },
   "source": [
    "# 3. Sentiment\n",
    "MARCO"
   ]
  },
  {
   "cell_type": "code",
   "execution_count": null,
   "metadata": {
    "id": "GXEg0QEgvgsH"
   },
   "outputs": [],
   "source": []
  },
  {
   "cell_type": "markdown",
   "metadata": {
    "id": "te5iKhdZhKhS"
   },
   "source": [
    "# 4. BoW\n",
    "\n",
    "TONE'"
   ]
  },
  {
   "cell_type": "code",
   "execution_count": null,
   "metadata": {
    "id": "Txx7ELQWyt8O"
   },
   "outputs": [],
   "source": []
  },
  {
   "cell_type": "markdown",
   "metadata": {
    "id": "z7-bSqpxyl3X"
   },
   "source": [
    "# 5. Word embeddings"
   ]
  },
  {
   "cell_type": "code",
   "execution_count": null,
   "metadata": {
    "id": "jpxFJs7uytJe"
   },
   "outputs": [],
   "source": []
  },
  {
   "cell_type": "markdown",
   "metadata": {
    "id": "0lfMGMxdypst"
   },
   "source": [
    "# 6. Lime"
   ]
  },
  {
   "cell_type": "code",
   "execution_count": null,
   "metadata": {
    "id": "eOBsslToysP2"
   },
   "outputs": [],
   "source": []
  },
  {
   "cell_type": "markdown",
   "metadata": {
    "id": "lyhEC_7ShQUW"
   },
   "source": [
    "# \"SocialNetwork Analisys\""
   ]
  },
  {
   "cell_type": "code",
   "execution_count": null,
   "metadata": {
    "id": "a-Qbz_M9yydn"
   },
   "outputs": [],
   "source": []
  }
 ],
 "metadata": {
  "colab": {
   "collapsed_sections": [],
   "name": "main.ipynb",
   "provenance": []
  },
  "kernelspec": {
   "display_name": "Python 3 (ipykernel)",
   "language": "python",
   "name": "python3"
  },
  "language_info": {
   "codemirror_mode": {
    "name": "ipython",
    "version": 3
   },
   "file_extension": ".py",
   "mimetype": "text/x-python",
   "name": "python",
   "nbconvert_exporter": "python",
   "pygments_lexer": "ipython3",
   "version": "3.9.8"
  }
 },
 "nbformat": 4,
 "nbformat_minor": 4
}
